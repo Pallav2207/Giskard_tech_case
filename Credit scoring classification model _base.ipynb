{
 "cells": [
  {
   "cell_type": "markdown",
   "metadata": {
    "id": "-pvKxJjsNSoE",
    "pycharm": {
     "name": "#%% md\n"
    }
   },
   "source": [
    "![giskard_logo.png](https://raw.githubusercontent.com/Giskard-AI/giskard/main/readme/Logo_full_darkgreen.png)"
   ]
  },
  {
   "cell_type": "markdown",
   "metadata": {
    "cell_id": "a9b17467105f4031a3f9eae70ef4138f",
    "deepnote_cell_height": 134,
    "deepnote_cell_type": "markdown",
    "id": "PKcOi3D37xbW",
    "pycharm": {
     "name": "#%% md\n"
    },
    "tags": []
   },
   "source": [
    "# About Giskard\n",
    "\n",
    "Open-Source CI/CD platform for ML teams. Deliver ML products, better & faster. \n",
    "\n",
    "*   Collaborate faster with feedback from business stakeholders.\n",
    "*   Deploy automated tests to eliminate regressions, errors & biases.\n",
    "\n",
    "🏡 [Website](https://giskard.ai/)\n",
    "\n",
    "📗 [Documentation](https://docs.giskard.ai/)"
   ]
  },
  {
   "cell_type": "markdown",
   "metadata": {},
   "source": [
    "## Installing `giskard`"
   ]
  },
  {
   "cell_type": "code",
   "execution_count": 1,
   "metadata": {
    "collapsed": true
   },
   "outputs": [
    {
     "name": "stdout",
     "output_type": "stream",
     "text": [
      "Requirement already satisfied: giskard in /Users/pahu/opt/anaconda3/lib/python3.9/site-packages (1.9.1)\n",
      "Requirement already satisfied: beautifulsoup4<5.0.0,>=4.11.1 in /Users/pahu/opt/anaconda3/lib/python3.9/site-packages (from giskard) (4.11.1)\n",
      "Requirement already satisfied: click<9.0.0,>=8.1.3 in /Users/pahu/opt/anaconda3/lib/python3.9/site-packages (from giskard) (8.1.3)\n",
      "Requirement already satisfied: cloudpickle<3.0.0,>=2.1.0 in /Users/pahu/opt/anaconda3/lib/python3.9/site-packages (from giskard) (2.2.1)\n",
      "Requirement already satisfied: eli5<0.14.0,>=0.13.0 in /Users/pahu/opt/anaconda3/lib/python3.9/site-packages (from giskard) (0.13.0)\n",
      "Requirement already satisfied: grpcio<=1.51.1,>=1.46.3 in /Users/pahu/opt/anaconda3/lib/python3.9/site-packages (from giskard) (1.51.1)\n",
      "Requirement already satisfied: grpcio-status<=1.51.1,>=1.46.3 in /Users/pahu/opt/anaconda3/lib/python3.9/site-packages (from giskard) (1.48.2)\n",
      "Requirement already satisfied: importlib_metadata<5.0.0,>=4.11.4 in /Users/pahu/opt/anaconda3/lib/python3.9/site-packages (from giskard) (4.13.0)\n",
      "Requirement already satisfied: ipython<8.0.0,>=7.0.0 in /Users/pahu/opt/anaconda3/lib/python3.9/site-packages (from giskard) (7.34.0)\n",
      "Requirement already satisfied: lockfile<0.13.0,>=0.12.2 in /Users/pahu/opt/anaconda3/lib/python3.9/site-packages (from giskard) (0.12.2)\n",
      "Requirement already satisfied: mixpanel<5.0.0,>=4.10.0 in /Users/pahu/opt/anaconda3/lib/python3.9/site-packages (from giskard) (4.10.0)\n",
      "Requirement already satisfied: numpy<1.22.0,>=1.21.6 in /Users/pahu/opt/anaconda3/lib/python3.9/site-packages (from giskard) (1.21.6)\n",
      "Requirement already satisfied: pandas<2.0.0,>=1.3.5 in /Users/pahu/opt/anaconda3/lib/python3.9/site-packages (from giskard) (1.5.3)\n",
      "Requirement already satisfied: protobuf<4.0.0,>=3.9.2 in /Users/pahu/opt/anaconda3/lib/python3.9/site-packages (from giskard) (3.19.1)\n",
      "Requirement already satisfied: psutil<6.0.0,>=5.9.2 in /Users/pahu/opt/anaconda3/lib/python3.9/site-packages (from giskard) (5.9.5)\n",
      "Requirement already satisfied: pydantic<2.0.0,>=1.10.2 in /Users/pahu/opt/anaconda3/lib/python3.9/site-packages (from giskard) (1.10.7)\n",
      "Requirement already satisfied: python-daemon<3.0.0,>=2.3.1 in /Users/pahu/opt/anaconda3/lib/python3.9/site-packages (from giskard) (2.3.2)\n",
      "Requirement already satisfied: requests<3.0.0,>=2.28.1 in /Users/pahu/opt/anaconda3/lib/python3.9/site-packages (from giskard) (2.28.2)\n",
      "Requirement already satisfied: requests-toolbelt<0.10.0,>=0.9.1 in /Users/pahu/opt/anaconda3/lib/python3.9/site-packages (from giskard) (0.9.1)\n",
      "Requirement already satisfied: scikit-learn<1.1.0,>=1.0.0 in /Users/pahu/opt/anaconda3/lib/python3.9/site-packages (from giskard) (1.0.2)\n",
      "Requirement already satisfied: scipy<1.8,>=1.7.2 in /Users/pahu/opt/anaconda3/lib/python3.9/site-packages (from giskard) (1.7.3)\n",
      "Requirement already satisfied: setuptools<68.0.0,>=65.4.1 in /Users/pahu/opt/anaconda3/lib/python3.9/site-packages (from giskard) (65.6.3)\n",
      "Requirement already satisfied: shap<0.42.0,>=0.41.0 in /Users/pahu/opt/anaconda3/lib/python3.9/site-packages (from giskard) (0.41.0)\n",
      "Requirement already satisfied: tenacity<9.0.0,>=8.1.0 in /Users/pahu/opt/anaconda3/lib/python3.9/site-packages (from giskard) (8.2.2)\n",
      "Requirement already satisfied: tqdm<5.0.0,>=4.64.1 in /Users/pahu/opt/anaconda3/lib/python3.9/site-packages (from giskard) (4.64.1)\n",
      "Requirement already satisfied: zstandard==0.20.0 in /Users/pahu/opt/anaconda3/lib/python3.9/site-packages (from giskard) (0.20.0)\n",
      "Requirement already satisfied: soupsieve>1.2 in /Users/pahu/opt/anaconda3/lib/python3.9/site-packages (from beautifulsoup4<5.0.0,>=4.11.1->giskard) (2.3.1)\n",
      "Requirement already satisfied: attrs>17.1.0 in /Users/pahu/opt/anaconda3/lib/python3.9/site-packages (from eli5<0.14.0,>=0.13.0->giskard) (21.4.0)\n",
      "Requirement already satisfied: jinja2>=3.0.0 in /Users/pahu/opt/anaconda3/lib/python3.9/site-packages (from eli5<0.14.0,>=0.13.0->giskard) (3.1.2)\n",
      "Requirement already satisfied: six in /Users/pahu/opt/anaconda3/lib/python3.9/site-packages (from eli5<0.14.0,>=0.13.0->giskard) (1.16.0)\n",
      "Requirement already satisfied: graphviz in /Users/pahu/opt/anaconda3/lib/python3.9/site-packages (from eli5<0.14.0,>=0.13.0->giskard) (0.20.1)\n",
      "Requirement already satisfied: tabulate>=0.7.7 in /Users/pahu/opt/anaconda3/lib/python3.9/site-packages (from eli5<0.14.0,>=0.13.0->giskard) (0.8.9)\n",
      "Requirement already satisfied: googleapis-common-protos>=1.5.5 in /Users/pahu/opt/anaconda3/lib/python3.9/site-packages (from grpcio-status<=1.51.1,>=1.46.3->giskard) (1.53.0)\n",
      "Requirement already satisfied: zipp>=0.5 in /Users/pahu/opt/anaconda3/lib/python3.9/site-packages (from importlib_metadata<5.0.0,>=4.11.4->giskard) (3.7.0)\n",
      "Requirement already satisfied: jedi>=0.16 in /Users/pahu/opt/anaconda3/lib/python3.9/site-packages (from ipython<8.0.0,>=7.0.0->giskard) (0.18.1)\n",
      "Requirement already satisfied: decorator in /Users/pahu/opt/anaconda3/lib/python3.9/site-packages (from ipython<8.0.0,>=7.0.0->giskard) (5.1.1)\n",
      "Requirement already satisfied: pickleshare in /Users/pahu/opt/anaconda3/lib/python3.9/site-packages (from ipython<8.0.0,>=7.0.0->giskard) (0.7.5)\n",
      "Requirement already satisfied: traitlets>=4.2 in /Users/pahu/opt/anaconda3/lib/python3.9/site-packages (from ipython<8.0.0,>=7.0.0->giskard) (5.1.1)\n",
      "Requirement already satisfied: prompt-toolkit!=3.0.0,!=3.0.1,<3.1.0,>=2.0.0 in /Users/pahu/opt/anaconda3/lib/python3.9/site-packages (from ipython<8.0.0,>=7.0.0->giskard) (3.0.20)\n",
      "Requirement already satisfied: pygments in /Users/pahu/opt/anaconda3/lib/python3.9/site-packages (from ipython<8.0.0,>=7.0.0->giskard) (2.11.2)\n",
      "Requirement already satisfied: backcall in /Users/pahu/opt/anaconda3/lib/python3.9/site-packages (from ipython<8.0.0,>=7.0.0->giskard) (0.2.0)\n",
      "Requirement already satisfied: matplotlib-inline in /Users/pahu/opt/anaconda3/lib/python3.9/site-packages (from ipython<8.0.0,>=7.0.0->giskard) (0.1.2)\n",
      "Requirement already satisfied: pexpect>4.3 in /Users/pahu/opt/anaconda3/lib/python3.9/site-packages (from ipython<8.0.0,>=7.0.0->giskard) (4.8.0)\n",
      "Requirement already satisfied: appnope in /Users/pahu/opt/anaconda3/lib/python3.9/site-packages (from ipython<8.0.0,>=7.0.0->giskard) (0.1.2)\n",
      "Requirement already satisfied: urllib3 in /Users/pahu/opt/anaconda3/lib/python3.9/site-packages (from mixpanel<5.0.0,>=4.10.0->giskard) (1.26.9)\n",
      "Requirement already satisfied: python-dateutil>=2.8.1 in /Users/pahu/opt/anaconda3/lib/python3.9/site-packages (from pandas<2.0.0,>=1.3.5->giskard) (2.8.2)\n",
      "Requirement already satisfied: pytz>=2020.1 in /Users/pahu/opt/anaconda3/lib/python3.9/site-packages (from pandas<2.0.0,>=1.3.5->giskard) (2021.3)\n",
      "Requirement already satisfied: typing-extensions>=4.2.0 in /Users/pahu/opt/anaconda3/lib/python3.9/site-packages (from pydantic<2.0.0,>=1.10.2->giskard) (4.5.0)\n",
      "Requirement already satisfied: docutils in /Users/pahu/opt/anaconda3/lib/python3.9/site-packages (from python-daemon<3.0.0,>=2.3.1->giskard) (0.17.1)\n",
      "Requirement already satisfied: charset-normalizer<4,>=2 in /Users/pahu/opt/anaconda3/lib/python3.9/site-packages (from requests<3.0.0,>=2.28.1->giskard) (2.0.4)\n",
      "Requirement already satisfied: idna<4,>=2.5 in /Users/pahu/opt/anaconda3/lib/python3.9/site-packages (from requests<3.0.0,>=2.28.1->giskard) (3.3)\n",
      "Requirement already satisfied: certifi>=2017.4.17 in /Users/pahu/opt/anaconda3/lib/python3.9/site-packages (from requests<3.0.0,>=2.28.1->giskard) (2021.10.8)\n",
      "Requirement already satisfied: joblib>=0.11 in /Users/pahu/opt/anaconda3/lib/python3.9/site-packages (from scikit-learn<1.1.0,>=1.0.0->giskard) (1.1.0)\n",
      "Requirement already satisfied: threadpoolctl>=2.0.0 in /Users/pahu/opt/anaconda3/lib/python3.9/site-packages (from scikit-learn<1.1.0,>=1.0.0->giskard) (2.2.0)\n",
      "Requirement already satisfied: packaging>20.9 in /Users/pahu/opt/anaconda3/lib/python3.9/site-packages (from shap<0.42.0,>=0.41.0->giskard) (21.3)\n",
      "Requirement already satisfied: slicer==0.0.7 in /Users/pahu/opt/anaconda3/lib/python3.9/site-packages (from shap<0.42.0,>=0.41.0->giskard) (0.0.7)\n",
      "Requirement already satisfied: numba in /Users/pahu/opt/anaconda3/lib/python3.9/site-packages (from shap<0.42.0,>=0.41.0->giskard) (0.55.1)\n",
      "Requirement already satisfied: parso<0.9.0,>=0.8.0 in /Users/pahu/opt/anaconda3/lib/python3.9/site-packages (from jedi>=0.16->ipython<8.0.0,>=7.0.0->giskard) (0.8.3)\n"
     ]
    },
    {
     "name": "stdout",
     "output_type": "stream",
     "text": [
      "Requirement already satisfied: MarkupSafe>=2.0 in /Users/pahu/opt/anaconda3/lib/python3.9/site-packages (from jinja2>=3.0.0->eli5<0.14.0,>=0.13.0->giskard) (2.0.1)\n",
      "Requirement already satisfied: pyparsing!=3.0.5,>=2.0.2 in /Users/pahu/opt/anaconda3/lib/python3.9/site-packages (from packaging>20.9->shap<0.42.0,>=0.41.0->giskard) (3.0.4)\n",
      "Requirement already satisfied: ptyprocess>=0.5 in /Users/pahu/opt/anaconda3/lib/python3.9/site-packages (from pexpect>4.3->ipython<8.0.0,>=7.0.0->giskard) (0.7.0)\n",
      "Requirement already satisfied: wcwidth in /Users/pahu/opt/anaconda3/lib/python3.9/site-packages (from prompt-toolkit!=3.0.0,!=3.0.1,<3.1.0,>=2.0.0->ipython<8.0.0,>=7.0.0->giskard) (0.2.5)\n",
      "Requirement already satisfied: llvmlite<0.39,>=0.38.0rc1 in /Users/pahu/opt/anaconda3/lib/python3.9/site-packages (from numba->shap<0.42.0,>=0.41.0->giskard) (0.38.0)\n"
     ]
    }
   ],
   "source": [
    "!pip install giskard"
   ]
  },
  {
   "cell_type": "markdown",
   "metadata": {},
   "source": [
    "## Connect the external worker in daemon mode"
   ]
  },
  {
   "cell_type": "code",
   "execution_count": 2,
   "metadata": {},
   "outputs": [
    {
     "name": "stdout",
     "output_type": "stream",
     "text": [
      "2023-05-01 19:29:00,612 pid:44052 MainThread giskard.cli  INFO     Starting ML Worker client daemon\r\n",
      "2023-05-01 19:29:00,613 pid:44052 MainThread giskard.cli  INFO     Python: /Users/pahu/opt/anaconda3/bin/python (3.9.12)\r\n",
      "2023-05-01 19:29:00,613 pid:44052 MainThread giskard.cli  INFO     Giskard Home: /Users/pahu/giskard-home\r\n",
      "2023-05-01 19:29:00,615 pid:44052 MainThread giskard.cli_utils INFO     Writing logs to /Users/pahu/giskard-home/run/ml-worker.log\r\n"
     ]
    }
   ],
   "source": [
    "!giskard worker start -d"
   ]
  },
  {
   "cell_type": "markdown",
   "metadata": {
    "cell_id": "f35c8e8d3fbf4c0f9c01a69673c318a1",
    "deepnote_app_coordinates": {
     "h": 5,
     "w": 12,
     "x": 0,
     "y": 6
    },
    "deepnote_cell_height": 110,
    "deepnote_cell_type": "markdown",
    "id": "mJTqM-W_7xbW",
    "owner_user_id": "41ec0844-b5b7-49c2-9460-710a452f98de",
    "pycharm": {
     "name": "#%% md\n"
    },
    "tags": []
   },
   "source": [
    "# Start by creating an ML model 🚀🚀🚀"
   ]
  },
  {
   "cell_type": "markdown",
   "metadata": {
    "cell_id": "e8d609f32d5243dd917cc3104599b8d8",
    "deepnote_app_coordinates": {
     "h": 5,
     "w": 12,
     "x": 0,
     "y": 12
    },
    "deepnote_cell_height": 230,
    "deepnote_cell_type": "markdown",
    "id": "WNI85koE7xbX",
    "pycharm": {
     "name": "#%% md\n"
    },
    "tags": []
   },
   "source": [
    "Let's create a credit scoring Model using the German Credit scoring dataset [(Link](https://github.com/Giskard-AI/giskard-client/tree/main/sample_data/classification) to download the dataset)"
   ]
  },
  {
   "cell_type": "code",
   "execution_count": 4,
   "metadata": {
    "cell_id": "1d7f5390-3fb1-47b9-8488-7a55e5b465f9",
    "deepnote_app_coordinates": {
     "h": 5,
     "w": 12,
     "x": 0,
     "y": 18
    },
    "deepnote_cell_height": 315,
    "deepnote_cell_type": "code",
    "deepnote_to_be_reexecuted": false,
    "execution_millis": 798,
    "execution_start": 1652125164139,
    "id": "xEfe0KIo7xbX",
    "pycharm": {
     "name": "#%%\n"
    },
    "source_hash": "e81d6069",
    "tags": []
   },
   "outputs": [],
   "source": [
    "import pandas as pd\n",
    "\n",
    "from sklearn import model_selection\n",
    "from sklearn.preprocessing import StandardScaler\n",
    "from sklearn.preprocessing import OneHotEncoder\n",
    "from sklearn.linear_model import LogisticRegression\n",
    "from sklearn.ensemble import RandomForestClassifier\n",
    "from sklearn.pipeline import Pipeline\n",
    "from sklearn.impute import SimpleImputer\n",
    "from sklearn.compose import ColumnTransformer"
   ]
  },
  {
   "cell_type": "code",
   "execution_count": 5,
   "metadata": {
    "pycharm": {
     "name": "#%%\n"
    }
   },
   "outputs": [],
   "source": [
    "# To download and read the credit scoring dataset\n",
    "url = 'https://raw.githubusercontent.com/Giskard-AI/examples/main/datasets/credit_scoring_classification_model_dataset/german_credit_prepared.csv'\n",
    "credit = pd.read_csv(url, sep=',',engine=\"python\") #To download go to https://github.com/Giskard-AI/giskard-client/tree/main/sample_data/classification"
   ]
  },
  {
   "cell_type": "code",
   "execution_count": 6,
   "metadata": {
    "pycharm": {
     "name": "#%%\n"
    }
   },
   "outputs": [],
   "source": [
    "# Declare the type of each column in the dataset(example: category, numeric, text)\n",
    "column_types = {'default':\"category\",\n",
    "               'account_check_status':\"category\", \n",
    "               'duration_in_month':\"numeric\",\n",
    "               'credit_history':\"category\",\n",
    "               'purpose':\"category\",\n",
    "               'credit_amount':\"numeric\",\n",
    "               'savings':\"category\",\n",
    "               'present_employment_since':\"category\",\n",
    "               'installment_as_income_perc':\"numeric\",\n",
    "               'sex':\"category\",\n",
    "               'personal_status':\"category\",\n",
    "               'other_debtors':\"category\",\n",
    "               'present_residence_since':\"numeric\",\n",
    "               'property':\"category\",\n",
    "               'age':\"numeric\",\n",
    "               'other_installment_plans':\"category\",\n",
    "               'housing':\"category\",\n",
    "               'credits_this_bank':\"numeric\",\n",
    "               'job':\"category\",\n",
    "               'people_under_maintenance':\"numeric\",\n",
    "               'telephone':\"category\",\n",
    "               'foreign_worker':\"category\"}"
   ]
  },
  {
   "cell_type": "code",
   "execution_count": 7,
   "metadata": {
    "pycharm": {
     "name": "#%%\n"
    }
   },
   "outputs": [],
   "source": [
    "# feature_types is used to declare the features the model is trained on\n",
    "feature_types = {i:column_types[i] for i in column_types if i!='default'}\n",
    "\n",
    "# Pipeline to fill missing values, transform and scale the numeric columns\n",
    "columns_to_scale = [key for key in feature_types.keys() if feature_types[key]==\"numeric\"]\n",
    "numeric_transformer = Pipeline([('imputer', SimpleImputer(strategy='median')),\n",
    "    ('scaler', StandardScaler())])\n",
    "\n",
    "# Pipeline to fill missing values and one hot encode the categorical values\n",
    "columns_to_encode = [key for key in feature_types.keys() if feature_types[key]==\"category\"]\n",
    "categorical_transformer = Pipeline([\n",
    "        ('imputer', SimpleImputer(strategy='constant', fill_value='missing')),\n",
    "        ('onehot', OneHotEncoder(handle_unknown='ignore',sparse=False)) ])\n",
    "\n",
    "# Perform preprocessing of the columns with the above pipelines\n",
    "preprocessor = ColumnTransformer(\n",
    "    transformers=[\n",
    "        ('num', numeric_transformer, columns_to_scale),\n",
    "      ('cat', categorical_transformer, columns_to_encode)\n",
    "          ]\n",
    ")\n",
    "\n",
    "# Pipeline for the model Logistic Regression\n",
    "clf_logistic_regression = Pipeline(steps=[('preprocessor', preprocessor),\n",
    "                      ('classifier', LogisticRegression(max_iter =1000))])\n",
    "\n",
    "# Split the data into train and test\n",
    "Y=credit['default']\n",
    "X= credit.drop(columns=\"default\")\n",
    "X_train, X_test, Y_train, Y_test = model_selection.train_test_split(X, Y, test_size=0.20,random_state = 30, stratify = Y)"
   ]
  },
  {
   "cell_type": "code",
   "execution_count": 12,
   "metadata": {
    "pycharm": {
     "name": "#%%\n"
    }
   },
   "outputs": [
    {
     "data": {
      "text/plain": [
       "0.755"
      ]
     },
     "execution_count": 12,
     "metadata": {},
     "output_type": "execute_result"
    }
   ],
   "source": [
    "# Fit and score your model\n",
    "clf_logistic_regression.fit(X_train, Y_train)\n",
    "\n",
    "# The output is mean accuracy on the given test features and labels; which in my opinion is a wrong measure here\n",
    "clf_logistic_regression.score(X_test, Y_test)"
   ]
  },
  {
   "cell_type": "code",
   "execution_count": 120,
   "metadata": {
    "scrolled": false
   },
   "outputs": [
    {
     "name": "stdout",
     "output_type": "stream",
     "text": [
      "              precision    recall  f1-score   support\n",
      "\n",
      "     Default       0.60      0.53      0.57        60\n",
      " Not default       0.81      0.85      0.83       140\n",
      "\n",
      "    accuracy                           0.76       200\n",
      "   macro avg       0.71      0.69      0.70       200\n",
      "weighted avg       0.75      0.76      0.75       200\n",
      "\n"
     ]
    },
    {
     "name": "stderr",
     "output_type": "stream",
     "text": [
      "/Users/pahu/opt/anaconda3/lib/python3.9/site-packages/sklearn/utils/deprecation.py:87: FutureWarning: Function plot_confusion_matrix is deprecated; Function `plot_confusion_matrix` is deprecated in 1.0 and will be removed in 1.2. Use one of the class methods: ConfusionMatrixDisplay.from_predictions or ConfusionMatrixDisplay.from_estimator.\n",
      "  warnings.warn(msg, category=FutureWarning)\n"
     ]
    },
    {
     "data": {
      "image/png": "[encoded data removed]",
      "text/plain": [
       "<Figure size 432x288 with 2 Axes>"
      ]
     },
     "metadata": {
      "needs_background": "light"
     },
     "output_type": "display_data"
    }
   ],
   "source": [
    "# comparing other Evaluation metrics as well\n",
    "from sklearn.metrics import classification_report, auc, roc_curve, confusion_matrix, plot_confusion_matrix\n",
    "\n",
    "Y_pred = clf_logistic_regression.predict(X_test)\n",
    "\n",
    "# generate classification report\n",
    "label_names = ['Default', 'Not default']\n",
    "\n",
    "print(classification_report(Y_test, Y_pred, target_names=label_names))\n",
    "\n",
    "# generate confusion matrix\n",
    "cm = confusion_matrix(Y_test, Y_pred)\n",
    "plot_confusion_matrix(clf_logistic_regression, X_test, Y_test, cmap=plt.cm.Reds)\n",
    "plt.show()"
   ]
  },
  {
   "cell_type": "code",
   "execution_count": null,
   "metadata": {},
   "outputs": [],
   "source": [
    "# # changing cutoff for \n",
    "# Y_pred_class_cutoff = np.where(Y_prob >0.7, 1, 0)\n",
    "# Y_pred_class_cutoff.sum()"
   ]
  },
  {
   "cell_type": "code",
   "execution_count": 138,
   "metadata": {},
   "outputs": [
    {
     "data": {
      "image/png": "[encoded data removed]",
      "text/plain": [
       "<Figure size 432x288 with 1 Axes>"
      ]
     },
     "metadata": {
      "needs_background": "light"
     },
     "output_type": "display_data"
    }
   ],
   "source": [
    "import numpy as np\n",
    "import matplotlib.pyplot as plt\n",
    "\n",
    "Y_prob = clf_logistic_regression.predict_proba(X_test)[:, 1]\n",
    "\n",
    "# convert Y_test_aug and Y_prob to NumPy arrays if they are not already\n",
    "Y_test_aug = np.array(Y_test)\n",
    "Y_prob = np.array(Y_prob)\n",
    "\n",
    "\n",
    "# convert Y_test_aug to binary encoding if it is not already\n",
    "Y_test_aug = np.where(Y_test_aug == 'Not default', 1, 0)\n",
    "# print(Y_test_aug.sum())\n",
    "\n",
    "# calculate false positive rate (fpr) and true positive rate (tpr) for ROC curve\n",
    "fpr, tpr, thresholds = roc_curve(Y_test_aug, Y_prob)\n",
    "roc_auc = auc(fpr, tpr)\n",
    "\n",
    "# plot ROC curve\n",
    "plt.plot(fpr, tpr, label='ROC curve (area = %0.2f)' % roc_auc)\n",
    "plt.plot([0, 1], [0, 1], 'k--')\n",
    "plt.xlim([0.0, 1.0])\n",
    "plt.ylim([0.0, 1.05])\n",
    "plt.xlabel('False Positive Rate')\n",
    "plt.ylabel('True Positive Rate')\n",
    "plt.title('Receiver Operating Characteristic')\n",
    "plt.legend(loc=\"lower right\")\n",
    "plt.show()"
   ]
  },
  {
   "cell_type": "code",
   "execution_count": 13,
   "metadata": {
    "pycharm": {
     "name": "#%%\n"
    }
   },
   "outputs": [],
   "source": [
    "# Prepare data to upload on Giskard\n",
    "train_data = pd.concat([X_train, Y_train], axis=1)\n",
    "test_data = pd.concat([X_test, Y_test ], axis=1)"
   ]
  },
  {
   "cell_type": "markdown",
   "metadata": {
    "pycharm": {
     "name": "#%% md\n"
    }
   },
   "source": [
    "# Upload the model in Giskard 🚀🚀🚀"
   ]
  },
  {
   "cell_type": "markdown",
   "metadata": {
    "pycharm": {
     "name": "#%% md\n"
    }
   },
   "source": [
    "### Initiate a project"
   ]
  },
  {
   "cell_type": "code",
   "execution_count": null,
   "metadata": {
    "pycharm": {
     "name": "#%%\n"
    }
   },
   "outputs": [],
   "source": [
    "from giskard import GiskardClient\n",
    "\n",
    "url = \"http://localhost:19000\" #if Giskard is installed locally (for installation, see: https://docs.giskard.ai/start/guides/installation)\n",
    "#url = \"http://app.giskard.ai\" # If you want to upload on giskard URL\n",
    "token = \"YOUR GENERATED TOKEN\" #you can generate your API token in the Admin tab of the Giskard application (for installation, see: https://docs.giskard.ai/start/guides/installation)\n",
    "\n",
    "client = GiskardClient(url, token)\n",
    "\n",
    "# your_project = client.create_project(\"project_key\", \"PROJECT_NAME\", \"DESCRIPTION\")\n",
    "# Choose the arguments you want. But \"project_key\" should be unique and in lower case\n",
    "credit_scoring = client.create_project(\"credit_scoring\", \"German Credit Scoring\", \"Project to predict if user will default\")\n",
    "\n",
    "# If you've already created a project with the key \"credit-scoring\" use\n",
    "#credit_scoring = client.get_project(\"credit_scoring\")\n"
   ]
  },
  {
   "cell_type": "markdown",
   "metadata": {
    "pycharm": {
     "name": "#%% md\n"
    }
   },
   "source": [
    "### Upload your model and a dataset (see [documentation](https://docs.giskard.ai/start/guides/upload-your-model))"
   ]
  },
  {
   "cell_type": "code",
   "execution_count": null,
   "metadata": {
    "pycharm": {
     "name": "#%%\n"
    }
   },
   "outputs": [],
   "source": [
    "credit_scoring.upload_model_and_df(\n",
    "    prediction_function=clf_logistic_regression.predict_proba, # Python function which takes pandas dataframe as input and returns probabilities for classification model OR returns predictions for regression model\n",
    "    model_type='classification', # \"classification\" for classification model OR \"regression\" for regression model\n",
    "    df=test_data, # the dataset you want to use to inspect your model\n",
    "    column_types=column_types, # A dictionary with columns names of df as key and types(category, numeric, text) of columns as values\n",
    "    target='default', # The column name in df corresponding to the actual target variable (ground truth).\n",
    "    feature_names=list(feature_types.keys()), # List of the feature names of prediction_function\n",
    "    classification_labels=clf_logistic_regression.classes_ ,  # List of the classification labels of your prediction\n",
    "    model_name='logistic_regression_v1', # Name of the model\n",
    "    dataset_name='test_data' # Name of the dataset\n",
    ")"
   ]
  },
  {
   "cell_type": "markdown",
   "metadata": {
    "pycharm": {
     "name": "#%% md\n"
    }
   },
   "source": [
    "### 🌟 If you want to upload a dataset without a model\n",
    "\n",
    "\n",
    "\n",
    "\n"
   ]
  },
  {
   "cell_type": "markdown",
   "metadata": {
    "pycharm": {
     "name": "#%% md\n"
    }
   },
   "source": [
    "For example, let's upload the train set in Giskard, this is key to create drift tests in Giskard.\n"
   ]
  },
  {
   "cell_type": "code",
   "execution_count": null,
   "metadata": {
    "pycharm": {
     "name": "#%%\n"
    }
   },
   "outputs": [],
   "source": [
    "credit_scoring.upload_df(\n",
    "    df=train_data, # The dataset you want to upload\n",
    "    column_types=column_types, # All the column types of df\n",
    "    target=\"default\", # Do not pass this parameter if dataset doesn't contain target column\n",
    "    name=\"train_data\" # Name of the dataset\n",
    ")"
   ]
  },
  {
   "cell_type": "markdown",
   "metadata": {
    "pycharm": {
     "name": "#%% md\n"
    }
   },
   "source": [
    "You can also upload new production data to use it as a validation set for your existing model. In that case, you might not have the ground truth target variable"
   ]
  },
  {
   "cell_type": "code",
   "execution_count": null,
   "metadata": {
    "pycharm": {
     "name": "#%%\n"
    }
   },
   "outputs": [],
   "source": [
    "production_data = credit.drop(columns=\"default\")"
   ]
  },
  {
   "cell_type": "code",
   "execution_count": null,
   "metadata": {
    "pycharm": {
     "name": "#%%\n"
    }
   },
   "outputs": [],
   "source": [
    "credit_scoring.upload_df(\n",
    "    df=production_data, # The dataset you want to upload\n",
    "    column_types=feature_types, # All the column types without the target\n",
    "    name=\"production_data\"# Name of the dataset\n",
    ")"
   ]
  },
  {
   "cell_type": "markdown",
   "metadata": {
    "pycharm": {
     "name": "#%% md\n"
    }
   },
   "source": []
  },
  {
   "cell_type": "markdown",
   "metadata": {
    "pycharm": {
     "name": "#%% md\n"
    }
   },
   "source": [
    "### 🌟 If you just want to upload a model without a dataframe \n",
    "\n",
    "This happens for instance when you built a new version of the model and you want to inspect it using a validation dataframe that is already in Giskard\n",
    "\n",
    "For example, let's create a second version of the model using random forest"
   ]
  },
  {
   "cell_type": "code",
   "execution_count": null,
   "metadata": {
    "pycharm": {
     "name": "#%%\n"
    }
   },
   "outputs": [],
   "source": [
    "clf_random_forest = Pipeline(steps=[('preprocessor', preprocessor),\n",
    "                      ('classifier', RandomForestClassifier(max_depth=10,random_state=0))])\n",
    "\n",
    "clf_random_forest.fit(X_train, Y_train)\n",
    "clf_random_forest.score(X_test, Y_test)"
   ]
  },
  {
   "cell_type": "code",
   "execution_count": null,
   "metadata": {
    "pycharm": {
     "name": "#%%\n"
    }
   },
   "outputs": [],
   "source": [
    "credit_scoring.upload_model(\n",
    "    prediction_function=clf_random_forest.predict_proba, # Python function which takes pandas dataframe as input and returns probabilities for classification model OR returns predictions for regression model\n",
    "    model_type='classification', # \"classification\" for classification model OR \"regression\" for regression model\n",
    "    feature_names=list(feature_types.keys()), # List of the feature names of prediction_function\n",
    "    name='random_forest', # Name of the model\n",
    "    validate_df=train_data, # Optional. Validation df is not uploaded in the app, it's only used to check whether the model has the good format\n",
    "    target=\"default\", # Optional. target should be a column of validate_df. Pass this parameter only if validate_df is being passed\n",
    "    classification_labels=[\"Default\",\"Not default\"] # List of the classification labels of your prediction\n",
    "\n",
    ")"
   ]
  },
  {
   "cell_type": "markdown",
   "metadata": {
    "cell_id": "c49894d61f544e8f88030b7be8078c6b",
    "deepnote_app_coordinates": {
     "h": 5,
     "w": 12,
     "x": 0,
     "y": 96
    },
    "deepnote_cell_height": 62,
    "deepnote_cell_type": "markdown",
    "id": "DGQ50rUN7xbe",
    "pycharm": {
     "name": "#%% md\n"
    },
    "tags": []
   },
   "source": [
    "### Happy Exploration ! 🧑‍🚀"
   ]
  }
 ],
 "metadata": {
  "colab": {
   "collapsed_sections": [],
   "name": "German_credit_scoring_giskard (2).ipynb",
   "provenance": []
  },
  "deepnote": {
   "is_reactive": false
  },
  "deepnote_app_layout": "article",
  "deepnote_execution_queue": [],
  "deepnote_notebook_id": "6e7ea85d-f19e-4d05-90a4-44b7668fd037",
  "kernelspec": {
   "display_name": "Python 3 (ipykernel)",
   "language": "python",
   "name": "python3"
  },
  "language_info": {
   "codemirror_mode": {
    "name": "ipython",
    "version": 3
   },
   "file_extension": ".py",
   "mimetype": "text/x-python",
   "name": "python",
   "nbconvert_exporter": "python",
   "pygments_lexer": "ipython3",
   "version": "3.9.12"
  }
 },
 "nbformat": 4,
 "nbformat_minor": 1
}
