{
 "cells": [
  {
   "cell_type": "markdown",
   "metadata": {},
   "source": [
    "# ``Summary``\n",
    "\n",
    "## Data Augmentations performed :\n",
    "\n",
    "> ### 1. Feature Engineering : \n",
    ">\n",
    ">    1.1 Categorical Encoding changed from Onehot to Target-encoding (WOE encoding)\n",
    ">    \n",
    ">    1.2 Numerical Feature binning, Scaling and creation\n",
    ">    \n",
    ">    1.3 Interaction Variables Creation\n",
    "\n",
    "> ### 2. Imbalanced data handling:\n",
    "    2.1 Synthetic random sampling using SMOTE, SmoteTOMEK\n",
    "    \n",
    "> ### 3. Feature Selection and Regularization :\n",
    ">\n",
    ">    3.1 Lasso and Ridge trials with base logistic model\n",
    ">    \n",
    ">    3.2 Feature selection trials based on top K features (F-clasif, chi-squared) and logits p-value significance\n",
    "\n",
    "\n",
    "## Conclusion and Observations:\n",
    "\n",
    "> * As we are performing an imbalanced classification task of credit scoring, Accuracy would not be a good metric to observe. Also, business would bleed more if we wrongly predict defaults as non-defaults; vis-a-vis non-defaults as defaults (Recall of defaults vs Recall of non-defaults), a focus on precision-recall tradeoff for defaults, F1-score and auc-roc should be kept over accuracy.\n",
    ">\n",
    ">\n",
    "> * Various combinations of the above augmentations were tried, and best performance across the selected classification metrics was observed in the setup with Weight-of-evidence encoding (WOE) + all base features + SMOTEtomek sampling was achieved.\n",
    ">\n",
    ">\n",
    "> * For around 3% loss in overall test-accuracy, we were able to achieve 32% increase in Recall for default-class with 6% drop in precision, achieve 10% increase in Precision for non-default class with 15% drop in Recall. Overall a 2% increase in overall macro-F1 score and 0.5 basis-points increase in Auc-roc metric\n"
   ]
  },
  {
   "cell_type": "markdown",
   "metadata": {},
   "source": [
    "# Assigned Task\n",
    "\n",
    "In this exercise, we ask you to improve the performance of this model using data augmentation. \n",
    "\n",
    "To do that, we’ll ask you to \n",
    "\n",
    "1. Generate some new data examples\n",
    "2. Retrain the same logistic regression model with the new data examples\n",
    "3. Compute the performance metrics of your new model. It should be higher than the initial model trained with the non-augmented data\n",
    "\n",
    "You can propose any data augmentation strategy, but\n",
    "\n",
    "- We ask you to propose at least two data augmentation techniques\n",
    "- Focus your data augmentation strategy on data slices that underperform. For instance, the following data slices have low performances:\n",
    "    1. `credit_history == ”all credits at this bank paid back duly”` \n",
    "    2. `purpose== ”Other”` \n",
    "    3. `duration_in_month==36` \n",
    "    4. `account_check_status == \"<0 DM”` \n",
    "    \n",
    "- Don’t overfit your validation dataset. We strongly value augmentation strategies that come from domain knowledge/heuristics instead of brute force\n",
    "\n",
    "Hints: To get some domain intuition on the behavior of your model, you can use the AI Inspector of Giskard. See the installation and the upload process in the doc. This is not a mandatory requirement!"
   ]
  },
  {
   "cell_type": "code",
   "execution_count": 251,
   "metadata": {
    "cell_id": "1d7f5390-3fb1-47b9-8488-7a55e5b465f9",
    "deepnote_app_coordinates": {
     "h": 5,
     "w": 12,
     "x": 0,
     "y": 18
    },
    "deepnote_cell_height": 315,
    "deepnote_cell_type": "code",
    "deepnote_to_be_reexecuted": false,
    "execution_millis": 798,
    "execution_start": 1652125164139,
    "id": "xEfe0KIo7xbX",
    "pycharm": {
     "name": "#%%\n"
    },
    "source_hash": "e81d6069",
    "tags": []
   },
   "outputs": [],
   "source": [
    "import pandas as pd\n",
    "\n",
    "from sklearn import model_selection\n",
    "from sklearn.preprocessing import StandardScaler\n",
    "from sklearn.preprocessing import OneHotEncoder\n",
    "from sklearn.linear_model import LogisticRegression\n",
    "from sklearn.ensemble import RandomForestClassifier\n",
    "from sklearn.pipeline import Pipeline\n",
    "from sklearn.impute import SimpleImputer\n",
    "from sklearn.compose import ColumnTransformer"
   ]
  },
  {
   "cell_type": "code",
   "execution_count": 252,
   "metadata": {},
   "outputs": [],
   "source": [
    "import seaborn as sns\n",
    "import matplotlib.pyplot as plt\n",
    "from ydata_profiling import ProfileReport"
   ]
  },
  {
   "cell_type": "code",
   "execution_count": 253,
   "metadata": {},
   "outputs": [],
   "source": [
    "import numpy as np"
   ]
  },
  {
   "cell_type": "markdown",
   "metadata": {},
   "source": [
    "# Fetching and Loading dataset"
   ]
  },
  {
   "cell_type": "code",
   "execution_count": 254,
   "metadata": {
    "pycharm": {
     "name": "#%%\n"
    }
   },
   "outputs": [],
   "source": [
    "# To download and read the credit scoring dataset\n",
    "url = 'https://raw.githubusercontent.com/Giskard-AI/examples/main/datasets/credit_scoring_classification_model_dataset/german_credit_prepared.csv'\n",
    "credit = pd.read_csv(url, sep=',',engine=\"python\") \n",
    "#To download go to https://github.com/Giskard-AI/giskard-client/tree/main/sample_data/classification\n"
   ]
  },
  {
   "cell_type": "code",
   "execution_count": 255,
   "metadata": {},
   "outputs": [
    {
     "name": "stdout",
     "output_type": "stream",
     "text": [
      "<class 'pandas.core.frame.DataFrame'>\n",
      "(1000, 22)\n"
     ]
    },
    {
     "data": {
      "text/html": [
       "<div>\n",
       "<style scoped>\n",
       "    .dataframe tbody tr th:only-of-type {\n",
       "        vertical-align: middle;\n",
       "    }\n",
       "\n",
       "    .dataframe tbody tr th {\n",
       "        vertical-align: top;\n",
       "    }\n",
       "\n",
       "    .dataframe thead th {\n",
       "        text-align: right;\n",
       "    }\n",
       "</style>\n",
       "<table border=\"1\" class=\"dataframe\">\n",
       "  <thead>\n",
       "    <tr style=\"text-align: right;\">\n",
       "      <th></th>\n",
       "      <th>default</th>\n",
       "      <th>account_check_status</th>\n",
       "      <th>duration_in_month</th>\n",
       "      <th>credit_history</th>\n",
       "      <th>purpose</th>\n",
       "      <th>credit_amount</th>\n",
       "      <th>savings</th>\n",
       "      <th>present_employment_since</th>\n",
       "      <th>installment_as_income_perc</th>\n",
       "      <th>sex</th>\n",
       "      <th>...</th>\n",
       "      <th>present_residence_since</th>\n",
       "      <th>property</th>\n",
       "      <th>age</th>\n",
       "      <th>other_installment_plans</th>\n",
       "      <th>housing</th>\n",
       "      <th>credits_this_bank</th>\n",
       "      <th>job</th>\n",
       "      <th>people_under_maintenance</th>\n",
       "      <th>telephone</th>\n",
       "      <th>foreign_worker</th>\n",
       "    </tr>\n",
       "  </thead>\n",
       "  <tbody>\n",
       "    <tr>\n",
       "      <th>0</th>\n",
       "      <td>Not default</td>\n",
       "      <td>&lt; 0 DM</td>\n",
       "      <td>6</td>\n",
       "      <td>critical account/ other credits existing (not ...</td>\n",
       "      <td>domestic appliances</td>\n",
       "      <td>1169</td>\n",
       "      <td>unknown/ no savings account</td>\n",
       "      <td>.. &gt;= 7 years</td>\n",
       "      <td>4</td>\n",
       "      <td>male</td>\n",
       "      <td>...</td>\n",
       "      <td>4</td>\n",
       "      <td>real estate</td>\n",
       "      <td>67</td>\n",
       "      <td>none</td>\n",
       "      <td>own</td>\n",
       "      <td>2</td>\n",
       "      <td>skilled employee / official</td>\n",
       "      <td>1</td>\n",
       "      <td>yes, registered under the customers name</td>\n",
       "      <td>yes</td>\n",
       "    </tr>\n",
       "    <tr>\n",
       "      <th>1</th>\n",
       "      <td>Default</td>\n",
       "      <td>0 &lt;= ... &lt; 200 DM</td>\n",
       "      <td>48</td>\n",
       "      <td>existing credits paid back duly till now</td>\n",
       "      <td>domestic appliances</td>\n",
       "      <td>5951</td>\n",
       "      <td>... &lt; 100 DM</td>\n",
       "      <td>1 &lt;= ... &lt; 4 years</td>\n",
       "      <td>2</td>\n",
       "      <td>female</td>\n",
       "      <td>...</td>\n",
       "      <td>2</td>\n",
       "      <td>real estate</td>\n",
       "      <td>22</td>\n",
       "      <td>none</td>\n",
       "      <td>own</td>\n",
       "      <td>1</td>\n",
       "      <td>skilled employee / official</td>\n",
       "      <td>1</td>\n",
       "      <td>none</td>\n",
       "      <td>yes</td>\n",
       "    </tr>\n",
       "    <tr>\n",
       "      <th>2</th>\n",
       "      <td>Not default</td>\n",
       "      <td>no checking account</td>\n",
       "      <td>12</td>\n",
       "      <td>critical account/ other credits existing (not ...</td>\n",
       "      <td>(vacation - does not exist?)</td>\n",
       "      <td>2096</td>\n",
       "      <td>... &lt; 100 DM</td>\n",
       "      <td>4 &lt;= ... &lt; 7 years</td>\n",
       "      <td>2</td>\n",
       "      <td>male</td>\n",
       "      <td>...</td>\n",
       "      <td>3</td>\n",
       "      <td>real estate</td>\n",
       "      <td>49</td>\n",
       "      <td>none</td>\n",
       "      <td>own</td>\n",
       "      <td>1</td>\n",
       "      <td>unskilled - resident</td>\n",
       "      <td>2</td>\n",
       "      <td>none</td>\n",
       "      <td>yes</td>\n",
       "    </tr>\n",
       "    <tr>\n",
       "      <th>3</th>\n",
       "      <td>Not default</td>\n",
       "      <td>&lt; 0 DM</td>\n",
       "      <td>42</td>\n",
       "      <td>existing credits paid back duly till now</td>\n",
       "      <td>radio/television</td>\n",
       "      <td>7882</td>\n",
       "      <td>... &lt; 100 DM</td>\n",
       "      <td>4 &lt;= ... &lt; 7 years</td>\n",
       "      <td>2</td>\n",
       "      <td>male</td>\n",
       "      <td>...</td>\n",
       "      <td>4</td>\n",
       "      <td>if not A121 : building society savings agreeme...</td>\n",
       "      <td>45</td>\n",
       "      <td>none</td>\n",
       "      <td>for free</td>\n",
       "      <td>1</td>\n",
       "      <td>skilled employee / official</td>\n",
       "      <td>2</td>\n",
       "      <td>none</td>\n",
       "      <td>yes</td>\n",
       "    </tr>\n",
       "    <tr>\n",
       "      <th>4</th>\n",
       "      <td>Default</td>\n",
       "      <td>&lt; 0 DM</td>\n",
       "      <td>24</td>\n",
       "      <td>delay in paying off in the past</td>\n",
       "      <td>car (new)</td>\n",
       "      <td>4870</td>\n",
       "      <td>... &lt; 100 DM</td>\n",
       "      <td>1 &lt;= ... &lt; 4 years</td>\n",
       "      <td>3</td>\n",
       "      <td>male</td>\n",
       "      <td>...</td>\n",
       "      <td>4</td>\n",
       "      <td>unknown / no property</td>\n",
       "      <td>53</td>\n",
       "      <td>none</td>\n",
       "      <td>for free</td>\n",
       "      <td>2</td>\n",
       "      <td>skilled employee / official</td>\n",
       "      <td>2</td>\n",
       "      <td>none</td>\n",
       "      <td>yes</td>\n",
       "    </tr>\n",
       "  </tbody>\n",
       "</table>\n",
       "<p>5 rows × 22 columns</p>\n",
       "</div>"
      ],
      "text/plain": [
       "       default account_check_status  duration_in_month  \\\n",
       "0  Not default               < 0 DM                  6   \n",
       "1      Default    0 <= ... < 200 DM                 48   \n",
       "2  Not default  no checking account                 12   \n",
       "3  Not default               < 0 DM                 42   \n",
       "4      Default               < 0 DM                 24   \n",
       "\n",
       "                                      credit_history  \\\n",
       "0  critical account/ other credits existing (not ...   \n",
       "1           existing credits paid back duly till now   \n",
       "2  critical account/ other credits existing (not ...   \n",
       "3           existing credits paid back duly till now   \n",
       "4                    delay in paying off in the past   \n",
       "\n",
       "                        purpose  credit_amount                      savings  \\\n",
       "0           domestic appliances           1169  unknown/ no savings account   \n",
       "1           domestic appliances           5951                 ... < 100 DM   \n",
       "2  (vacation - does not exist?)           2096                 ... < 100 DM   \n",
       "3              radio/television           7882                 ... < 100 DM   \n",
       "4                     car (new)           4870                 ... < 100 DM   \n",
       "\n",
       "  present_employment_since  installment_as_income_perc     sex  ...  \\\n",
       "0            .. >= 7 years                           4    male  ...   \n",
       "1       1 <= ... < 4 years                           2  female  ...   \n",
       "2       4 <= ... < 7 years                           2    male  ...   \n",
       "3       4 <= ... < 7 years                           2    male  ...   \n",
       "4       1 <= ... < 4 years                           3    male  ...   \n",
       "\n",
       "  present_residence_since                                           property  \\\n",
       "0                       4                                        real estate   \n",
       "1                       2                                        real estate   \n",
       "2                       3                                        real estate   \n",
       "3                       4  if not A121 : building society savings agreeme...   \n",
       "4                       4                              unknown / no property   \n",
       "\n",
       "   age other_installment_plans   housing credits_this_bank  \\\n",
       "0   67                    none       own                 2   \n",
       "1   22                    none       own                 1   \n",
       "2   49                    none       own                 1   \n",
       "3   45                    none  for free                 1   \n",
       "4   53                    none  for free                 2   \n",
       "\n",
       "                           job  people_under_maintenance  \\\n",
       "0  skilled employee / official                         1   \n",
       "1  skilled employee / official                         1   \n",
       "2         unskilled - resident                         2   \n",
       "3  skilled employee / official                         2   \n",
       "4  skilled employee / official                         2   \n",
       "\n",
       "                                  telephone  foreign_worker  \n",
       "0  yes, registered under the customers name             yes  \n",
       "1                                      none             yes  \n",
       "2                                      none             yes  \n",
       "3                                      none             yes  \n",
       "4                                      none             yes  \n",
       "\n",
       "[5 rows x 22 columns]"
      ]
     },
     "execution_count": 255,
     "metadata": {},
     "output_type": "execute_result"
    }
   ],
   "source": [
    "# observing dataset type, shape and first few observations\n",
    "print(type(credit))\n",
    "print(credit.shape)\n",
    "credit.head()"
   ]
  },
  {
   "cell_type": "code",
   "execution_count": 256,
   "metadata": {
    "pycharm": {
     "name": "#%%\n"
    }
   },
   "outputs": [],
   "source": [
    "# Declare the type of each column in the dataset(example: category, numeric, text)\n",
    "column_types = {'default':\"category\",\n",
    "               'account_check_status':\"category\", \n",
    "               'duration_in_month':\"numeric\",\n",
    "               'credit_history':\"category\",\n",
    "               'purpose':\"category\",\n",
    "               'credit_amount':\"numeric\",\n",
    "               'savings':\"category\",\n",
    "               'present_employment_since':\"category\",\n",
    "               'installment_as_income_perc':\"numeric\",\n",
    "               'sex':\"category\",\n",
    "               'personal_status':\"category\",\n",
    "               'other_debtors':\"category\",\n",
    "               'present_residence_since':\"numeric\",\n",
    "               'property':\"category\",\n",
    "               'age':\"numeric\",\n",
    "               'other_installment_plans':\"category\",\n",
    "               'housing':\"category\",\n",
    "               'credits_this_bank':\"numeric\",\n",
    "               'job':\"category\",\n",
    "               'people_under_maintenance':\"numeric\",\n",
    "               'telephone':\"category\",\n",
    "               'foreign_worker':\"category\"}"
   ]
  },
  {
   "cell_type": "code",
   "execution_count": 257,
   "metadata": {},
   "outputs": [],
   "source": [
    "'''\n",
    "Split the data into train and test, \n",
    "as we will assume we only have Train samples and carry out our analysis basing on that only\n",
    "This to avoid data leakage and complete anonymity for testing set and generalization error\n",
    "'''\n",
    "Y= credit['default']\n",
    "X= credit.drop(columns=\"default\")\n",
    "X_train, X_test, Y_train, Y_test = model_selection.train_test_split(X, Y, test_size=0.20,random_state = 30, stratify = Y)\n"
   ]
  },
  {
   "cell_type": "code",
   "execution_count": 258,
   "metadata": {
    "pycharm": {
     "name": "#%%\n"
    }
   },
   "outputs": [],
   "source": [
    "# Prepare train and test data\n",
    "train_data = pd.concat([X_train, Y_train], axis=1)\n",
    "test_data = pd.concat([X_test, Y_test ], axis=1)"
   ]
  },
  {
   "cell_type": "code",
   "execution_count": 259,
   "metadata": {},
   "outputs": [
    {
     "name": "stdout",
     "output_type": "stream",
     "text": [
      "<class 'pandas.core.frame.DataFrame'>\n",
      "(800, 22)\n"
     ]
    },
    {
     "data": {
      "text/html": [
       "<div>\n",
       "<style scoped>\n",
       "    .dataframe tbody tr th:only-of-type {\n",
       "        vertical-align: middle;\n",
       "    }\n",
       "\n",
       "    .dataframe tbody tr th {\n",
       "        vertical-align: top;\n",
       "    }\n",
       "\n",
       "    .dataframe thead th {\n",
       "        text-align: right;\n",
       "    }\n",
       "</style>\n",
       "<table border=\"1\" class=\"dataframe\">\n",
       "  <thead>\n",
       "    <tr style=\"text-align: right;\">\n",
       "      <th></th>\n",
       "      <th>account_check_status</th>\n",
       "      <th>duration_in_month</th>\n",
       "      <th>credit_history</th>\n",
       "      <th>purpose</th>\n",
       "      <th>credit_amount</th>\n",
       "      <th>savings</th>\n",
       "      <th>present_employment_since</th>\n",
       "      <th>installment_as_income_perc</th>\n",
       "      <th>sex</th>\n",
       "      <th>personal_status</th>\n",
       "      <th>...</th>\n",
       "      <th>property</th>\n",
       "      <th>age</th>\n",
       "      <th>other_installment_plans</th>\n",
       "      <th>housing</th>\n",
       "      <th>credits_this_bank</th>\n",
       "      <th>job</th>\n",
       "      <th>people_under_maintenance</th>\n",
       "      <th>telephone</th>\n",
       "      <th>foreign_worker</th>\n",
       "      <th>default</th>\n",
       "    </tr>\n",
       "  </thead>\n",
       "  <tbody>\n",
       "    <tr>\n",
       "      <th>527</th>\n",
       "      <td>no checking account</td>\n",
       "      <td>4</td>\n",
       "      <td>critical account/ other credits existing (not ...</td>\n",
       "      <td>domestic appliances</td>\n",
       "      <td>1503</td>\n",
       "      <td>... &lt; 100 DM</td>\n",
       "      <td>4 &lt;= ... &lt; 7 years</td>\n",
       "      <td>2</td>\n",
       "      <td>male</td>\n",
       "      <td>single</td>\n",
       "      <td>...</td>\n",
       "      <td>real estate</td>\n",
       "      <td>42</td>\n",
       "      <td>none</td>\n",
       "      <td>own</td>\n",
       "      <td>2</td>\n",
       "      <td>unskilled - resident</td>\n",
       "      <td>2</td>\n",
       "      <td>none</td>\n",
       "      <td>yes</td>\n",
       "      <td>Not default</td>\n",
       "    </tr>\n",
       "    <tr>\n",
       "      <th>557</th>\n",
       "      <td>no checking account</td>\n",
       "      <td>21</td>\n",
       "      <td>no credits taken/ all credits paid back duly</td>\n",
       "      <td>car (new)</td>\n",
       "      <td>5003</td>\n",
       "      <td>unknown/ no savings account</td>\n",
       "      <td>1 &lt;= ... &lt; 4 years</td>\n",
       "      <td>1</td>\n",
       "      <td>female</td>\n",
       "      <td>divorced</td>\n",
       "      <td>...</td>\n",
       "      <td>if not A121 : building society savings agreeme...</td>\n",
       "      <td>29</td>\n",
       "      <td>bank</td>\n",
       "      <td>own</td>\n",
       "      <td>2</td>\n",
       "      <td>skilled employee / official</td>\n",
       "      <td>1</td>\n",
       "      <td>yes, registered under the customers name</td>\n",
       "      <td>yes</td>\n",
       "      <td>Default</td>\n",
       "    </tr>\n",
       "    <tr>\n",
       "      <th>653</th>\n",
       "      <td>0 &lt;= ... &lt; 200 DM</td>\n",
       "      <td>36</td>\n",
       "      <td>delay in paying off in the past</td>\n",
       "      <td>car (new)</td>\n",
       "      <td>8086</td>\n",
       "      <td>100 &lt;= ... &lt; 500 DM</td>\n",
       "      <td>.. &gt;= 7 years</td>\n",
       "      <td>2</td>\n",
       "      <td>male</td>\n",
       "      <td>single</td>\n",
       "      <td>...</td>\n",
       "      <td>if not A121/A122 : car or other, not in attrib...</td>\n",
       "      <td>42</td>\n",
       "      <td>none</td>\n",
       "      <td>own</td>\n",
       "      <td>4</td>\n",
       "      <td>management/ self-employed/ highly qualified em...</td>\n",
       "      <td>1</td>\n",
       "      <td>yes, registered under the customers name</td>\n",
       "      <td>yes</td>\n",
       "      <td>Default</td>\n",
       "    </tr>\n",
       "    <tr>\n",
       "      <th>301</th>\n",
       "      <td>0 &lt;= ... &lt; 200 DM</td>\n",
       "      <td>36</td>\n",
       "      <td>no credits taken/ all credits paid back duly</td>\n",
       "      <td>domestic appliances</td>\n",
       "      <td>3804</td>\n",
       "      <td>... &lt; 100 DM</td>\n",
       "      <td>1 &lt;= ... &lt; 4 years</td>\n",
       "      <td>4</td>\n",
       "      <td>female</td>\n",
       "      <td>divorced</td>\n",
       "      <td>...</td>\n",
       "      <td>if not A121/A122 : car or other, not in attrib...</td>\n",
       "      <td>42</td>\n",
       "      <td>none</td>\n",
       "      <td>own</td>\n",
       "      <td>1</td>\n",
       "      <td>skilled employee / official</td>\n",
       "      <td>1</td>\n",
       "      <td>yes, registered under the customers name</td>\n",
       "      <td>yes</td>\n",
       "      <td>Default</td>\n",
       "    </tr>\n",
       "    <tr>\n",
       "      <th>440</th>\n",
       "      <td>no checking account</td>\n",
       "      <td>12</td>\n",
       "      <td>existing credits paid back duly till now</td>\n",
       "      <td>car (new)</td>\n",
       "      <td>1884</td>\n",
       "      <td>... &lt; 100 DM</td>\n",
       "      <td>.. &gt;= 7 years</td>\n",
       "      <td>4</td>\n",
       "      <td>male</td>\n",
       "      <td>single</td>\n",
       "      <td>...</td>\n",
       "      <td>if not A121/A122 : car or other, not in attrib...</td>\n",
       "      <td>39</td>\n",
       "      <td>none</td>\n",
       "      <td>own</td>\n",
       "      <td>1</td>\n",
       "      <td>management/ self-employed/ highly qualified em...</td>\n",
       "      <td>1</td>\n",
       "      <td>yes, registered under the customers name</td>\n",
       "      <td>yes</td>\n",
       "      <td>Not default</td>\n",
       "    </tr>\n",
       "  </tbody>\n",
       "</table>\n",
       "<p>5 rows × 22 columns</p>\n",
       "</div>"
      ],
      "text/plain": [
       "    account_check_status  duration_in_month  \\\n",
       "527  no checking account                  4   \n",
       "557  no checking account                 21   \n",
       "653    0 <= ... < 200 DM                 36   \n",
       "301    0 <= ... < 200 DM                 36   \n",
       "440  no checking account                 12   \n",
       "\n",
       "                                        credit_history              purpose  \\\n",
       "527  critical account/ other credits existing (not ...  domestic appliances   \n",
       "557       no credits taken/ all credits paid back duly            car (new)   \n",
       "653                    delay in paying off in the past            car (new)   \n",
       "301       no credits taken/ all credits paid back duly  domestic appliances   \n",
       "440           existing credits paid back duly till now            car (new)   \n",
       "\n",
       "     credit_amount                      savings present_employment_since  \\\n",
       "527           1503                 ... < 100 DM       4 <= ... < 7 years   \n",
       "557           5003  unknown/ no savings account       1 <= ... < 4 years   \n",
       "653           8086          100 <= ... < 500 DM            .. >= 7 years   \n",
       "301           3804                 ... < 100 DM       1 <= ... < 4 years   \n",
       "440           1884                 ... < 100 DM            .. >= 7 years   \n",
       "\n",
       "     installment_as_income_perc     sex personal_status  ...  \\\n",
       "527                           2    male          single  ...   \n",
       "557                           1  female        divorced  ...   \n",
       "653                           2    male          single  ...   \n",
       "301                           4  female        divorced  ...   \n",
       "440                           4    male          single  ...   \n",
       "\n",
       "                                              property  age  \\\n",
       "527                                        real estate   42   \n",
       "557  if not A121 : building society savings agreeme...   29   \n",
       "653  if not A121/A122 : car or other, not in attrib...   42   \n",
       "301  if not A121/A122 : car or other, not in attrib...   42   \n",
       "440  if not A121/A122 : car or other, not in attrib...   39   \n",
       "\n",
       "    other_installment_plans  housing credits_this_bank  \\\n",
       "527                    none      own                 2   \n",
       "557                    bank      own                 2   \n",
       "653                    none      own                 4   \n",
       "301                    none      own                 1   \n",
       "440                    none      own                 1   \n",
       "\n",
       "                                                   job  \\\n",
       "527                               unskilled - resident   \n",
       "557                        skilled employee / official   \n",
       "653  management/ self-employed/ highly qualified em...   \n",
       "301                        skilled employee / official   \n",
       "440  management/ self-employed/ highly qualified em...   \n",
       "\n",
       "     people_under_maintenance                                 telephone  \\\n",
       "527                         2                                      none   \n",
       "557                         1  yes, registered under the customers name   \n",
       "653                         1  yes, registered under the customers name   \n",
       "301                         1  yes, registered under the customers name   \n",
       "440                         1  yes, registered under the customers name   \n",
       "\n",
       "     foreign_worker      default  \n",
       "527             yes  Not default  \n",
       "557             yes      Default  \n",
       "653             yes      Default  \n",
       "301             yes      Default  \n",
       "440             yes  Not default  \n",
       "\n",
       "[5 rows x 22 columns]"
      ]
     },
     "execution_count": 259,
     "metadata": {},
     "output_type": "execute_result"
    }
   ],
   "source": [
    "# Training data details\n",
    "print(type(train_data))\n",
    "print(train_data.shape)\n",
    "train_data.head()"
   ]
  },
  {
   "cell_type": "code",
   "execution_count": 260,
   "metadata": {},
   "outputs": [],
   "source": [
    "# feature_types is used to declare the features the model is trained on\n",
    "feature_types = {i:column_types[i] for i in column_types if i!='default'}"
   ]
  },
  {
   "cell_type": "code",
   "execution_count": 261,
   "metadata": {},
   "outputs": [
    {
     "data": {
      "text/plain": [
       "{'account_check_status': 'category',\n",
       " 'duration_in_month': 'numeric',\n",
       " 'credit_history': 'category',\n",
       " 'purpose': 'category',\n",
       " 'credit_amount': 'numeric',\n",
       " 'savings': 'category',\n",
       " 'present_employment_since': 'category',\n",
       " 'installment_as_income_perc': 'numeric',\n",
       " 'sex': 'category',\n",
       " 'personal_status': 'category',\n",
       " 'other_debtors': 'category',\n",
       " 'present_residence_since': 'numeric',\n",
       " 'property': 'category',\n",
       " 'age': 'numeric',\n",
       " 'other_installment_plans': 'category',\n",
       " 'housing': 'category',\n",
       " 'credits_this_bank': 'numeric',\n",
       " 'job': 'category',\n",
       " 'people_under_maintenance': 'numeric',\n",
       " 'telephone': 'category',\n",
       " 'foreign_worker': 'category'}"
      ]
     },
     "execution_count": 261,
     "metadata": {},
     "output_type": "execute_result"
    }
   ],
   "source": [
    "feature_types"
   ]
  },
  {
   "cell_type": "code",
   "execution_count": 262,
   "metadata": {
    "pycharm": {
     "name": "#%%\n"
    }
   },
   "outputs": [],
   "source": [
    "# Base model\n",
    "\n",
    "# feature_types is used to declare the features the model is trained on\n",
    "feature_types = {i:column_types[i] for i in column_types if i!='default'}\n",
    "\n",
    "# Pipeline to fill missing values, transform and scale the numeric columns\n",
    "columns_to_scale = [key for key in feature_types.keys() if feature_types[key]==\"numeric\"]\n",
    "numeric_transformer = Pipeline([('imputer', SimpleImputer(strategy='median')),\n",
    "                                ('scaler', StandardScaler())\n",
    "                               ])\n",
    "\n",
    "# Pipeline to fill missing values and one hot encode the categorical values\n",
    "columns_to_encode = [key for key in feature_types.keys() if feature_types[key]==\"category\"]\n",
    "categorical_transformer = Pipeline([('imputer', SimpleImputer(strategy='constant', fill_value='missing')),\n",
    "                                    ('onehot', OneHotEncoder(handle_unknown='ignore',sparse=False))\n",
    "                                   ])\n",
    "\n",
    "# Perform preprocessing of the columns with the above pipelines\n",
    "preprocessor = ColumnTransformer(transformers=[('num', numeric_transformer, columns_to_scale),\n",
    "                                               ('cat', categorical_transformer, columns_to_encode)\n",
    "                                              ]\n",
    "                                )\n",
    "\n",
    "# Pipeline for the model Logistic Regression\n",
    "clf_logistic_regression = Pipeline(steps=[('preprocessor', preprocessor),\n",
    "                                          ('classifier', LogisticRegression(max_iter =1000))\n",
    "                                         ]\n",
    "                                  )\n",
    "\n",
    "# Split the data into train and test\n",
    "Y=credit['default']\n",
    "X= credit.drop(columns=\"default\")\n",
    "X_train, X_test, Y_train, Y_test = model_selection.train_test_split(X, Y, test_size=0.20,\n",
    "                                                                    random_state = 30, stratify = Y)\n"
   ]
  },
  {
   "cell_type": "code",
   "execution_count": 263,
   "metadata": {
    "pycharm": {
     "name": "#%%\n"
    }
   },
   "outputs": [
    {
     "name": "stdout",
     "output_type": "stream",
     "text": [
      "Train accuracy score:  0.79\n",
      "Test accuracy score:  0.755\n"
     ]
    }
   ],
   "source": [
    "# Fit and score your model\n",
    "clf_logistic_regression.fit(X_train, Y_train)\n",
    "\n",
    "'''\n",
    "\n",
    "The output score here is mean accuracy on the given test features and labels;\n",
    "\n",
    "Which in my opinion is a wrong measure because we are dealing with imbalanced dataset,\n",
    "    where labels are in 70-30 ratio\n",
    "\n",
    "This causes our model to be biased towards majority class,\n",
    "    and thus we will have high scores even if we do a bad task at classifying risk which can be hurtful\n",
    "\n",
    "From domain knowledge of credit risk,\n",
    "    applications we predicted as non-default and they actually defualted are very hurtful to business\n",
    "    (False-positive, in our case if we consider 1: non-default, 0: default;\n",
    "        else False negatives otherwise in industry as 1 refers usually to defaults;\n",
    "        So always the aim is to improve Recall over accurcay\n",
    "    )\n",
    "    \n",
    "Also, another interesting fact is that we always get datasets with inductive biases,\n",
    "    due to samples coming from already approved people, as we don't have model this dataset to Through-the-door samples\n",
    "\n",
    "'''\n",
    "\n",
    "print(\"Train accuracy score: \", clf_logistic_regression.score(X_train, Y_train))\n",
    "print(\"Test accuracy score: \", clf_logistic_regression.score(X_test, Y_test))\n"
   ]
  },
  {
   "cell_type": "code",
   "execution_count": 264,
   "metadata": {
    "scrolled": false
   },
   "outputs": [
    {
     "name": "stdout",
     "output_type": "stream",
     "text": [
      "Training Eval \n",
      "               precision    recall  f1-score   support\n",
      "\n",
      "     Default       0.70      0.53      0.60       240\n",
      " Not default       0.82      0.90      0.86       560\n",
      "\n",
      "    accuracy                           0.79       800\n",
      "   macro avg       0.76      0.71      0.73       800\n",
      "weighted avg       0.78      0.79      0.78       800\n",
      "\n",
      "Test Eval \n",
      "               precision    recall  f1-score   support\n",
      "\n",
      "     Default       0.60      0.53      0.57        60\n",
      " Not default       0.81      0.85      0.83       140\n",
      "\n",
      "    accuracy                           0.76       200\n",
      "   macro avg       0.71      0.69      0.70       200\n",
      "weighted avg       0.75      0.76      0.75       200\n",
      "\n",
      "Training CF\n"
     ]
    },
    {
     "name": "stderr",
     "output_type": "stream",
     "text": [
      "/Users/pahu/opt/anaconda3/lib/python3.9/site-packages/sklearn/utils/deprecation.py:87: FutureWarning: Function plot_confusion_matrix is deprecated; Function `plot_confusion_matrix` is deprecated in 1.0 and will be removed in 1.2. Use one of the class methods: ConfusionMatrixDisplay.from_predictions or ConfusionMatrixDisplay.from_estimator.\n",
      "  warnings.warn(msg, category=FutureWarning)\n"
     ]
    },
    {
     "data": {
      "image/png": "[encoded data removed]",
      "text/plain": [
       "<Figure size 432x288 with 2 Axes>"
      ]
     },
     "metadata": {
      "needs_background": "light"
     },
     "output_type": "display_data"
    },
    {
     "name": "stdout",
     "output_type": "stream",
     "text": [
      "Test CF\n"
     ]
    },
    {
     "name": "stderr",
     "output_type": "stream",
     "text": [
      "/Users/pahu/opt/anaconda3/lib/python3.9/site-packages/sklearn/utils/deprecation.py:87: FutureWarning: Function plot_confusion_matrix is deprecated; Function `plot_confusion_matrix` is deprecated in 1.0 and will be removed in 1.2. Use one of the class methods: ConfusionMatrixDisplay.from_predictions or ConfusionMatrixDisplay.from_estimator.\n",
      "  warnings.warn(msg, category=FutureWarning)\n"
     ]
    },
    {
     "data": {
      "image/png": "[encoded data removed]",
      "text/plain": [
       "<Figure size 432x288 with 2 Axes>"
      ]
     },
     "metadata": {
      "needs_background": "light"
     },
     "output_type": "display_data"
    }
   ],
   "source": [
    "# comparing other Classification Evaluation metrics as well\n",
    "from sklearn.metrics import classification_report, auc, roc_curve, confusion_matrix, plot_confusion_matrix\n",
    "\n",
    "Y_pred_train = clf_logistic_regression.predict(X_train)\n",
    "Y_pred = clf_logistic_regression.predict(X_test)\n",
    "\n",
    "# generate classification report\n",
    "label_names = ['Default', 'Not default']\n",
    "\n",
    "print(\"Training Eval \\n\", classification_report(Y_train, Y_pred_train, target_names=label_names))\n",
    "print(\"Test Eval \\n\", classification_report(Y_test, Y_pred, target_names=label_names))\n",
    "\n",
    "# generate confusion matrix\n",
    "\n",
    "print(\"Training CF\")\n",
    "cm = confusion_matrix(Y_train, Y_pred_train)\n",
    "plot_confusion_matrix(clf_logistic_regression, X_train, Y_train, cmap=plt.cm.Reds)\n",
    "plt.show()\n",
    "\n",
    "print(\"Test CF\")\n",
    "cm = confusion_matrix(Y_test, Y_pred)\n",
    "plot_confusion_matrix(clf_logistic_regression, X_test, Y_test, cmap=plt.cm.Reds)\n",
    "plt.show()"
   ]
  },
  {
   "cell_type": "code",
   "execution_count": 265,
   "metadata": {
    "scrolled": true
   },
   "outputs": [
    {
     "data": {
      "image/png": "[encoded data removed]",
      "text/plain": [
       "<Figure size 432x288 with 1 Axes>"
      ]
     },
     "metadata": {
      "needs_background": "light"
     },
     "output_type": "display_data"
    }
   ],
   "source": [
    "# very minor increase in AUC-roc from base by 0.004 points\n",
    "\n",
    "import numpy as np\n",
    "import matplotlib.pyplot as plt\n",
    "\n",
    "# Run everytime we change data\n",
    "Y_train_aug = np.array(Y_train)\n",
    "Y_test_aug = np.array(Y_test)\n",
    "\n",
    "# convert Y_test_aug to binary encoding if it is not already\n",
    "Y_train_aug = np.where(Y_train_aug == 'Not default', 1, 0)\n",
    "Y_test_aug = np.where(Y_test_aug == 'Not default', 1, 0)\n",
    "\n",
    "Y_prob = clf_logistic_regression.predict_proba(X_test)[:, 1]\n",
    "\n",
    "# convert Y_test_aug and Y_prob to NumPy arrays if they are not already\n",
    "Y_prob = np.array(Y_prob)\n",
    "\n",
    "# calculate false positive rate (fpr) and true positive rate (tpr) for ROC curve\n",
    "fpr, tpr, thresholds = roc_curve(Y_test_aug, Y_prob)\n",
    "roc_auc = auc(fpr, tpr)\n",
    "\n",
    "# plot ROC curve\n",
    "plt.plot(fpr, tpr, label='ROC curve (area = %0.4f)' % roc_auc)\n",
    "plt.plot([0, 1], [0, 1], 'k--')\n",
    "plt.xlim([0.0, 1.0])\n",
    "plt.ylim([0.0, 1.05])\n",
    "plt.xlabel('False Positive Rate')\n",
    "plt.ylabel('True Positive Rate')\n",
    "plt.title('Receiver Operating Characteristic')\n",
    "plt.legend(loc=\"lower right\")\n",
    "plt.show()"
   ]
  },
  {
   "cell_type": "markdown",
   "metadata": {},
   "source": [
    "### Observations for Base model:\n",
    "\n",
    "1. We can see that we have good evaluation metrics for Non-default class vs Default; due to skewness in the data proportion and thus resulting in imbalance\n",
    "\n",
    "\n",
    "\n",
    "2. Also , we see our major concern of losing money, due high risk of predicting defualts as non-defaults is still high due to low recall value across the default-class\n"
   ]
  },
  {
   "cell_type": "code",
   "execution_count": 266,
   "metadata": {},
   "outputs": [
    {
     "data": {
      "text/html": [
       "<div>\n",
       "<style scoped>\n",
       "    .dataframe tbody tr th:only-of-type {\n",
       "        vertical-align: middle;\n",
       "    }\n",
       "\n",
       "    .dataframe tbody tr th {\n",
       "        vertical-align: top;\n",
       "    }\n",
       "\n",
       "    .dataframe thead th {\n",
       "        text-align: right;\n",
       "    }\n",
       "</style>\n",
       "<table border=\"1\" class=\"dataframe\">\n",
       "  <thead>\n",
       "    <tr style=\"text-align: right;\">\n",
       "      <th></th>\n",
       "      <th>account_check_status</th>\n",
       "      <th>duration_in_month</th>\n",
       "      <th>credit_history</th>\n",
       "      <th>purpose</th>\n",
       "      <th>credit_amount</th>\n",
       "      <th>savings</th>\n",
       "      <th>present_employment_since</th>\n",
       "      <th>installment_as_income_perc</th>\n",
       "      <th>sex</th>\n",
       "      <th>personal_status</th>\n",
       "      <th>...</th>\n",
       "      <th>present_residence_since</th>\n",
       "      <th>property</th>\n",
       "      <th>age</th>\n",
       "      <th>other_installment_plans</th>\n",
       "      <th>housing</th>\n",
       "      <th>credits_this_bank</th>\n",
       "      <th>job</th>\n",
       "      <th>people_under_maintenance</th>\n",
       "      <th>telephone</th>\n",
       "      <th>foreign_worker</th>\n",
       "    </tr>\n",
       "  </thead>\n",
       "  <tbody>\n",
       "    <tr>\n",
       "      <th>63</th>\n",
       "      <td>0 &lt;= ... &lt; 200 DM</td>\n",
       "      <td>48</td>\n",
       "      <td>no credits taken/ all credits paid back duly</td>\n",
       "      <td>business</td>\n",
       "      <td>14421</td>\n",
       "      <td>... &lt; 100 DM</td>\n",
       "      <td>1 &lt;= ... &lt; 4 years</td>\n",
       "      <td>2</td>\n",
       "      <td>male</td>\n",
       "      <td>single</td>\n",
       "      <td>...</td>\n",
       "      <td>2</td>\n",
       "      <td>if not A121/A122 : car or other, not in attrib...</td>\n",
       "      <td>25</td>\n",
       "      <td>none</td>\n",
       "      <td>own</td>\n",
       "      <td>1</td>\n",
       "      <td>skilled employee / official</td>\n",
       "      <td>1</td>\n",
       "      <td>yes, registered under the customers name</td>\n",
       "      <td>yes</td>\n",
       "    </tr>\n",
       "    <tr>\n",
       "      <th>69</th>\n",
       "      <td>no checking account</td>\n",
       "      <td>36</td>\n",
       "      <td>existing credits paid back duly till now</td>\n",
       "      <td>domestic appliances</td>\n",
       "      <td>2394</td>\n",
       "      <td>unknown/ no savings account</td>\n",
       "      <td>1 &lt;= ... &lt; 4 years</td>\n",
       "      <td>4</td>\n",
       "      <td>female</td>\n",
       "      <td>divorced</td>\n",
       "      <td>...</td>\n",
       "      <td>4</td>\n",
       "      <td>if not A121/A122 : car or other, not in attrib...</td>\n",
       "      <td>25</td>\n",
       "      <td>none</td>\n",
       "      <td>own</td>\n",
       "      <td>1</td>\n",
       "      <td>skilled employee / official</td>\n",
       "      <td>1</td>\n",
       "      <td>none</td>\n",
       "      <td>yes</td>\n",
       "    </tr>\n",
       "    <tr>\n",
       "      <th>182</th>\n",
       "      <td>&lt; 0 DM</td>\n",
       "      <td>21</td>\n",
       "      <td>all credits at this bank paid back duly</td>\n",
       "      <td>car (new)</td>\n",
       "      <td>1647</td>\n",
       "      <td>unknown/ no savings account</td>\n",
       "      <td>1 &lt;= ... &lt; 4 years</td>\n",
       "      <td>4</td>\n",
       "      <td>male</td>\n",
       "      <td>single</td>\n",
       "      <td>...</td>\n",
       "      <td>2</td>\n",
       "      <td>if not A121 : building society savings agreeme...</td>\n",
       "      <td>40</td>\n",
       "      <td>none</td>\n",
       "      <td>own</td>\n",
       "      <td>2</td>\n",
       "      <td>unskilled - resident</td>\n",
       "      <td>2</td>\n",
       "      <td>none</td>\n",
       "      <td>yes</td>\n",
       "    </tr>\n",
       "    <tr>\n",
       "      <th>314</th>\n",
       "      <td>&gt;= 200 DM / salary assignments for at least 1 ...</td>\n",
       "      <td>4</td>\n",
       "      <td>existing credits paid back duly till now</td>\n",
       "      <td>car (new)</td>\n",
       "      <td>1494</td>\n",
       "      <td>unknown/ no savings account</td>\n",
       "      <td>... &lt; 1 year</td>\n",
       "      <td>1</td>\n",
       "      <td>male</td>\n",
       "      <td>single</td>\n",
       "      <td>...</td>\n",
       "      <td>2</td>\n",
       "      <td>real estate</td>\n",
       "      <td>29</td>\n",
       "      <td>none</td>\n",
       "      <td>own</td>\n",
       "      <td>1</td>\n",
       "      <td>unskilled - resident</td>\n",
       "      <td>2</td>\n",
       "      <td>none</td>\n",
       "      <td>no</td>\n",
       "    </tr>\n",
       "    <tr>\n",
       "      <th>306</th>\n",
       "      <td>no checking account</td>\n",
       "      <td>30</td>\n",
       "      <td>existing credits paid back duly till now</td>\n",
       "      <td>car (used)</td>\n",
       "      <td>4811</td>\n",
       "      <td>unknown/ no savings account</td>\n",
       "      <td>4 &lt;= ... &lt; 7 years</td>\n",
       "      <td>2</td>\n",
       "      <td>female</td>\n",
       "      <td>divorced</td>\n",
       "      <td>...</td>\n",
       "      <td>4</td>\n",
       "      <td>if not A121 : building society savings agreeme...</td>\n",
       "      <td>24</td>\n",
       "      <td>stores</td>\n",
       "      <td>rent</td>\n",
       "      <td>1</td>\n",
       "      <td>unskilled - resident</td>\n",
       "      <td>1</td>\n",
       "      <td>none</td>\n",
       "      <td>yes</td>\n",
       "    </tr>\n",
       "  </tbody>\n",
       "</table>\n",
       "<p>5 rows × 21 columns</p>\n",
       "</div>"
      ],
      "text/plain": [
       "                                  account_check_status  duration_in_month  \\\n",
       "63                                   0 <= ... < 200 DM                 48   \n",
       "69                                 no checking account                 36   \n",
       "182                                             < 0 DM                 21   \n",
       "314  >= 200 DM / salary assignments for at least 1 ...                  4   \n",
       "306                                no checking account                 30   \n",
       "\n",
       "                                   credit_history              purpose  \\\n",
       "63   no credits taken/ all credits paid back duly             business   \n",
       "69       existing credits paid back duly till now  domestic appliances   \n",
       "182       all credits at this bank paid back duly            car (new)   \n",
       "314      existing credits paid back duly till now            car (new)   \n",
       "306      existing credits paid back duly till now           car (used)   \n",
       "\n",
       "     credit_amount                      savings present_employment_since  \\\n",
       "63           14421                 ... < 100 DM       1 <= ... < 4 years   \n",
       "69            2394  unknown/ no savings account       1 <= ... < 4 years   \n",
       "182           1647  unknown/ no savings account       1 <= ... < 4 years   \n",
       "314           1494  unknown/ no savings account             ... < 1 year   \n",
       "306           4811  unknown/ no savings account       4 <= ... < 7 years   \n",
       "\n",
       "     installment_as_income_perc     sex personal_status  ...  \\\n",
       "63                            2    male          single  ...   \n",
       "69                            4  female        divorced  ...   \n",
       "182                           4    male          single  ...   \n",
       "314                           1    male          single  ...   \n",
       "306                           2  female        divorced  ...   \n",
       "\n",
       "    present_residence_since  \\\n",
       "63                        2   \n",
       "69                        4   \n",
       "182                       2   \n",
       "314                       2   \n",
       "306                       4   \n",
       "\n",
       "                                              property age  \\\n",
       "63   if not A121/A122 : car or other, not in attrib...  25   \n",
       "69   if not A121/A122 : car or other, not in attrib...  25   \n",
       "182  if not A121 : building society savings agreeme...  40   \n",
       "314                                        real estate  29   \n",
       "306  if not A121 : building society savings agreeme...  24   \n",
       "\n",
       "     other_installment_plans housing credits_this_bank  \\\n",
       "63                      none     own                 1   \n",
       "69                      none     own                 1   \n",
       "182                     none     own                 2   \n",
       "314                     none     own                 1   \n",
       "306                   stores    rent                 1   \n",
       "\n",
       "                             job people_under_maintenance  \\\n",
       "63   skilled employee / official                        1   \n",
       "69   skilled employee / official                        1   \n",
       "182         unskilled - resident                        2   \n",
       "314         unskilled - resident                        2   \n",
       "306         unskilled - resident                        1   \n",
       "\n",
       "                                    telephone foreign_worker  \n",
       "63   yes, registered under the customers name            yes  \n",
       "69                                       none            yes  \n",
       "182                                      none            yes  \n",
       "314                                      none             no  \n",
       "306                                      none            yes  \n",
       "\n",
       "[5 rows x 21 columns]"
      ]
     },
     "execution_count": 266,
     "metadata": {},
     "output_type": "execute_result"
    }
   ],
   "source": [
    "X_test.head()"
   ]
  },
  {
   "cell_type": "code",
   "execution_count": 267,
   "metadata": {},
   "outputs": [
    {
     "data": {
      "text/plain": [
       "account_check_status          object\n",
       "duration_in_month              int64\n",
       "credit_history                object\n",
       "purpose                       object\n",
       "credit_amount                  int64\n",
       "savings                       object\n",
       "present_employment_since      object\n",
       "installment_as_income_perc     int64\n",
       "sex                           object\n",
       "personal_status               object\n",
       "other_debtors                 object\n",
       "present_residence_since        int64\n",
       "property                      object\n",
       "age                            int64\n",
       "other_installment_plans       object\n",
       "housing                       object\n",
       "credits_this_bank              int64\n",
       "job                           object\n",
       "people_under_maintenance       int64\n",
       "telephone                     object\n",
       "foreign_worker                object\n",
       "dtype: object"
      ]
     },
     "execution_count": 267,
     "metadata": {},
     "output_type": "execute_result"
    }
   ],
   "source": [
    "X_test.dtypes"
   ]
  },
  {
   "cell_type": "code",
   "execution_count": 268,
   "metadata": {},
   "outputs": [
    {
     "name": "stdout",
     "output_type": "stream",
     "text": [
      "{'account_check_status': {'0 <= ... < 200 DM': [0.6842105263157895], 'no checking account': [0.8823529411764706], '< 0 DM': [0.6440677966101694], '>= 200 DM / salary assignments for at least 1 year': [0.875]}, 'credit_history': {'no credits taken/ all credits paid back duly': [0.6666666666666666], 'existing credits paid back duly till now': [0.7628865979381443], 'all credits at this bank paid back duly': [0.47368421052631576], 'critical account/ other credits existing (not at this bank)': [0.8870967741935484], 'delay in paying off in the past': [0.5384615384615384]}, 'purpose': {'business': [0.7083333333333334], 'domestic appliances': [0.803921568627451], 'car (new)': [0.7317073170731707], 'car (used)': [0.9230769230769231], 'education': [0.6], 'radio/television': [0.7209302325581395], 'furniture/equipment': [0.5], '(vacation - does not exist?)': [0.5], 'retraining': [1.0], 'repairs': [0.3333333333333333]}, 'savings': {'... < 100 DM': [0.7586206896551724], 'unknown/ no savings account': [0.7352941176470589], '100 <= ... < 500 DM': [0.75], '500 <= ... < 1000 DM': [0.7142857142857143], '.. >= 1000 DM': [0.875]}, 'present_employment_since': {'1 <= ... < 4 years': [0.7384615384615385], '... < 1 year': [0.6756756756756757], '4 <= ... < 7 years': [0.7333333333333333], '.. >= 7 years': [0.9215686274509803], 'unemployed': [0.5294117647058824]}, 'sex': {'male': [0.7664233576642335], 'female': [0.7301587301587301]}, 'personal_status': {'single': [0.7982456140350878], 'divorced': [0.7027027027027027], 'married': [0.6666666666666666]}, 'other_debtors': {'none': [0.7613636363636364], 'guarantor': [0.8125], 'co-applicant': [0.5]}, 'property': {'if not A121/A122 : car or other, not in attribute 6': [0.7586206896551724], 'if not A121 : building society savings agreement/ life insurance': [0.7], 'real estate': [0.8448275862068966], 'unknown / no property': [0.6764705882352942]}, 'other_installment_plans': {'none': [0.7738095238095238], 'stores': [0.5714285714285714], 'bank': [0.68]}, 'housing': {'own': [0.7226277372262774], 'rent': [0.875], 'for free': [0.7391304347826086]}, 'job': {'skilled employee / official': [0.775], 'unskilled - resident': [0.8205128205128205], 'management/ self-employed/ highly qualified employee/ officer': [0.65625], 'unemployed/ unskilled - non-resident': [0.5555555555555556]}, 'telephone': {'yes, registered under the customers name': [0.7875], 'none': [0.7333333333333333]}, 'foreign_worker': {'yes': [0.743455497382199], 'no': [1.0]}}\n"
     ]
    }
   ],
   "source": [
    "# Creating a dictionary to store the accuracy of each sub-category\n",
    "accuracy_dict_base = {}\n",
    "\n",
    "# Iterate over each column in the test data\n",
    "for col in X_test.columns:\n",
    "\n",
    "    # Check if the column is a categorical column\n",
    "    if X_test[col].dtype == 'object':\n",
    "        col_accuracy_dict = {}\n",
    "        \n",
    "        sub_cats = X_test[col].unique()\n",
    "        \n",
    "        for sub_cat in sub_cats:\n",
    "            \n",
    "            idx = (X_test[col] == sub_cat)\n",
    "\n",
    "            # Get the predictions for the sub-category\n",
    "            sub_cat_preds = Y_pred[idx]\n",
    "\n",
    "            # Calculate the accuracy of the sub-category\n",
    "            sub_cat_accuracy = np.mean(sub_cat_preds == Y_test[idx])\n",
    "\n",
    "            # Add the accuracy of the sub-category to the dictionary\n",
    "            col_accuracy_dict[sub_cat] = [sub_cat_accuracy]\n",
    "\n",
    "        # Add the accuracy dictionary of the column to the main dictionary\n",
    "        accuracy_dict_base[col] = col_accuracy_dict\n",
    "\n",
    "        \n",
    "print(accuracy_dict_base)"
   ]
  },
  {
   "cell_type": "markdown",
   "metadata": {},
   "source": [
    "1. `credit_history == ”all credits at this bank paid back duly”` \n",
    "2. `purpose== ”Other”` \n",
    "3. `duration_in_month==36` \n",
    "4. `account_check_status == \"<0 DM”` "
   ]
  },
  {
   "cell_type": "code",
   "execution_count": 269,
   "metadata": {},
   "outputs": [],
   "source": [
    "!pip install -q prettytable\n",
    "!pip install --upgrade -q ipywidgets"
   ]
  },
  {
   "cell_type": "code",
   "execution_count": 270,
   "metadata": {
    "scrolled": false
   },
   "outputs": [
    {
     "data": {
      "application/vnd.jupyter.widget-view+json": {
       "model_id": "a870c382d99e4e5f99f23f328929b639",
       "version_major": 2,
       "version_minor": 0
      },
      "text/plain": [
       "interactive(children=(Output(),), _dom_classes=('widget-interact',))"
      ]
     },
     "execution_count": 270,
     "metadata": {},
     "output_type": "execute_result"
    }
   ],
   "source": [
    "from prettytable import PrettyTable\n",
    "from ipywidgets import interact, interactive, fixed\n",
    "\n",
    "# import dash\n",
    "# import dash_table\n",
    "# import qgrid\n",
    "\n",
    "# Define the table headers\n",
    "table = PrettyTable()\n",
    "table.field_names = [\"Feature\", \"Sub-Category\", \"Accuracy\",\"Comments\"]\n",
    "table.align = \"l\"\n",
    "table.max_width[\"Feature\"] = 20\n",
    "table.max_width[\"Sub-category\"] = 45\n",
    "table.max_width[\"Accuracy\"] = 10\n",
    "table.max_width[\"Comments\"] = 30\n",
    "\n",
    "# Loop through the dictionary and add rows to the table\n",
    "for feature, sub_dict in accuracy_dict_base.items():\n",
    "    for sub_category, accuracy in sub_dict.items():\n",
    "        comment = \"Bad\" if accuracy[0] <0.7 else \"Works\"\n",
    "        table.add_row([feature, sub_category, round(accuracy[0], 4), comment])\n",
    "        \n",
    "        \n",
    "df = pd.DataFrame(table._rows)\n",
    "df.columns = table.field_names\n",
    "\n",
    "\n",
    "def display_table(df):\n",
    "    display(df)\n",
    "\n",
    "interactive_table = interactive(display_table, df=fixed(df))\n",
    "interactive_table\n",
    "\n"
   ]
  },
  {
   "cell_type": "markdown",
   "metadata": {},
   "source": [
    "# Dataset: Features"
   ]
  },
  {
   "cell_type": "markdown",
   "metadata": {},
   "source": [
    "### Numeric Features: Feature engineering"
   ]
  },
  {
   "cell_type": "code",
   "execution_count": 313,
   "metadata": {},
   "outputs": [
    {
     "data": {
      "text/html": [
       "<div>\n",
       "<style scoped>\n",
       "    .dataframe tbody tr th:only-of-type {\n",
       "        vertical-align: middle;\n",
       "    }\n",
       "\n",
       "    .dataframe tbody tr th {\n",
       "        vertical-align: top;\n",
       "    }\n",
       "\n",
       "    .dataframe thead th {\n",
       "        text-align: right;\n",
       "    }\n",
       "</style>\n",
       "<table border=\"1\" class=\"dataframe\">\n",
       "  <thead>\n",
       "    <tr style=\"text-align: right;\">\n",
       "      <th></th>\n",
       "      <th>duration_in_month</th>\n",
       "      <th>credit_amount</th>\n",
       "      <th>installment_as_income_perc</th>\n",
       "      <th>present_residence_since</th>\n",
       "      <th>age</th>\n",
       "      <th>credits_this_bank</th>\n",
       "      <th>people_under_maintenance</th>\n",
       "      <th>monthly_debt_payments</th>\n",
       "      <th>log_credit_amount</th>\n",
       "    </tr>\n",
       "  </thead>\n",
       "  <tbody>\n",
       "    <tr>\n",
       "      <th>count</th>\n",
       "      <td>800.000000</td>\n",
       "      <td>800.000000</td>\n",
       "      <td>800.000000</td>\n",
       "      <td>800.000000</td>\n",
       "      <td>800.00000</td>\n",
       "      <td>800.000000</td>\n",
       "      <td>800.00000</td>\n",
       "      <td>800.000000</td>\n",
       "      <td>800.000000</td>\n",
       "    </tr>\n",
       "    <tr>\n",
       "      <th>mean</th>\n",
       "      <td>20.486250</td>\n",
       "      <td>3181.807500</td>\n",
       "      <td>2.992500</td>\n",
       "      <td>2.821250</td>\n",
       "      <td>35.40375</td>\n",
       "      <td>1.411250</td>\n",
       "      <td>1.15250</td>\n",
       "      <td>168.753554</td>\n",
       "      <td>7.762779</td>\n",
       "    </tr>\n",
       "    <tr>\n",
       "      <th>std</th>\n",
       "      <td>11.568583</td>\n",
       "      <td>2756.190195</td>\n",
       "      <td>1.120944</td>\n",
       "      <td>1.100369</td>\n",
       "      <td>11.17707</td>\n",
       "      <td>0.578828</td>\n",
       "      <td>0.35973</td>\n",
       "      <td>166.030982</td>\n",
       "      <td>0.773700</td>\n",
       "    </tr>\n",
       "    <tr>\n",
       "      <th>min</th>\n",
       "      <td>4.000000</td>\n",
       "      <td>250.000000</td>\n",
       "      <td>1.000000</td>\n",
       "      <td>1.000000</td>\n",
       "      <td>19.00000</td>\n",
       "      <td>1.000000</td>\n",
       "      <td>1.00000</td>\n",
       "      <td>24.055556</td>\n",
       "      <td>5.521461</td>\n",
       "    </tr>\n",
       "    <tr>\n",
       "      <th>25%</th>\n",
       "      <td>12.000000</td>\n",
       "      <td>1332.500000</td>\n",
       "      <td>2.000000</td>\n",
       "      <td>2.000000</td>\n",
       "      <td>27.00000</td>\n",
       "      <td>1.000000</td>\n",
       "      <td>1.00000</td>\n",
       "      <td>85.881944</td>\n",
       "      <td>7.194812</td>\n",
       "    </tr>\n",
       "    <tr>\n",
       "      <th>50%</th>\n",
       "      <td>18.000000</td>\n",
       "      <td>2281.500000</td>\n",
       "      <td>3.000000</td>\n",
       "      <td>3.000000</td>\n",
       "      <td>33.00000</td>\n",
       "      <td>1.000000</td>\n",
       "      <td>1.00000</td>\n",
       "      <td>128.361111</td>\n",
       "      <td>7.732588</td>\n",
       "    </tr>\n",
       "    <tr>\n",
       "      <th>75%</th>\n",
       "      <td>24.000000</td>\n",
       "      <td>3864.250000</td>\n",
       "      <td>4.000000</td>\n",
       "      <td>4.000000</td>\n",
       "      <td>42.00000</td>\n",
       "      <td>2.000000</td>\n",
       "      <td>1.00000</td>\n",
       "      <td>201.608333</td>\n",
       "      <td>8.259523</td>\n",
       "    </tr>\n",
       "    <tr>\n",
       "      <th>max</th>\n",
       "      <td>60.000000</td>\n",
       "      <td>18424.000000</td>\n",
       "      <td>4.000000</td>\n",
       "      <td>4.000000</td>\n",
       "      <td>75.00000</td>\n",
       "      <td>4.000000</td>\n",
       "      <td>2.00000</td>\n",
       "      <td>2482.666667</td>\n",
       "      <td>9.821409</td>\n",
       "    </tr>\n",
       "  </tbody>\n",
       "</table>\n",
       "</div>"
      ],
      "text/plain": [
       "       duration_in_month  credit_amount  installment_as_income_perc  \\\n",
       "count         800.000000     800.000000                  800.000000   \n",
       "mean           20.486250    3181.807500                    2.992500   \n",
       "std            11.568583    2756.190195                    1.120944   \n",
       "min             4.000000     250.000000                    1.000000   \n",
       "25%            12.000000    1332.500000                    2.000000   \n",
       "50%            18.000000    2281.500000                    3.000000   \n",
       "75%            24.000000    3864.250000                    4.000000   \n",
       "max            60.000000   18424.000000                    4.000000   \n",
       "\n",
       "       present_residence_since        age  credits_this_bank  \\\n",
       "count               800.000000  800.00000         800.000000   \n",
       "mean                  2.821250   35.40375           1.411250   \n",
       "std                   1.100369   11.17707           0.578828   \n",
       "min                   1.000000   19.00000           1.000000   \n",
       "25%                   2.000000   27.00000           1.000000   \n",
       "50%                   3.000000   33.00000           1.000000   \n",
       "75%                   4.000000   42.00000           2.000000   \n",
       "max                   4.000000   75.00000           4.000000   \n",
       "\n",
       "       people_under_maintenance  monthly_debt_payments  log_credit_amount  \n",
       "count                 800.00000             800.000000         800.000000  \n",
       "mean                    1.15250             168.753554           7.762779  \n",
       "std                     0.35973             166.030982           0.773700  \n",
       "min                     1.00000              24.055556           5.521461  \n",
       "25%                     1.00000              85.881944           7.194812  \n",
       "50%                     1.00000             128.361111           7.732588  \n",
       "75%                     1.00000             201.608333           8.259523  \n",
       "max                     2.00000            2482.666667           9.821409  "
      ]
     },
     "execution_count": 313,
     "metadata": {},
     "output_type": "execute_result"
    }
   ],
   "source": [
    "train_data.describe()"
   ]
  },
  {
   "cell_type": "code",
   "execution_count": 314,
   "metadata": {},
   "outputs": [
    {
     "data": {
      "text/plain": [
       "Index(['account_check_status', 'duration_in_month', 'credit_history',\n",
       "       'purpose', 'credit_amount', 'savings', 'present_employment_since',\n",
       "       'installment_as_income_perc', 'sex', 'personal_status', 'other_debtors',\n",
       "       'present_residence_since', 'property', 'age', 'other_installment_plans',\n",
       "       'housing', 'credits_this_bank', 'job', 'people_under_maintenance',\n",
       "       'telephone', 'foreign_worker', 'default', 'monthly_debt_payments',\n",
       "       'log_credit_amount', 'monthly_dbt_cat', 'crdt_amt_cat', 'age_cat',\n",
       "       'dur_mon_cat', 'inst_incm_perc_cat', 'pr_res_cat', 'crdt_bnk_cat'],\n",
       "      dtype='object')"
      ]
     },
     "execution_count": 314,
     "metadata": {},
     "output_type": "execute_result"
    }
   ],
   "source": [
    "train_data.columns"
   ]
  },
  {
   "cell_type": "code",
   "execution_count": 273,
   "metadata": {},
   "outputs": [
    {
     "data": {
      "text/html": [
       "<div>\n",
       "<style scoped>\n",
       "    .dataframe tbody tr th:only-of-type {\n",
       "        vertical-align: middle;\n",
       "    }\n",
       "\n",
       "    .dataframe tbody tr th {\n",
       "        vertical-align: top;\n",
       "    }\n",
       "\n",
       "    .dataframe thead th {\n",
       "        text-align: right;\n",
       "    }\n",
       "</style>\n",
       "<table border=\"1\" class=\"dataframe\">\n",
       "  <thead>\n",
       "    <tr style=\"text-align: right;\">\n",
       "      <th></th>\n",
       "      <th>account_check_status</th>\n",
       "      <th>duration_in_month</th>\n",
       "      <th>credit_history</th>\n",
       "      <th>purpose</th>\n",
       "      <th>credit_amount</th>\n",
       "      <th>savings</th>\n",
       "      <th>present_employment_since</th>\n",
       "      <th>installment_as_income_perc</th>\n",
       "      <th>sex</th>\n",
       "      <th>personal_status</th>\n",
       "      <th>...</th>\n",
       "      <th>default</th>\n",
       "      <th>monthly_debt_payments</th>\n",
       "      <th>log_credit_amount</th>\n",
       "      <th>monthly_dbt_cat</th>\n",
       "      <th>crdt_amt_cat</th>\n",
       "      <th>age_cat</th>\n",
       "      <th>dur_mon_cat</th>\n",
       "      <th>inst_incm_perc_cat</th>\n",
       "      <th>pr_res_cat</th>\n",
       "      <th>crdt_bnk_cat</th>\n",
       "    </tr>\n",
       "  </thead>\n",
       "  <tbody>\n",
       "    <tr>\n",
       "      <th>527</th>\n",
       "      <td>no checking account</td>\n",
       "      <td>4</td>\n",
       "      <td>critical account/ other credits existing (not ...</td>\n",
       "      <td>domestic appliances</td>\n",
       "      <td>1503</td>\n",
       "      <td>... &lt; 100 DM</td>\n",
       "      <td>4 &lt;= ... &lt; 7 years</td>\n",
       "      <td>2</td>\n",
       "      <td>male</td>\n",
       "      <td>single</td>\n",
       "      <td>...</td>\n",
       "      <td>Not default</td>\n",
       "      <td>375.750000</td>\n",
       "      <td>7.315218</td>\n",
       "      <td>very_high</td>\n",
       "      <td>medium</td>\n",
       "      <td>adult</td>\n",
       "      <td>very_short</td>\n",
       "      <td>lower-mid</td>\n",
       "      <td>low</td>\n",
       "      <td>high</td>\n",
       "    </tr>\n",
       "    <tr>\n",
       "      <th>557</th>\n",
       "      <td>no checking account</td>\n",
       "      <td>21</td>\n",
       "      <td>no credits taken/ all credits paid back duly</td>\n",
       "      <td>car (new)</td>\n",
       "      <td>5003</td>\n",
       "      <td>unknown/ no savings account</td>\n",
       "      <td>1 &lt;= ... &lt; 4 years</td>\n",
       "      <td>1</td>\n",
       "      <td>female</td>\n",
       "      <td>divorced</td>\n",
       "      <td>...</td>\n",
       "      <td>Default</td>\n",
       "      <td>238.238095</td>\n",
       "      <td>8.517793</td>\n",
       "      <td>very_high</td>\n",
       "      <td>very_high</td>\n",
       "      <td>young</td>\n",
       "      <td>short</td>\n",
       "      <td>low</td>\n",
       "      <td>high</td>\n",
       "      <td>low</td>\n",
       "    </tr>\n",
       "    <tr>\n",
       "      <th>653</th>\n",
       "      <td>0 &lt;= ... &lt; 200 DM</td>\n",
       "      <td>36</td>\n",
       "      <td>delay in paying off in the past</td>\n",
       "      <td>car (new)</td>\n",
       "      <td>8086</td>\n",
       "      <td>100 &lt;= ... &lt; 500 DM</td>\n",
       "      <td>.. &gt;= 7 years</td>\n",
       "      <td>2</td>\n",
       "      <td>male</td>\n",
       "      <td>single</td>\n",
       "      <td>...</td>\n",
       "      <td>Default</td>\n",
       "      <td>224.611111</td>\n",
       "      <td>8.997889</td>\n",
       "      <td>very_high</td>\n",
       "      <td>very_high</td>\n",
       "      <td>adult</td>\n",
       "      <td>medium</td>\n",
       "      <td>lower-mid</td>\n",
       "      <td>high</td>\n",
       "      <td>low</td>\n",
       "    </tr>\n",
       "    <tr>\n",
       "      <th>301</th>\n",
       "      <td>0 &lt;= ... &lt; 200 DM</td>\n",
       "      <td>36</td>\n",
       "      <td>no credits taken/ all credits paid back duly</td>\n",
       "      <td>domestic appliances</td>\n",
       "      <td>3804</td>\n",
       "      <td>... &lt; 100 DM</td>\n",
       "      <td>1 &lt;= ... &lt; 4 years</td>\n",
       "      <td>4</td>\n",
       "      <td>female</td>\n",
       "      <td>divorced</td>\n",
       "      <td>...</td>\n",
       "      <td>Default</td>\n",
       "      <td>105.666667</td>\n",
       "      <td>8.243808</td>\n",
       "      <td>high</td>\n",
       "      <td>high</td>\n",
       "      <td>adult</td>\n",
       "      <td>medium</td>\n",
       "      <td>high</td>\n",
       "      <td>low</td>\n",
       "      <td>low</td>\n",
       "    </tr>\n",
       "    <tr>\n",
       "      <th>440</th>\n",
       "      <td>no checking account</td>\n",
       "      <td>12</td>\n",
       "      <td>existing credits paid back duly till now</td>\n",
       "      <td>car (new)</td>\n",
       "      <td>1884</td>\n",
       "      <td>... &lt; 100 DM</td>\n",
       "      <td>.. &gt;= 7 years</td>\n",
       "      <td>4</td>\n",
       "      <td>male</td>\n",
       "      <td>single</td>\n",
       "      <td>...</td>\n",
       "      <td>Not default</td>\n",
       "      <td>157.000000</td>\n",
       "      <td>7.541152</td>\n",
       "      <td>high</td>\n",
       "      <td>medium</td>\n",
       "      <td>adult</td>\n",
       "      <td>very_short</td>\n",
       "      <td>high</td>\n",
       "      <td>high</td>\n",
       "      <td>low</td>\n",
       "    </tr>\n",
       "  </tbody>\n",
       "</table>\n",
       "<p>5 rows × 31 columns</p>\n",
       "</div>"
      ],
      "text/plain": [
       "    account_check_status  duration_in_month  \\\n",
       "527  no checking account                  4   \n",
       "557  no checking account                 21   \n",
       "653    0 <= ... < 200 DM                 36   \n",
       "301    0 <= ... < 200 DM                 36   \n",
       "440  no checking account                 12   \n",
       "\n",
       "                                        credit_history              purpose  \\\n",
       "527  critical account/ other credits existing (not ...  domestic appliances   \n",
       "557       no credits taken/ all credits paid back duly            car (new)   \n",
       "653                    delay in paying off in the past            car (new)   \n",
       "301       no credits taken/ all credits paid back duly  domestic appliances   \n",
       "440           existing credits paid back duly till now            car (new)   \n",
       "\n",
       "     credit_amount                      savings present_employment_since  \\\n",
       "527           1503                 ... < 100 DM       4 <= ... < 7 years   \n",
       "557           5003  unknown/ no savings account       1 <= ... < 4 years   \n",
       "653           8086          100 <= ... < 500 DM            .. >= 7 years   \n",
       "301           3804                 ... < 100 DM       1 <= ... < 4 years   \n",
       "440           1884                 ... < 100 DM            .. >= 7 years   \n",
       "\n",
       "     installment_as_income_perc     sex personal_status  ...      default  \\\n",
       "527                           2    male          single  ...  Not default   \n",
       "557                           1  female        divorced  ...      Default   \n",
       "653                           2    male          single  ...      Default   \n",
       "301                           4  female        divorced  ...      Default   \n",
       "440                           4    male          single  ...  Not default   \n",
       "\n",
       "     monthly_debt_payments log_credit_amount  monthly_dbt_cat crdt_amt_cat  \\\n",
       "527             375.750000          7.315218        very_high       medium   \n",
       "557             238.238095          8.517793        very_high    very_high   \n",
       "653             224.611111          8.997889        very_high    very_high   \n",
       "301             105.666667          8.243808             high         high   \n",
       "440             157.000000          7.541152             high       medium   \n",
       "\n",
       "    age_cat  dur_mon_cat inst_incm_perc_cat  pr_res_cat crdt_bnk_cat  \n",
       "527   adult   very_short          lower-mid         low         high  \n",
       "557   young        short                low        high          low  \n",
       "653   adult       medium          lower-mid        high          low  \n",
       "301   adult       medium               high         low          low  \n",
       "440   adult   very_short               high        high          low  \n",
       "\n",
       "[5 rows x 31 columns]"
      ]
     },
     "execution_count": 273,
     "metadata": {},
     "output_type": "execute_result"
    }
   ],
   "source": [
    "# monthly_debt_payments\n",
    "train_data.loc[:, 'monthly_debt_payments'] = train_data.loc[:,'credit_amount'] / train_data.loc[:,'duration_in_month']\n",
    "\n",
    "# log-transform Credit amount to reduce tail length\n",
    "'''\n",
    "Taking the logarithm of the credit_amount feature could help create a more linear relationship \n",
    "between the feature and the target variable, which could improve model performance.\n",
    "'''\n",
    "train_data.loc[:,'log_credit_amount'] = train_data.loc[:,'credit_amount'].apply(lambda x : np.log(x))\n",
    "\n",
    "# Binning age and loan durations\n",
    "\n",
    "'''\n",
    "Instead of using the continuous feature only, \n",
    "we can try and create binned variables to capture the impact of the duration on credit risk\n",
    "\n",
    "'''\n",
    "\n",
    "#amount binning, keeps and includes upper binning threshold\n",
    "dbt_interval = (0, 25, 50, 100, 200, 100000)\n",
    "amt_interval = (0, 250, 1000, 2500, 4500, 1000000)\n",
    "amt_cats = ['very_low', 'low' ,'medium', 'high', 'very_high']\n",
    "\n",
    "train_data[\"monthly_dbt_cat\"] = pd.cut(train_data.monthly_debt_payments, dbt_interval, labels=amt_cats)\n",
    "train_data[\"crdt_amt_cat\"] = pd.cut(train_data.credit_amount, amt_interval, labels=amt_cats)\n",
    "\n",
    "\n",
    "#age binning, keeps and includes upper binning threshold\n",
    "age_interval = (18, 25, 35, 45, 55, 100)\n",
    "age_cats = ['student', 'young', 'adult', 'senior', 'elder']\n",
    "\n",
    "train_data[\"age_cat\"] = pd.cut(train_data.age, age_interval, labels=age_cats)\n",
    "\n",
    "#loan duration, keeps and includes upper binning threshold\n",
    "dur_interval = (0, 12, 24, 36, 48, 60)\n",
    "dur_cats = ['very_short', 'short' ,'medium', 'long', 'very_long']\n",
    "train_data[\"dur_mon_cat\"] = pd.cut(train_data.duration_in_month, dur_interval, labels=dur_cats)\n",
    "\n",
    "# Creating categorical feature for 'installment_as_income_perc', 'present_residence_since'\n",
    "# 'credits_this_bank'\n",
    "inst_interval = (0, 1, 2, 3, 4)\n",
    "inst_cats = ['low' ,'lower-mid', 'mid-high', 'high']\n",
    "train_data[\"inst_incm_perc_cat\"] = pd.cut(train_data.installment_as_income_perc, inst_interval, labels=inst_cats)\n",
    "train_data[\"pr_res_cat\"] = pd.cut(train_data.present_residence_since, inst_interval, labels=inst_cats)\n",
    "train_data[\"crdt_bnk_cat\"] = pd.cut(train_data.credits_this_bank, inst_interval, labels=inst_cats)\n",
    "\n",
    "inst_interval2 = (0, 1, 2)\n",
    "inst_cats2 = ['low' , 'high']\n",
    "train_data[\"crdt_bnk_cat\"] = pd.cut(train_data.people_under_maintenance, inst_interval2, labels=inst_cats2)\n",
    "\n",
    "train_data.head()"
   ]
  },
  {
   "cell_type": "code",
   "execution_count": 274,
   "metadata": {},
   "outputs": [
    {
     "data": {
      "text/plain": [
       "Index(['account_check_status', 'duration_in_month', 'credit_history',\n",
       "       'purpose', 'credit_amount', 'savings', 'present_employment_since',\n",
       "       'installment_as_income_perc', 'sex', 'personal_status', 'other_debtors',\n",
       "       'present_residence_since', 'property', 'age', 'other_installment_plans',\n",
       "       'housing', 'credits_this_bank', 'job', 'people_under_maintenance',\n",
       "       'telephone', 'foreign_worker', 'default', 'monthly_debt_payments',\n",
       "       'log_credit_amount', 'monthly_dbt_cat', 'crdt_amt_cat', 'age_cat',\n",
       "       'dur_mon_cat', 'inst_incm_perc_cat', 'pr_res_cat', 'crdt_bnk_cat'],\n",
       "      dtype='object')"
      ]
     },
     "execution_count": 274,
     "metadata": {},
     "output_type": "execute_result"
    }
   ],
   "source": [
    "train_data.columns"
   ]
  },
  {
   "cell_type": "code",
   "execution_count": 275,
   "metadata": {
    "scrolled": false
   },
   "outputs": [
    {
     "name": "stdout",
     "output_type": "stream",
     "text": [
      "<class 'pandas.core.frame.DataFrame'>\n",
      "Int64Index: 800 entries, 527 to 405\n",
      "Data columns (total 31 columns):\n",
      " #   Column                      Non-Null Count  Dtype   \n",
      "---  ------                      --------------  -----   \n",
      " 0   account_check_status        800 non-null    object  \n",
      " 1   duration_in_month           800 non-null    int64   \n",
      " 2   credit_history              800 non-null    object  \n",
      " 3   purpose                     800 non-null    object  \n",
      " 4   credit_amount               800 non-null    int64   \n",
      " 5   savings                     800 non-null    object  \n",
      " 6   present_employment_since    800 non-null    object  \n",
      " 7   installment_as_income_perc  800 non-null    int64   \n",
      " 8   sex                         800 non-null    object  \n",
      " 9   personal_status             800 non-null    object  \n",
      " 10  other_debtors               800 non-null    object  \n",
      " 11  present_residence_since     800 non-null    int64   \n",
      " 12  property                    800 non-null    object  \n",
      " 13  age                         800 non-null    int64   \n",
      " 14  other_installment_plans     800 non-null    object  \n",
      " 15  housing                     800 non-null    object  \n",
      " 16  credits_this_bank           800 non-null    int64   \n",
      " 17  job                         800 non-null    object  \n",
      " 18  people_under_maintenance    800 non-null    int64   \n",
      " 19  telephone                   800 non-null    object  \n",
      " 20  foreign_worker              800 non-null    object  \n",
      " 21  default                     800 non-null    object  \n",
      " 22  monthly_debt_payments       800 non-null    float64 \n",
      " 23  log_credit_amount           800 non-null    float64 \n",
      " 24  monthly_dbt_cat             800 non-null    category\n",
      " 25  crdt_amt_cat                800 non-null    category\n",
      " 26  age_cat                     800 non-null    category\n",
      " 27  dur_mon_cat                 800 non-null    category\n",
      " 28  inst_incm_perc_cat          800 non-null    category\n",
      " 29  pr_res_cat                  800 non-null    category\n",
      " 30  crdt_bnk_cat                800 non-null    category\n",
      "dtypes: category(7), float64(2), int64(7), object(15)\n",
      "memory usage: 163.1+ KB\n"
     ]
    }
   ],
   "source": [
    "train_data.info()"
   ]
  },
  {
   "cell_type": "code",
   "execution_count": 276,
   "metadata": {},
   "outputs": [
    {
     "name": "stdout",
     "output_type": "stream",
     "text": [
      "dict_keys(['default', 'account_check_status', 'duration_in_month', 'credit_history', 'purpose', 'credit_amount', 'savings', 'present_employment_since', 'installment_as_income_perc', 'sex', 'personal_status', 'other_debtors', 'present_residence_since', 'property', 'age', 'other_installment_plans', 'housing', 'credits_this_bank', 'job', 'people_under_maintenance', 'telephone', 'foreign_worker'])\n",
      "\n",
      "\n",
      "Index(['account_check_status', 'duration_in_month', 'credit_history',\n",
      "       'purpose', 'credit_amount', 'savings', 'present_employment_since',\n",
      "       'installment_as_income_perc', 'sex', 'personal_status', 'other_debtors',\n",
      "       'present_residence_since', 'property', 'age', 'other_installment_plans',\n",
      "       'housing', 'credits_this_bank', 'job', 'people_under_maintenance',\n",
      "       'telephone', 'foreign_worker', 'default', 'monthly_debt_payments',\n",
      "       'log_credit_amount', 'monthly_dbt_cat', 'crdt_amt_cat', 'age_cat',\n",
      "       'dur_mon_cat', 'inst_incm_perc_cat', 'pr_res_cat', 'crdt_bnk_cat'],\n",
      "      dtype='object')\n",
      "['monthly_debt_payments', 'log_credit_amount', 'monthly_dbt_cat', 'crdt_amt_cat', 'age_cat', 'dur_mon_cat', 'inst_incm_perc_cat', 'pr_res_cat', 'crdt_bnk_cat']\n"
     ]
    },
    {
     "data": {
      "text/plain": [
       "{'default': 'category',\n",
       " 'account_check_status': 'category',\n",
       " 'duration_in_month': 'numeric',\n",
       " 'credit_history': 'category',\n",
       " 'purpose': 'category',\n",
       " 'credit_amount': 'numeric',\n",
       " 'savings': 'category',\n",
       " 'present_employment_since': 'category',\n",
       " 'installment_as_income_perc': 'numeric',\n",
       " 'sex': 'category',\n",
       " 'personal_status': 'category',\n",
       " 'other_debtors': 'category',\n",
       " 'present_residence_since': 'numeric',\n",
       " 'property': 'category',\n",
       " 'age': 'numeric',\n",
       " 'other_installment_plans': 'category',\n",
       " 'housing': 'category',\n",
       " 'credits_this_bank': 'numeric',\n",
       " 'job': 'category',\n",
       " 'people_under_maintenance': 'numeric',\n",
       " 'telephone': 'category',\n",
       " 'foreign_worker': 'category',\n",
       " 'monthly_debt_payments': 'numeric',\n",
       " 'log_credit_amount': 'numeric',\n",
       " 'monthly_dbt_cat': 'category',\n",
       " 'crdt_amt_cat': 'category',\n",
       " 'age_cat': 'category',\n",
       " 'dur_mon_cat': 'category',\n",
       " 'inst_incm_perc_cat': 'category',\n",
       " 'pr_res_cat': 'category',\n",
       " 'crdt_bnk_cat': 'category'}"
      ]
     },
     "execution_count": 276,
     "metadata": {},
     "output_type": "execute_result"
    }
   ],
   "source": [
    "# Extend column types\n",
    "\n",
    "column_types_new = column_types\n",
    "\n",
    "print(column_types_new.keys())\n",
    "print('\\n')\n",
    "print(train_data.columns)\n",
    "\n",
    "cols_to_add = list(train_data.columns[~pd.Series(list(train_data.columns)).isin(list(column_types_new.keys()))])\n",
    "print(cols_to_add)\n",
    "\n",
    "for c in cols_to_add:\n",
    "    if train_data.dtypes[c] in ('category', 'object'):\n",
    "        column_types_new[c] = 'category'\n",
    "    elif train_data.dtypes[c] in ('int64', 'float64'):\n",
    "        column_types_new[c] = 'numeric'\n",
    "    else:\n",
    "        column_types_new[c] = 'undefined'\n",
    "        \n",
    "column_types_new"
   ]
  },
  {
   "cell_type": "code",
   "execution_count": 277,
   "metadata": {},
   "outputs": [
    {
     "data": {
      "text/html": [
       "<div>\n",
       "<style scoped>\n",
       "    .dataframe tbody tr th:only-of-type {\n",
       "        vertical-align: middle;\n",
       "    }\n",
       "\n",
       "    .dataframe tbody tr th {\n",
       "        vertical-align: top;\n",
       "    }\n",
       "\n",
       "    .dataframe thead th {\n",
       "        text-align: right;\n",
       "    }\n",
       "</style>\n",
       "<table border=\"1\" class=\"dataframe\">\n",
       "  <thead>\n",
       "    <tr style=\"text-align: right;\">\n",
       "      <th></th>\n",
       "      <th>account_check_status</th>\n",
       "      <th>duration_in_month</th>\n",
       "      <th>credit_history</th>\n",
       "      <th>purpose</th>\n",
       "      <th>credit_amount</th>\n",
       "      <th>savings</th>\n",
       "      <th>present_employment_since</th>\n",
       "      <th>installment_as_income_perc</th>\n",
       "      <th>sex</th>\n",
       "      <th>personal_status</th>\n",
       "      <th>...</th>\n",
       "      <th>default</th>\n",
       "      <th>monthly_debt_payments</th>\n",
       "      <th>log_credit_amount</th>\n",
       "      <th>monthly_dbt_cat</th>\n",
       "      <th>crdt_amt_cat</th>\n",
       "      <th>age_cat</th>\n",
       "      <th>dur_mon_cat</th>\n",
       "      <th>inst_incm_perc_cat</th>\n",
       "      <th>pr_res_cat</th>\n",
       "      <th>crdt_bnk_cat</th>\n",
       "    </tr>\n",
       "  </thead>\n",
       "  <tbody>\n",
       "    <tr>\n",
       "      <th>63</th>\n",
       "      <td>0 &lt;= ... &lt; 200 DM</td>\n",
       "      <td>48</td>\n",
       "      <td>no credits taken/ all credits paid back duly</td>\n",
       "      <td>business</td>\n",
       "      <td>14421</td>\n",
       "      <td>... &lt; 100 DM</td>\n",
       "      <td>1 &lt;= ... &lt; 4 years</td>\n",
       "      <td>2</td>\n",
       "      <td>male</td>\n",
       "      <td>single</td>\n",
       "      <td>...</td>\n",
       "      <td>Default</td>\n",
       "      <td>300.437500</td>\n",
       "      <td>9.576441</td>\n",
       "      <td>very_high</td>\n",
       "      <td>very_high</td>\n",
       "      <td>student</td>\n",
       "      <td>long</td>\n",
       "      <td>lower-mid</td>\n",
       "      <td>lower-mid</td>\n",
       "      <td>low</td>\n",
       "    </tr>\n",
       "    <tr>\n",
       "      <th>69</th>\n",
       "      <td>no checking account</td>\n",
       "      <td>36</td>\n",
       "      <td>existing credits paid back duly till now</td>\n",
       "      <td>domestic appliances</td>\n",
       "      <td>2394</td>\n",
       "      <td>unknown/ no savings account</td>\n",
       "      <td>1 &lt;= ... &lt; 4 years</td>\n",
       "      <td>4</td>\n",
       "      <td>female</td>\n",
       "      <td>divorced</td>\n",
       "      <td>...</td>\n",
       "      <td>Not default</td>\n",
       "      <td>66.500000</td>\n",
       "      <td>7.780721</td>\n",
       "      <td>medium</td>\n",
       "      <td>medium</td>\n",
       "      <td>student</td>\n",
       "      <td>medium</td>\n",
       "      <td>high</td>\n",
       "      <td>high</td>\n",
       "      <td>low</td>\n",
       "    </tr>\n",
       "    <tr>\n",
       "      <th>182</th>\n",
       "      <td>&lt; 0 DM</td>\n",
       "      <td>21</td>\n",
       "      <td>all credits at this bank paid back duly</td>\n",
       "      <td>car (new)</td>\n",
       "      <td>1647</td>\n",
       "      <td>unknown/ no savings account</td>\n",
       "      <td>1 &lt;= ... &lt; 4 years</td>\n",
       "      <td>4</td>\n",
       "      <td>male</td>\n",
       "      <td>single</td>\n",
       "      <td>...</td>\n",
       "      <td>Default</td>\n",
       "      <td>78.428571</td>\n",
       "      <td>7.406711</td>\n",
       "      <td>medium</td>\n",
       "      <td>medium</td>\n",
       "      <td>adult</td>\n",
       "      <td>short</td>\n",
       "      <td>high</td>\n",
       "      <td>lower-mid</td>\n",
       "      <td>high</td>\n",
       "    </tr>\n",
       "    <tr>\n",
       "      <th>314</th>\n",
       "      <td>&gt;= 200 DM / salary assignments for at least 1 ...</td>\n",
       "      <td>4</td>\n",
       "      <td>existing credits paid back duly till now</td>\n",
       "      <td>car (new)</td>\n",
       "      <td>1494</td>\n",
       "      <td>unknown/ no savings account</td>\n",
       "      <td>... &lt; 1 year</td>\n",
       "      <td>1</td>\n",
       "      <td>male</td>\n",
       "      <td>single</td>\n",
       "      <td>...</td>\n",
       "      <td>Not default</td>\n",
       "      <td>373.500000</td>\n",
       "      <td>7.309212</td>\n",
       "      <td>very_high</td>\n",
       "      <td>medium</td>\n",
       "      <td>young</td>\n",
       "      <td>very_short</td>\n",
       "      <td>low</td>\n",
       "      <td>lower-mid</td>\n",
       "      <td>high</td>\n",
       "    </tr>\n",
       "    <tr>\n",
       "      <th>306</th>\n",
       "      <td>no checking account</td>\n",
       "      <td>30</td>\n",
       "      <td>existing credits paid back duly till now</td>\n",
       "      <td>car (used)</td>\n",
       "      <td>4811</td>\n",
       "      <td>unknown/ no savings account</td>\n",
       "      <td>4 &lt;= ... &lt; 7 years</td>\n",
       "      <td>2</td>\n",
       "      <td>female</td>\n",
       "      <td>divorced</td>\n",
       "      <td>...</td>\n",
       "      <td>Not default</td>\n",
       "      <td>160.366667</td>\n",
       "      <td>8.478660</td>\n",
       "      <td>high</td>\n",
       "      <td>very_high</td>\n",
       "      <td>student</td>\n",
       "      <td>medium</td>\n",
       "      <td>lower-mid</td>\n",
       "      <td>high</td>\n",
       "      <td>low</td>\n",
       "    </tr>\n",
       "  </tbody>\n",
       "</table>\n",
       "<p>5 rows × 31 columns</p>\n",
       "</div>"
      ],
      "text/plain": [
       "                                  account_check_status  duration_in_month  \\\n",
       "63                                   0 <= ... < 200 DM                 48   \n",
       "69                                 no checking account                 36   \n",
       "182                                             < 0 DM                 21   \n",
       "314  >= 200 DM / salary assignments for at least 1 ...                  4   \n",
       "306                                no checking account                 30   \n",
       "\n",
       "                                   credit_history              purpose  \\\n",
       "63   no credits taken/ all credits paid back duly             business   \n",
       "69       existing credits paid back duly till now  domestic appliances   \n",
       "182       all credits at this bank paid back duly            car (new)   \n",
       "314      existing credits paid back duly till now            car (new)   \n",
       "306      existing credits paid back duly till now           car (used)   \n",
       "\n",
       "     credit_amount                      savings present_employment_since  \\\n",
       "63           14421                 ... < 100 DM       1 <= ... < 4 years   \n",
       "69            2394  unknown/ no savings account       1 <= ... < 4 years   \n",
       "182           1647  unknown/ no savings account       1 <= ... < 4 years   \n",
       "314           1494  unknown/ no savings account             ... < 1 year   \n",
       "306           4811  unknown/ no savings account       4 <= ... < 7 years   \n",
       "\n",
       "     installment_as_income_perc     sex personal_status  ...      default  \\\n",
       "63                            2    male          single  ...      Default   \n",
       "69                            4  female        divorced  ...  Not default   \n",
       "182                           4    male          single  ...      Default   \n",
       "314                           1    male          single  ...  Not default   \n",
       "306                           2  female        divorced  ...  Not default   \n",
       "\n",
       "     monthly_debt_payments log_credit_amount  monthly_dbt_cat crdt_amt_cat  \\\n",
       "63              300.437500          9.576441        very_high    very_high   \n",
       "69               66.500000          7.780721           medium       medium   \n",
       "182              78.428571          7.406711           medium       medium   \n",
       "314             373.500000          7.309212        very_high       medium   \n",
       "306             160.366667          8.478660             high    very_high   \n",
       "\n",
       "     age_cat  dur_mon_cat inst_incm_perc_cat  pr_res_cat crdt_bnk_cat  \n",
       "63   student         long          lower-mid   lower-mid          low  \n",
       "69   student       medium               high        high          low  \n",
       "182    adult        short               high   lower-mid         high  \n",
       "314    young   very_short                low   lower-mid         high  \n",
       "306  student       medium          lower-mid        high          low  \n",
       "\n",
       "[5 rows x 31 columns]"
      ]
     },
     "execution_count": 277,
     "metadata": {},
     "output_type": "execute_result"
    }
   ],
   "source": [
    "# preparing test data\n",
    "\n",
    "# monthly_debt_payments\n",
    "test_data.loc[:, 'monthly_debt_payments'] = test_data.loc[:,'credit_amount'] / test_data.loc[:,'duration_in_month']\n",
    "\n",
    "# log-transform Credit amount to reduce tail length\n",
    "'''\n",
    "Taking the logarithm of the credit_amount feature could help create a more linear relationship \n",
    "between the feature and the target variable, which could improve model performance.\n",
    "'''\n",
    "test_data.loc[:,'log_credit_amount'] = test_data.loc[:,'credit_amount'].apply(lambda x : np.log(x))\n",
    "\n",
    "# Binning age and loan durations\n",
    "\n",
    "'''\n",
    "Instead of using the continuous feature only, \n",
    "we can try and create binned variables to capture the impact of the duration on credit risk\n",
    "\n",
    "'''\n",
    "\n",
    "#amount binning, keeps and includes upper binning threshold\n",
    "dbt_interval = (0, 25, 50, 100, 200, 100000)\n",
    "amt_interval = (0, 250, 1000, 2500, 4500, 1000000)\n",
    "amt_cats = ['very_low', 'low' ,'medium', 'high', 'very_high']\n",
    "\n",
    "test_data[\"monthly_dbt_cat\"] = pd.cut(test_data.monthly_debt_payments, dbt_interval, labels=amt_cats)\n",
    "test_data[\"crdt_amt_cat\"] = pd.cut(test_data.credit_amount, amt_interval, labels=amt_cats)\n",
    "\n",
    "\n",
    "#age binning, keeps and includes upper binning threshold\n",
    "age_interval = (18, 25, 35, 45, 55, 100)\n",
    "age_cats = ['student', 'young', 'adult', 'senior', 'elder']\n",
    "\n",
    "test_data[\"age_cat\"] = pd.cut(test_data.age, age_interval, labels=age_cats)\n",
    "\n",
    "#loan duration, keeps and includes upper binning threshold\n",
    "dur_interval = (0, 12, 24, 36, 48, 60)\n",
    "dur_cats = ['very_short', 'short' ,'medium', 'long', 'very_long']\n",
    "test_data[\"dur_mon_cat\"] = pd.cut(test_data.duration_in_month, dur_interval, labels=dur_cats)\n",
    "\n",
    "# Creating categorical feature for 'installment_as_income_perc', 'present_residence_since'\n",
    "# 'credits_this_bank'\n",
    "inst_interval = (0, 1, 2, 3, 4)\n",
    "inst_cats = ['low' ,'lower-mid', 'mid-high', 'high']\n",
    "test_data[\"inst_incm_perc_cat\"] = pd.cut(test_data.installment_as_income_perc, inst_interval, labels=inst_cats)\n",
    "test_data[\"pr_res_cat\"] = pd.cut(test_data.present_residence_since, inst_interval, labels=inst_cats)\n",
    "test_data[\"crdt_bnk_cat\"] = pd.cut(test_data.credits_this_bank, inst_interval, labels=inst_cats)\n",
    "\n",
    "inst_interval2 = (0, 1, 2)\n",
    "inst_cats2 = ['low' , 'high']\n",
    "test_data[\"crdt_bnk_cat\"] = pd.cut(test_data.people_under_maintenance, inst_interval2, labels=inst_cats2)\n",
    "\n",
    "test_data.head()"
   ]
  },
  {
   "cell_type": "code",
   "execution_count": 278,
   "metadata": {},
   "outputs": [
    {
     "data": {
      "text/plain": [
       "Index(['account_check_status', 'duration_in_month', 'credit_history',\n",
       "       'purpose', 'credit_amount', 'savings', 'present_employment_since',\n",
       "       'installment_as_income_perc', 'sex', 'personal_status', 'other_debtors',\n",
       "       'present_residence_since', 'property', 'age', 'other_installment_plans',\n",
       "       'housing', 'credits_this_bank', 'job', 'people_under_maintenance',\n",
       "       'telephone', 'foreign_worker', 'default', 'monthly_debt_payments',\n",
       "       'log_credit_amount', 'monthly_dbt_cat', 'crdt_amt_cat', 'age_cat',\n",
       "       'dur_mon_cat', 'inst_incm_perc_cat', 'pr_res_cat', 'crdt_bnk_cat'],\n",
       "      dtype='object')"
      ]
     },
     "execution_count": 278,
     "metadata": {},
     "output_type": "execute_result"
    }
   ],
   "source": [
    "test_data.columns"
   ]
  },
  {
   "cell_type": "code",
   "execution_count": 317,
   "metadata": {},
   "outputs": [
    {
     "name": "stdout",
     "output_type": "stream",
     "text": [
      "(800, 21) (800,)\n",
      "(200, 21) (200,)\n"
     ]
    }
   ],
   "source": [
    "# # Prepare augmented train and test data with no feature removals\n",
    "# drop_cols1 = ['default']\n",
    "# X_train_ft = train_data.copy(deep=True).drop(columns= drop_cols1)\n",
    "# Y_train_ft = train_data['default']\n",
    "\n",
    "# X_test_ft = test_data.copy(deep=True).drop(columns= drop_cols1)\n",
    "# Y_test_ft = test_data['default']\n",
    "\n",
    "print(X_train.shape, Y_train.shape)\n",
    "print(X_test.shape, Y_test.shape)\n",
    "\n",
    "# print(X_train_ft.shape, Y_train_ft.shape)\n",
    "# print(X_test_ft.shape, Y_test_ft.shape)"
   ]
  },
  {
   "cell_type": "code",
   "execution_count": 318,
   "metadata": {},
   "outputs": [
    {
     "name": "stdout",
     "output_type": "stream",
     "text": [
      "(800, 30) (800,)\n",
      "(200, 30) (200,)\n"
     ]
    }
   ],
   "source": [
    "# Prepare augmented train and test data with feature removals\n",
    "\n",
    "# drop_cols = ['default','installment_as_income_perc','credit_amount','age', 'duration_in_month']\n",
    "drop_cols = ['default']\n",
    "X_train_new = train_data.copy(deep=True).drop(columns= drop_cols)\n",
    "Y_train_new = train_data['default']\n",
    "\n",
    "X_test_new = test_data.copy(deep=True).drop(columns= drop_cols)\n",
    "Y_test_new = test_data['default']\n",
    "\n",
    "\n",
    "print(X_train_new.shape, Y_train_new.shape)\n",
    "print(X_test_new.shape, Y_test_new.shape)"
   ]
  },
  {
   "cell_type": "markdown",
   "metadata": {},
   "source": [
    "# Final Feature pre-processing pipeline + Model"
   ]
  },
  {
   "cell_type": "markdown",
   "metadata": {},
   "source": [
    "### WOE Encoder\n",
    "\n",
    "Target encoding like WoE is typically applied only to categorical features. It involves replacing the categories of a categorical feature with a numerical value based on the target variable."
   ]
  },
  {
   "cell_type": "code",
   "execution_count": 319,
   "metadata": {},
   "outputs": [],
   "source": [
    "!pip install -q category_encoders\n",
    "import category_encoders as ce"
   ]
  },
  {
   "cell_type": "code",
   "execution_count": 320,
   "metadata": {},
   "outputs": [
    {
     "data": {
      "text/plain": [
       "{'account_check_status': 'category',\n",
       " 'duration_in_month': 'numeric',\n",
       " 'credit_history': 'category',\n",
       " 'purpose': 'category',\n",
       " 'credit_amount': 'numeric',\n",
       " 'savings': 'category',\n",
       " 'present_employment_since': 'category',\n",
       " 'installment_as_income_perc': 'numeric',\n",
       " 'sex': 'category',\n",
       " 'personal_status': 'category',\n",
       " 'other_debtors': 'category',\n",
       " 'present_residence_since': 'numeric',\n",
       " 'property': 'category',\n",
       " 'age': 'numeric',\n",
       " 'other_installment_plans': 'category',\n",
       " 'housing': 'category',\n",
       " 'credits_this_bank': 'numeric',\n",
       " 'job': 'category',\n",
       " 'people_under_maintenance': 'numeric',\n",
       " 'telephone': 'category',\n",
       " 'foreign_worker': 'category'}"
      ]
     },
     "execution_count": 320,
     "metadata": {},
     "output_type": "execute_result"
    }
   ],
   "source": [
    "feature_types"
   ]
  },
  {
   "cell_type": "markdown",
   "metadata": {},
   "source": [
    "### Checking variable importance for base logistic model"
   ]
  },
  {
   "cell_type": "code",
   "execution_count": 283,
   "metadata": {},
   "outputs": [],
   "source": [
    "!pip install -q statsmodels"
   ]
  },
  {
   "cell_type": "code",
   "execution_count": 322,
   "metadata": {},
   "outputs": [],
   "source": [
    "# Adding WOE only\n",
    "\n",
    "import category_encoders as ce\n",
    "\n",
    "# # Pipeline to fill missing values, transform and scale the numeric columns\n",
    "# columns_to_scale = [key for key in feature_types.keys() if feature_types[key] == \"numeric\"]\n",
    "# numeric_transformer = Pipeline([('imputer', SimpleImputer(strategy='median')),\n",
    "#                                 ('scaler', StandardScaler())])\n",
    "\n",
    "# # Pipeline to fill missing values and WOE encode the categorical values\n",
    "# columns_to_encode = [key for key in feature_types.keys() if feature_types[key] == \"category\"]\n",
    "\n",
    "# categorical_transformer = Pipeline([('imputer', SimpleImputer(strategy='constant', fill_value='missing')),\n",
    "#                                     ('woe', ce.WOEEncoder())])\n",
    "\n",
    "\n",
    "\n",
    "# feature_types is used to declare the features the model is trained on\n",
    "feature_types_new = {i:column_types_new[i] for i in column_types_new if i not in drop_cols}\n",
    "\n",
    "# Pipeline to fill missing values, transform and scale the numeric columns\n",
    "columns_to_scale = [key for key in feature_types_new.keys() if feature_types_new[key] == \"numeric\"]\n",
    "numeric_transformer = Pipeline([('imputer', SimpleImputer(strategy='median')),\n",
    "                                ('scaler', StandardScaler())])\n",
    "\n",
    "# Pipeline to fill missing values and WOE encode the categorical values\n",
    "columns_to_encode = [key for key in feature_types_new.keys() if feature_types_new[key] == \"category\"]\n",
    "\n",
    "categorical_transformer = Pipeline([('imputer', SimpleImputer(strategy='constant', fill_value='missing')),\n",
    "                                    ('woe', ce.WOEEncoder())\n",
    "                                   ])\n",
    "\n",
    "\n",
    "# Perform preprocessing of the columns with the above pipelines\n",
    "preprocessor = ColumnTransformer(transformers=[('num', numeric_transformer, columns_to_scale),\n",
    "                                              ('cat', categorical_transformer, columns_to_encode)\n",
    "                                              ])\n"
   ]
  },
  {
   "cell_type": "code",
   "execution_count": 323,
   "metadata": {
    "scrolled": false
   },
   "outputs": [
    {
     "name": "stdout",
     "output_type": "stream",
     "text": [
      "(800, 30)\n",
      "Optimization terminated successfully.\n",
      "         Current function value: 0.455457\n",
      "         Iterations 9\n",
      "                           Logit Regression Results                           \n",
      "==============================================================================\n",
      "Dep. Variable:                      y   No. Observations:                  800\n",
      "Model:                          Logit   Df Residuals:                      770\n",
      "Method:                           MLE   Df Model:                           29\n",
      "Date:                Wed, 03 May 2023   Pseudo R-squ.:                  0.2544\n",
      "Time:                        15:25:43   Log-Likelihood:                -364.37\n",
      "converged:                       True   LL-Null:                       -488.69\n",
      "Covariance Type:            nonrobust   LLR p-value:                 9.300e-37\n",
      "==============================================================================\n",
      "                 coef    std err          z      P>|z|      [0.025      0.975]\n",
      "------------------------------------------------------------------------------\n",
      "x1            -0.7455      0.339     -2.197      0.028      -1.411      -0.080\n",
      "x2            -0.2181      0.303     -0.721      0.471      -0.811       0.375\n",
      "x3            -0.0071      0.235     -0.030      0.976      -0.468       0.454\n",
      "x4             0.0451      0.115      0.393      0.694      -0.180       0.270\n",
      "x5            -0.0123      0.128     -0.096      0.923      -0.263       0.238\n",
      "x6            -0.0880      0.102     -0.863      0.388      -0.288       0.112\n",
      "x7            95.4703      9.802      9.740      0.000      76.259     114.682\n",
      "x8            -0.2881      0.223     -1.295      0.195      -0.724       0.148\n",
      "x9             0.3725      0.297      1.254      0.210      -0.210       0.955\n",
      "x10            0.8083      0.119      6.787      0.000       0.575       1.042\n",
      "x11            0.6741      0.194      3.468      0.001       0.293       1.055\n",
      "x12            0.9978      0.247      4.045      0.000       0.514       1.481\n",
      "x13            0.8324      0.218      3.816      0.000       0.405       1.260\n",
      "x14            0.7683      0.368      2.090      0.037       0.048       1.489\n",
      "x15           -1.3123      1.580     -0.830      0.406      -4.410       1.785\n",
      "x16            2.0383      1.158      1.760      0.078      -0.231       4.308\n",
      "x17            0.9515      0.937      1.016      0.310      -0.885       2.788\n",
      "x18            0.2117      0.345      0.615      0.539      -0.464       0.887\n",
      "x19            0.8318      0.384      2.167      0.030       0.080       1.584\n",
      "x20            0.3777      0.330      1.145      0.252      -0.269       1.024\n",
      "x21           -0.8285      1.350     -0.614      0.539      -3.474       1.817\n",
      "x22            1.7818      2.866      0.622      0.534      -3.836       7.400\n",
      "x23            1.4088      0.826      1.706      0.088      -0.209       3.027\n",
      "x24            0.5249      0.785      0.669      0.504      -1.014       2.064\n",
      "x25            0.4214      0.514      0.821      0.412      -0.585       1.428\n",
      "x26            0.7104      0.401      1.773      0.076      -0.075       1.496\n",
      "x27           -0.4682      0.740     -0.633      0.527      -1.918       0.982\n",
      "x28            2.1880      2.190      0.999      0.318      -2.105       6.481\n",
      "x29            1.6605      1.084      1.532      0.125      -0.463       3.784\n",
      "x30         3533.2405    362.566      9.745      0.000    2822.625    4243.856\n",
      "==============================================================================\n"
     ]
    }
   ],
   "source": [
    "# checking variable significance\n",
    "import statsmodels.api as sm\n",
    "\n",
    "# Run everytime we change data\n",
    "Y_train_aug = np.array(Y_train)\n",
    "Y_test_aug = np.array(Y_test)\n",
    "\n",
    "# convert Y_test_aug to binary encoding if it is not already\n",
    "Y_train_aug = np.where(Y_train_aug == 'Not default', 1, 0)\n",
    "Y_test_aug = np.where(Y_test_aug == 'Not default', 1, 0)\n",
    "\n",
    "X_train_trans = preprocessor.fit_transform(X_train_new, Y_train_aug)\n",
    "print(X_train_trans.shape)\n",
    "X_train_trans\n",
    "\n",
    "logit_clf = sm.Logit(Y_train_aug, X_train_trans)\n",
    "\n",
    "result = logit_clf.fit(maxiter=1000)\n",
    "\n",
    "print(result.summary())"
   ]
  },
  {
   "cell_type": "code",
   "execution_count": 346,
   "metadata": {},
   "outputs": [
    {
     "name": "stdout",
     "output_type": "stream",
     "text": [
      "Index(['account_check_status', 'duration_in_month', 'credit_history',\n",
      "       'purpose', 'credit_amount', 'savings', 'present_employment_since',\n",
      "       'installment_as_income_perc', 'sex', 'personal_status', 'other_debtors',\n",
      "       'present_residence_since', 'property', 'age', 'other_installment_plans',\n",
      "       'housing', 'credits_this_bank', 'job', 'people_under_maintenance',\n",
      "       'telephone', 'foreign_worker', 'monthly_debt_payments',\n",
      "       'log_credit_amount', 'monthly_dbt_cat', 'crdt_amt_cat', 'age_cat',\n",
      "       'dur_mon_cat', 'inst_incm_perc_cat', 'pr_res_cat', 'crdt_bnk_cat'],\n",
      "      dtype='object')\n",
      "\n",
      "\n",
      "Index(['account_check_status', 'credit_history', 'credit_amount', 'savings',\n",
      "       'present_employment_since', 'other_debtors', 'present_residence_since'],\n",
      "      dtype='object')\n"
     ]
    }
   ],
   "source": [
    "# Keep variables with decent significance, best would be p<0.05, but since it results in very simple model kept at 0.3\n",
    "p_val = (result.pvalues)\n",
    "\n",
    "keep_vars = np.where(p_val < 0.3)\n",
    "\n",
    "cols = X_train_new.columns\n",
    "\n",
    "final_fts = cols[keep_vars]\n",
    "\n",
    "print(cols)\n",
    "\n",
    "print('\\n')\n",
    "\n",
    "print(final_fts)"
   ]
  },
  {
   "cell_type": "code",
   "execution_count": 347,
   "metadata": {
    "scrolled": false
   },
   "outputs": [
    {
     "data": {
      "text/html": [
       "<div>\n",
       "<style scoped>\n",
       "    .dataframe tbody tr th:only-of-type {\n",
       "        vertical-align: middle;\n",
       "    }\n",
       "\n",
       "    .dataframe tbody tr th {\n",
       "        vertical-align: top;\n",
       "    }\n",
       "\n",
       "    .dataframe thead th {\n",
       "        text-align: right;\n",
       "    }\n",
       "</style>\n",
       "<table border=\"1\" class=\"dataframe\">\n",
       "  <thead>\n",
       "    <tr style=\"text-align: right;\">\n",
       "      <th></th>\n",
       "      <th>account_check_status</th>\n",
       "      <th>credit_history</th>\n",
       "      <th>credit_amount</th>\n",
       "      <th>savings</th>\n",
       "      <th>present_employment_since</th>\n",
       "      <th>other_debtors</th>\n",
       "      <th>present_residence_since</th>\n",
       "    </tr>\n",
       "  </thead>\n",
       "  <tbody>\n",
       "    <tr>\n",
       "      <th>527</th>\n",
       "      <td>no checking account</td>\n",
       "      <td>critical account/ other credits existing (not ...</td>\n",
       "      <td>1503</td>\n",
       "      <td>... &lt; 100 DM</td>\n",
       "      <td>4 &lt;= ... &lt; 7 years</td>\n",
       "      <td>none</td>\n",
       "      <td>1</td>\n",
       "    </tr>\n",
       "    <tr>\n",
       "      <th>557</th>\n",
       "      <td>no checking account</td>\n",
       "      <td>no credits taken/ all credits paid back duly</td>\n",
       "      <td>5003</td>\n",
       "      <td>unknown/ no savings account</td>\n",
       "      <td>1 &lt;= ... &lt; 4 years</td>\n",
       "      <td>none</td>\n",
       "      <td>4</td>\n",
       "    </tr>\n",
       "    <tr>\n",
       "      <th>653</th>\n",
       "      <td>0 &lt;= ... &lt; 200 DM</td>\n",
       "      <td>delay in paying off in the past</td>\n",
       "      <td>8086</td>\n",
       "      <td>100 &lt;= ... &lt; 500 DM</td>\n",
       "      <td>.. &gt;= 7 years</td>\n",
       "      <td>none</td>\n",
       "      <td>4</td>\n",
       "    </tr>\n",
       "    <tr>\n",
       "      <th>301</th>\n",
       "      <td>0 &lt;= ... &lt; 200 DM</td>\n",
       "      <td>no credits taken/ all credits paid back duly</td>\n",
       "      <td>3804</td>\n",
       "      <td>... &lt; 100 DM</td>\n",
       "      <td>1 &lt;= ... &lt; 4 years</td>\n",
       "      <td>none</td>\n",
       "      <td>1</td>\n",
       "    </tr>\n",
       "    <tr>\n",
       "      <th>440</th>\n",
       "      <td>no checking account</td>\n",
       "      <td>existing credits paid back duly till now</td>\n",
       "      <td>1884</td>\n",
       "      <td>... &lt; 100 DM</td>\n",
       "      <td>.. &gt;= 7 years</td>\n",
       "      <td>none</td>\n",
       "      <td>4</td>\n",
       "    </tr>\n",
       "  </tbody>\n",
       "</table>\n",
       "</div>"
      ],
      "text/plain": [
       "    account_check_status                                     credit_history  \\\n",
       "527  no checking account  critical account/ other credits existing (not ...   \n",
       "557  no checking account       no credits taken/ all credits paid back duly   \n",
       "653    0 <= ... < 200 DM                    delay in paying off in the past   \n",
       "301    0 <= ... < 200 DM       no credits taken/ all credits paid back duly   \n",
       "440  no checking account           existing credits paid back duly till now   \n",
       "\n",
       "     credit_amount                      savings present_employment_since  \\\n",
       "527           1503                 ... < 100 DM       4 <= ... < 7 years   \n",
       "557           5003  unknown/ no savings account       1 <= ... < 4 years   \n",
       "653           8086          100 <= ... < 500 DM            .. >= 7 years   \n",
       "301           3804                 ... < 100 DM       1 <= ... < 4 years   \n",
       "440           1884                 ... < 100 DM            .. >= 7 years   \n",
       "\n",
       "    other_debtors  present_residence_since  \n",
       "527          none                        1  \n",
       "557          none                        4  \n",
       "653          none                        4  \n",
       "301          none                        1  \n",
       "440          none                        4  "
      ]
     },
     "execution_count": 347,
     "metadata": {},
     "output_type": "execute_result"
    }
   ],
   "source": [
    "X_train_new[final_fts].head()"
   ]
  },
  {
   "cell_type": "code",
   "execution_count": 348,
   "metadata": {},
   "outputs": [],
   "source": [
    "\n",
    "# X_train2 = X_train_new[final_fts].copy(deep = True)\n",
    "\n",
    "\n",
    "# # Pipeline to fill missing values, transform and scale the numeric columns\n",
    "# columns_to_scale = [idx for idx, key in zip(X_train2.dtypes.index, X_train2.dtypes) \n",
    "#                     if key == \"int64\" or key == \"float64\"]\n",
    "# numeric_transformer = Pipeline([('imputer', SimpleImputer(strategy='median')),\n",
    "#                                 ('scaler', StandardScaler())])\n",
    "\n",
    "# # Pipeline to fill missing values and WOE encode the categorical values\n",
    "# columns_to_encode = [idx for idx, key in zip(X_train2.dtypes.index, X_train2.dtypes) \n",
    "#                     if key == \"object\"]\n",
    "\n",
    "# categorical_transformer = Pipeline([('imputer', SimpleImputer(strategy='constant', fill_value='missing')),\n",
    "#                                     ('woe', ce.WOEEncoder())])\n",
    "\n",
    "# # Perform preprocessing of the columns with the above pipelines\n",
    "# preprocessor2 = ColumnTransformer(transformers=[('num', numeric_transformer, columns_to_scale),\n",
    "#                                               ('cat', categorical_transformer, columns_to_encode)\n",
    "#                                               ])\n",
    "\n",
    "# # Pipeline for the model Logistic Regression\n",
    "# clf_logistic_regression2 = Pipeline(steps=[('preprocessor', preprocessor2),\n",
    "#                                           ('classifier', LogisticRegression(max_iter=1000))])\n"
   ]
  },
  {
   "cell_type": "code",
   "execution_count": 349,
   "metadata": {},
   "outputs": [
    {
     "name": "stdout",
     "output_type": "stream",
     "text": [
      "(800, 7)\n",
      "Optimization terminated successfully.\n",
      "         Current function value: 0.570028\n",
      "         Iterations 6\n",
      "                           Logit Regression Results                           \n",
      "==============================================================================\n",
      "Dep. Variable:                      y   No. Observations:                  800\n",
      "Model:                          Logit   Df Residuals:                      793\n",
      "Method:                           MLE   Df Model:                            6\n",
      "Date:                Wed, 03 May 2023   Pseudo R-squ.:                 0.06685\n",
      "Time:                        15:30:33   Log-Likelihood:                -456.02\n",
      "converged:                       True   LL-Null:                       -488.69\n",
      "Covariance Type:            nonrobust   LLR p-value:                 3.680e-12\n",
      "==============================================================================\n",
      "                 coef    std err          z      P>|z|      [0.025      0.975]\n",
      "------------------------------------------------------------------------------\n",
      "x1            -0.3311      0.090     -3.695      0.000      -0.507      -0.155\n",
      "x2            -0.1134      0.082     -1.386      0.166      -0.274       0.047\n",
      "x3             0.8156      0.095      8.598      0.000       0.630       1.002\n",
      "x4             0.8110      0.168      4.838      0.000       0.482       1.140\n",
      "x5             0.7165      0.172      4.163      0.000       0.379       1.054\n",
      "x6             0.6895      0.306      2.251      0.024       0.089       1.290\n",
      "x7             0.9588      0.837      1.145      0.252      -0.683       2.600\n",
      "==============================================================================\n"
     ]
    }
   ],
   "source": [
    "# checking variable significance\n",
    "import statsmodels.api as sm\n",
    "\n",
    "X_train_trans = preprocessor2.fit_transform(X_train2, Y_train_aug)\n",
    "print(X_train_trans.shape)\n",
    "X_train_trans\n",
    "\n",
    "logit_clf = sm.Logit(Y_train_aug, X_train_trans)\n",
    "\n",
    "result = logit_clf.fit(maxiter=1000)\n",
    "\n",
    "print(result.summary())"
   ]
  },
  {
   "cell_type": "markdown",
   "metadata": {},
   "source": [
    "#### only WOE based basic features model"
   ]
  },
  {
   "cell_type": "code",
   "execution_count": 352,
   "metadata": {},
   "outputs": [],
   "source": [
    "# Adding WOE only\n",
    "\n",
    "import category_encoders as ce\n",
    "\n",
    "# Pipeline to fill missing values, transform and scale the numeric columns\n",
    "columns_to_scale = [key for key in feature_types.keys() if feature_types[key] == \"numeric\"]\n",
    "numeric_transformer = Pipeline([('imputer', SimpleImputer(strategy='median')),\n",
    "                                ('scaler', StandardScaler())])\n",
    "\n",
    "# Pipeline to fill missing values and WOE encode the categorical values\n",
    "columns_to_encode = [key for key in feature_types.keys() if feature_types[key] == \"category\"]\n",
    "\n",
    "categorical_transformer = Pipeline([('imputer', SimpleImputer(strategy='constant', fill_value='missing')),\n",
    "                                    ('woe', ce.WOEEncoder())])\n",
    "\n",
    "# Perform preprocessing of the columns with the above pipelines\n",
    "preprocessor = ColumnTransformer(transformers=[('num', numeric_transformer, columns_to_scale),\n",
    "                                              ('cat', categorical_transformer, columns_to_encode)])\n",
    "\n",
    "# Pipeline for the model Logistic Regression\n",
    "clf_logistic_regression2 = Pipeline(steps=[('preprocessor', preprocessor),\n",
    "                                          ('classifier', LogisticRegression(max_iter=1000))])\n"
   ]
  },
  {
   "cell_type": "markdown",
   "metadata": {},
   "source": [
    "### Polynomial Features and Interaction Features \n",
    "\n",
    "In this code snippet, we first specify the degree of the polynomial features we want to create (in this case, degree=2). We then create an instance of the PolynomialFeatures transformer with this degree, and specify include_bias=False to exclude the bias term from the polynomial features.\n",
    "\n",
    "We then fit and transform the training and testing datasets using this transformer to create the polynomial features. We do the same for the interaction features, but set the interaction_only parameter to True to create only interaction features."
   ]
  },
  {
   "cell_type": "code",
   "execution_count": 36,
   "metadata": {},
   "outputs": [],
   "source": [
    "# import category_encoders as ce\n",
    "# from sklearn.feature_selection import SelectKBest, chi2, f_classif\n",
    "# from sklearn.preprocessing import FunctionTransformer\n",
    "\n",
    "# # feature_types is used to declare the features the model is trained on\n",
    "# feature_types_new = {i:column_types_new[i] for i in column_types_new if i not in drop_cols}\n",
    "\n",
    "# # Pipeline to fill missing values, transform and scale the numeric columns\n",
    "# columns_to_scale = [key for key in feature_types.keys() if feature_types[key]==\"numeric\"]\n",
    "# numeric_transformer = Pipeline([('imputer', SimpleImputer(strategy='median')),\n",
    "#                                 ('scaler', StandardScaler())\n",
    "#                                ])\n",
    "\n",
    "# # Pipeline to WOE encode the categorical columns\n",
    "# columns_to_encode = [key for key in feature_types_new.keys() if feature_types_new[key] == \"category\"]\n",
    "# categorical_transformer = Pipeline([('imputer', SimpleImputer(strategy='constant', fill_value='missing')),\n",
    "#                                     ('woe', ce.WOEEncoder())\n",
    "#                                    ])\n",
    "\n",
    "# # Combine the transformers\n",
    "# preprocessor = ColumnTransformer(transformers=[('num', numeric_transformer, columns_to_scale),\n",
    "#                                                ('cat', categorical_transformer, columns_to_encode)\n",
    "#                                               ])\n",
    "\n",
    "\n",
    "# def interaction_features(X):\n",
    "#     interaction_features = []\n",
    "#     for i in range(X.shape[1]):\n",
    "#         for j in range(i+1, X.shape[1]):\n",
    "#             interaction_features.append(X[:, i] * X[:, j])\n",
    "#     return np.column_stack(interaction_features)\n",
    "\n",
    "# # Pipeline for the model Logistic Regression with feature selection and interaction features\n",
    "# clf_logistic_regression2_1 = Pipeline(steps=[('preprocessor', preprocessor),\n",
    "#                                           ('interaction_features', FunctionTransformer(interaction_features)),\n",
    "#                                           ('feature_selection', SelectKBest(f_classif, k=10)),\n",
    "#                                           ('classifier', LogisticRegression(max_iter=1000))\n",
    "#                                          ]\n",
    "#                                   )\n"
   ]
  },
  {
   "cell_type": "code",
   "execution_count": 353,
   "metadata": {},
   "outputs": [],
   "source": [
    "# WOE + New_features {interaction features result in overfitting}\n",
    "\n",
    "import category_encoders as ce\n",
    "from sklearn.preprocessing import PolynomialFeatures\n",
    "from sklearn.feature_selection import SelectKBest, chi2, f_classif, RFE\n",
    "\n",
    "# feature_types is used to declare the features the model is trained on\n",
    "feature_types_new = {i:column_types_new[i] for i in column_types_new if i not in drop_cols}\n",
    "\n",
    "# Pipeline to fill missing values, transform and scale the numeric columns\n",
    "columns_to_scale = [key for key in feature_types_new.keys() if feature_types_new[key] == \"numeric\"]\n",
    "numeric_transformer = Pipeline([('imputer', SimpleImputer(strategy='median')),\n",
    "                                ('scaler', StandardScaler())])\n",
    "\n",
    "# Pipeline to fill missing values and WOE encode the categorical values\n",
    "columns_to_encode = [key for key in feature_types_new.keys() if feature_types_new[key] == \"category\"]\n",
    "\n",
    "categorical_transformer = Pipeline([('imputer', SimpleImputer(strategy='constant', fill_value='missing')),\n",
    "                                    ('woe', ce.WOEEncoder())\n",
    "                                   ])\n",
    "\n",
    "# Pipeline to add interaction features to the numeric columns\n",
    "interaction_transformer = Pipeline([('poly', PolynomialFeatures(degree=2, include_bias=False, interaction_only=True))])\n",
    "columns_to_transform = columns_to_scale + columns_to_encode\n",
    "\n",
    "# Combine the transformers\n",
    "preprocessor = ColumnTransformer(transformers=[('num', numeric_transformer, columns_to_scale),\n",
    "                                               ('cat', categorical_transformer, columns_to_encode),\n",
    "                                               ('interaction', interaction_transformer, columns_to_scale)\n",
    "                                              ])\n",
    "\n",
    "# Pipeline for the model Logistic Regression\n",
    "clf_logistic_regression2_1 = Pipeline(steps=[('preprocessor', preprocessor),\n",
    "                                             ('feature_selection', SelectKBest(f_classif, k=7)),\n",
    "#                                              ('feature_Selection',RFE(estimator=LogisticRegression(max_iter=10000), n_features_to_select=6)),\n",
    "                                             ('classifier', LogisticRegression(max_iter=1000))\n",
    "                                            ])\n",
    "\n"
   ]
  },
  {
   "cell_type": "code",
   "execution_count": 354,
   "metadata": {},
   "outputs": [
    {
     "data": {
      "text/plain": [
       "{'account_check_status': 'category',\n",
       " 'duration_in_month': 'numeric',\n",
       " 'credit_history': 'category',\n",
       " 'purpose': 'category',\n",
       " 'credit_amount': 'numeric',\n",
       " 'savings': 'category',\n",
       " 'present_employment_since': 'category',\n",
       " 'installment_as_income_perc': 'numeric',\n",
       " 'sex': 'category',\n",
       " 'personal_status': 'category',\n",
       " 'other_debtors': 'category',\n",
       " 'present_residence_since': 'numeric',\n",
       " 'property': 'category',\n",
       " 'age': 'numeric',\n",
       " 'other_installment_plans': 'category',\n",
       " 'housing': 'category',\n",
       " 'credits_this_bank': 'numeric',\n",
       " 'job': 'category',\n",
       " 'people_under_maintenance': 'numeric',\n",
       " 'telephone': 'category',\n",
       " 'foreign_worker': 'category',\n",
       " 'monthly_debt_payments': 'numeric',\n",
       " 'log_credit_amount': 'numeric',\n",
       " 'monthly_dbt_cat': 'category',\n",
       " 'crdt_amt_cat': 'category',\n",
       " 'age_cat': 'category',\n",
       " 'dur_mon_cat': 'category',\n",
       " 'inst_incm_perc_cat': 'category',\n",
       " 'pr_res_cat': 'category',\n",
       " 'crdt_bnk_cat': 'category'}"
      ]
     },
     "execution_count": 354,
     "metadata": {},
     "output_type": "execute_result"
    }
   ],
   "source": [
    "feature_types_new"
   ]
  },
  {
   "cell_type": "code",
   "execution_count": 355,
   "metadata": {},
   "outputs": [],
   "source": [
    "# WOE + New_features replacement + interaction features + Variance threshold + Regularizarion\n",
    "\n",
    "import category_encoders as ce\n",
    "from sklearn.preprocessing import PolynomialFeatures\n",
    "from sklearn.feature_selection import SelectFromModel\n",
    "from sklearn.linear_model import Lasso, Ridge\n",
    "from sklearn.feature_selection import VarianceThreshold\n",
    "from sklearn.pipeline import make_pipeline\n",
    "\n",
    "feature_types_new = {i:column_types[i] for i in column_types if i not in drop_cols}\n",
    "\n",
    "\n",
    "# Pipeline to fill missing values, transform and scale the numeric columns\n",
    "columns_to_scale = [key for key in feature_types_new.keys() if feature_types_new[key]==\"numeric\"]\n",
    "numeric_transformer = Pipeline([('imputer', SimpleImputer(strategy='median')),\n",
    "                                ('var_thresh',VarianceThreshold(threshold=0.1)),\n",
    "                                ('scaler', StandardScaler())\n",
    "                               ])\n",
    "\n",
    "# Pipeline to fill missing values and one hot encode the categorical values\n",
    "columns_to_encode = [key for key in feature_types_new.keys() if feature_types_new[key]==\"category\"]\n",
    "categorical_transformer = Pipeline([\n",
    "        ('imputer', SimpleImputer(strategy='constant', fill_value='missing')),\n",
    "        ('woe', ce.WOEEncoder())\n",
    "])\n",
    "\n",
    "\n",
    "# Pipeline to add interaction features to the numeric columns\n",
    "interaction_transformer = make_pipeline(\n",
    "    PolynomialFeatures(degree=2, include_bias=False, interaction_only=True),\n",
    "    VarianceThreshold(threshold=0.1)\n",
    ")\n",
    "\n",
    "# Combine the transformers\n",
    "preprocessor = ColumnTransformer(transformers=[('num', numeric_transformer, columns_to_scale),\n",
    "                                               ('cat', categorical_transformer, columns_to_encode),\n",
    "                                               ('interaction', interaction_transformer, columns_to_scale)])\n",
    "\n",
    "\n",
    "clf_logistic_regression3 = Pipeline(steps=[('preprocessor', preprocessor),\n",
    "                                             ('reg_model', SelectFromModel(Ridge(alpha=3))),\n",
    "                                           ('classifier', LogisticRegression(max_iter=1000))])"
   ]
  },
  {
   "cell_type": "markdown",
   "metadata": {},
   "source": [
    "## SMOTE : Handling Class Imbalance"
   ]
  },
  {
   "cell_type": "code",
   "execution_count": 356,
   "metadata": {},
   "outputs": [],
   "source": [
    "!pip install -q imblearn"
   ]
  },
  {
   "cell_type": "code",
   "execution_count": 357,
   "metadata": {},
   "outputs": [],
   "source": [
    "# Adding random minority oversampling using SMOTE and SmoteTOMEK\n",
    "\n",
    "from imblearn.pipeline import Pipeline as ImbPipeline\n",
    "from imblearn.over_sampling import SMOTE, SMOTEN\n",
    "from imblearn.combine import SMOTEENN, SMOTETomek\n",
    "\n",
    "feature_types_new = {i:column_types[i] for i in column_types if i not in drop_cols}\n",
    "\n",
    "# Pipeline to fill missing values, transform and scale the numeric columns\n",
    "columns_to_scale = [key for key in feature_types_new.keys() if feature_types_new[key]==\"numeric\"]\n",
    "numeric_transformer = Pipeline([('imputer', SimpleImputer(strategy='median')),\n",
    "                                ('var_thresh',VarianceThreshold(threshold=0.1)),\n",
    "                                ('scaler', StandardScaler())\n",
    "                               ])\n",
    "\n",
    "# Pipeline to fill missing values and one hot encode the categorical values\n",
    "columns_to_encode = [key for key in feature_types_new.keys() if feature_types_new[key]==\"category\"]\n",
    "categorical_transformer = Pipeline([\n",
    "        ('imputer', SimpleImputer(strategy='constant', fill_value='missing')),\n",
    "        ('woe', ce.WOEEncoder())\n",
    "])\n",
    "\n",
    "# Pipeline to add interaction features to the numeric columns\n",
    "interaction_transformer = make_pipeline(\n",
    "    PolynomialFeatures(degree=2, include_bias=False, interaction_only=True),\n",
    "    VarianceThreshold(threshold=0.1)\n",
    ")\n",
    "\n",
    "# Combine the transformers\n",
    "preprocessor = ColumnTransformer(transformers=[('num', numeric_transformer, columns_to_scale),\n",
    "                                               ('cat', categorical_transformer, columns_to_encode),\n",
    "                                               ('interaction', interaction_transformer, columns_to_scale)])\n",
    "\n",
    "# Pipeline for the model Logistic Regression\n",
    "clf_logistic_regression4 = ImbPipeline(steps=[\n",
    "    ('preprocessor', preprocessor),\n",
    "    ('smotetomek', SMOTETomek(sampling_strategy='minority', random_state=42)),\n",
    "    ('reg_model', SelectFromModel(Ridge(alpha=3))),\n",
    "    ('classifier', LogisticRegression(max_iter=1000))\n",
    "])\n"
   ]
  },
  {
   "cell_type": "code",
   "execution_count": 358,
   "metadata": {},
   "outputs": [],
   "source": [
    "# Basic : WOE + all features + SMOTEtomek + interaction + Regularization\n",
    "\n",
    "from imblearn.pipeline import Pipeline as ImbPipeline\n",
    "from imblearn.over_sampling import SMOTE, SMOTEN\n",
    "from imblearn.combine import SMOTEENN, SMOTETomek\n",
    "\n",
    "feature_types_new = {i:column_types[i] for i in column_types if i not in drop_cols}\n",
    "\n",
    "# Pipeline to fill missing values, transform and scale the numeric columns\n",
    "columns_to_scale = [key for key in feature_types_new.keys() if feature_types_new[key]==\"numeric\"]\n",
    "numeric_transformer = Pipeline([('imputer', SimpleImputer(strategy='median')),\n",
    "                                ('var_thresh',VarianceThreshold(threshold=0.1)),\n",
    "                                ('scaler', StandardScaler())\n",
    "                               ])\n",
    "\n",
    "# Pipeline to fill missing values and one hot encode the categorical values\n",
    "columns_to_encode = [key for key in feature_types_new.keys() if feature_types_new[key]==\"category\"]\n",
    "categorical_transformer = Pipeline([\n",
    "        ('imputer', SimpleImputer(strategy='constant', fill_value='missing')),\n",
    "        ('woe', ce.WOEEncoder())\n",
    "])\n",
    "\n",
    "# Pipeline to add interaction features to the numeric columns\n",
    "interaction_transformer = make_pipeline(\n",
    "    PolynomialFeatures(degree=2, include_bias=False, interaction_only=True),\n",
    "    VarianceThreshold(threshold=0.1)\n",
    ")\n",
    "\n",
    "# Combine the transformers\n",
    "preprocessor = ColumnTransformer(transformers=[('num', numeric_transformer, columns_to_scale),\n",
    "                                               ('cat', categorical_transformer, columns_to_encode),\n",
    "                                               ('interaction', interaction_transformer, columns_to_scale)])\n",
    "\n",
    "# Pipeline for the model Logistic Regression\n",
    "clf_logistic_regression4_1 = ImbPipeline(steps=[\n",
    "    ('preprocessor', preprocessor),\n",
    "    ('smote', SMOTE(sampling_strategy='minority',random_state=7)),\n",
    "    ('reg_model', SelectFromModel(Ridge(alpha=3))),\n",
    "    ('classifier', LogisticRegression(max_iter=1000))\n",
    "])\n"
   ]
  },
  {
   "cell_type": "code",
   "execution_count": 44,
   "metadata": {},
   "outputs": [],
   "source": [
    "# # Basic : WOE + all features + SMOTEtomek \n",
    "# import category_encoders as ce\n",
    "\n",
    "# # Pipeline to fill missing values, transform and scale the numeric columns\n",
    "# columns_to_scale = [key for key in feature_types.keys() if feature_types[key] == \"numeric\"]\n",
    "# numeric_transformer = Pipeline([('imputer', SimpleImputer(strategy='median')),\n",
    "#                                 ('scaler', StandardScaler())])\n",
    "\n",
    "# # Pipeline to fill missing values and WOE encode the categorical values\n",
    "# columns_to_encode = [key for key in feature_types.keys() if feature_types[key] == \"category\"]\n",
    "\n",
    "# categorical_transformer = Pipeline([('imputer', SimpleImputer(strategy='constant', fill_value='missing')),\n",
    "#                                     ('woe', ce.WOEEncoder())])\n",
    "\n",
    "# # Perform preprocessing of the columns with the above pipelines\n",
    "# preprocessor = ColumnTransformer(transformers=[('num', numeric_transformer, columns_to_scale),\n",
    "#                                               ('cat', categorical_transformer, columns_to_encode)])\n",
    "\n",
    "\n",
    "# # Pipeline for the model Logistic Regression\n",
    "# clf_logistic_regression4_2 = ImbPipeline(steps=[\n",
    "#     ('preprocessor', preprocessor),\n",
    "#     ('smotetomek', SMOTETomek(sampling_strategy='minority', random_state=42)),\n",
    "#     ('classifier', LogisticRegression(max_iter=1000))\n",
    "# ])\n"
   ]
  },
  {
   "cell_type": "code",
   "execution_count": 359,
   "metadata": {},
   "outputs": [],
   "source": [
    "# Basic : WOE + all features + SMOTEtomek + calibration\n",
    "import category_encoders as ce\n",
    "from sklearn.calibration import CalibratedClassifierCV\n",
    "\n",
    "# Pipeline to fill missing values, transform and scale the numeric columns\n",
    "columns_to_scale = [key for key in feature_types.keys() if feature_types[key] == \"numeric\"]\n",
    "numeric_transformer = Pipeline([('imputer', SimpleImputer(strategy='median')),\n",
    "                                ('scaler', StandardScaler())])\n",
    "\n",
    "# Pipeline to fill missing values and WOE encode the categorical values\n",
    "columns_to_encode = [key for key in feature_types.keys() if feature_types[key] == \"category\"]\n",
    "\n",
    "categorical_transformer = Pipeline([('imputer', SimpleImputer(strategy='constant', fill_value='missing')),\n",
    "                                    ('woe', ce.WOEEncoder())])\n",
    "\n",
    "# Perform preprocessing of the columns with the above pipelines\n",
    "preprocessor = ColumnTransformer(transformers=[('num', numeric_transformer, columns_to_scale),\n",
    "                                              ('cat', categorical_transformer, columns_to_encode)])\n",
    "\n",
    "# Pipeline for the model Logistic Regression\n",
    "clf_logistic_regression4_2 = ImbPipeline(steps=[\n",
    "    ('preprocessor', preprocessor),\n",
    "    ('smotetomek', SMOTETomek(sampling_strategy='minority', random_state=42)),\n",
    "    ('classifier', CalibratedClassifierCV(base_estimator=LogisticRegression(max_iter=1000), cv=5, method='sigmoid'))\n",
    "])\n"
   ]
  },
  {
   "cell_type": "markdown",
   "metadata": {},
   "source": [
    "### Model runs"
   ]
  },
  {
   "cell_type": "code",
   "execution_count": 377,
   "metadata": {},
   "outputs": [],
   "source": [
    "# Run everytime we change data\n",
    "Y_train_aug = np.array(Y_train)\n",
    "Y_test_aug = np.array(Y_test)\n",
    "\n",
    "Y_train_new_aug = np.array(Y_train_new)\n",
    "Y_test_new_aug = np.array(Y_test_new)\n",
    "\n",
    "# convert Y_test_aug to binary encoding if it is not already\n",
    "Y_train_aug = np.where(Y_train_aug == 'Not default', 1, 0)\n",
    "Y_test_aug = np.where(Y_test_aug == 'Not default', 1, 0)\n",
    "\n",
    "Y_train_new_aug = np.where(Y_train_new_aug == 'Not default', 1, 0)\n",
    "Y_test_new_aug = np.where(Y_test_new_aug == 'Not default', 1, 0)\n"
   ]
  },
  {
   "cell_type": "code",
   "execution_count": 361,
   "metadata": {},
   "outputs": [
    {
     "data": {
      "text/plain": [
       "(800, 21)"
      ]
     },
     "execution_count": 361,
     "metadata": {},
     "output_type": "execute_result"
    }
   ],
   "source": [
    "X_train.shape"
   ]
  },
  {
   "cell_type": "code",
   "execution_count": 48,
   "metadata": {},
   "outputs": [
    {
     "data": {
      "text/plain": [
       "(800, 30)"
      ]
     },
     "execution_count": 48,
     "metadata": {},
     "output_type": "execute_result"
    }
   ],
   "source": [
    "X_train_new.shape"
   ]
  },
  {
   "cell_type": "code",
   "execution_count": 49,
   "metadata": {},
   "outputs": [
    {
     "name": "stdout",
     "output_type": "stream",
     "text": [
      "(800,)\n"
     ]
    },
    {
     "data": {
      "text/plain": [
       "Not default    560\n",
       "Default        240\n",
       "Name: default, dtype: int64"
      ]
     },
     "execution_count": 49,
     "metadata": {},
     "output_type": "execute_result"
    }
   ],
   "source": [
    "print((Y_train.shape))\n",
    "Y_train.value_counts()"
   ]
  },
  {
   "cell_type": "code",
   "execution_count": 50,
   "metadata": {},
   "outputs": [
    {
     "name": "stdout",
     "output_type": "stream",
     "text": [
      "Weak baseline 0.7\n"
     ]
    }
   ],
   "source": [
    "# weakbaseline due class-imbalance, treating predictions if all were majority class \n",
    "print(\"Weak baseline\", Y_train[Y_train == 'Not default'].shape[0] / Y_train.shape[0])"
   ]
  },
  {
   "cell_type": "markdown",
   "metadata": {},
   "source": [
    "#### WOE + all base features"
   ]
  },
  {
   "cell_type": "code",
   "execution_count": 350,
   "metadata": {},
   "outputs": [
    {
     "name": "stdout",
     "output_type": "stream",
     "text": [
      "Train accuracy score:  0.7575\n",
      "Test accuracy score:  0.715\n"
     ]
    }
   ],
   "source": [
    "# Fit and score your model : Feature selected on p-value trial\n",
    "\n",
    "\n",
    "\n",
    "# X_train2 = X_train_new[final_fts].copy(deep = True)\n",
    "# X_test2 = X_test_new[final_fts].copy(deep = True)\n",
    "\n",
    "\n",
    "# clf_logistic_regression2.fit(X_train2, Y_train_aug)\n",
    "\n",
    "# # The output is mean accuracy on the given test features and labels; which in my opinion is a wrong measure here\n",
    "\n",
    "# print(\"Train accuracy score: \", clf_logistic_regression2.score(X_train2, Y_train_aug))\n",
    "# print(\"Test accuracy score: \", clf_logistic_regression2.score(X_test2, Y_test_aug))\n"
   ]
  },
  {
   "cell_type": "code",
   "execution_count": 362,
   "metadata": {},
   "outputs": [
    {
     "name": "stdout",
     "output_type": "stream",
     "text": [
      "Train accuracy score:  0.7775\n",
      "Test accuracy score:  0.765\n"
     ]
    }
   ],
   "source": [
    "# Fit and score your model : updated with WOE + all fts \n",
    "## Slight improvement in accuracy by 10 bps\n",
    "\n",
    "clf_logistic_regression2.fit(X_train, Y_train_aug)\n",
    "\n",
    "# The output is mean accuracy on the given test features and labels; which in my opinion is a wrong measure here\n",
    "\n",
    "print(\"Train accuracy score: \", clf_logistic_regression2.score(X_train, Y_train_aug))\n",
    "print(\"Test accuracy score: \", clf_logistic_regression2.score(X_test, Y_test_aug))\n"
   ]
  },
  {
   "cell_type": "code",
   "execution_count": 363,
   "metadata": {},
   "outputs": [
    {
     "name": "stdout",
     "output_type": "stream",
     "text": [
      "Training Eval \n",
      "               precision    recall  f1-score   support\n",
      "\n",
      "     Default       0.68      0.50      0.57       240\n",
      " Not default       0.81      0.90      0.85       560\n",
      "\n",
      "    accuracy                           0.78       800\n",
      "   macro avg       0.74      0.70      0.71       800\n",
      "weighted avg       0.77      0.78      0.77       800\n",
      "\n",
      "Test Eval \n",
      "               precision    recall  f1-score   support\n",
      "\n",
      "     Default       0.62      0.55      0.58        60\n",
      " Not default       0.82      0.86      0.84       140\n",
      "\n",
      "    accuracy                           0.77       200\n",
      "   macro avg       0.72      0.70      0.71       200\n",
      "weighted avg       0.76      0.77      0.76       200\n",
      "\n",
      "Training CF\n"
     ]
    },
    {
     "name": "stderr",
     "output_type": "stream",
     "text": [
      "/Users/pahu/opt/anaconda3/lib/python3.9/site-packages/sklearn/utils/deprecation.py:87: FutureWarning: Function plot_confusion_matrix is deprecated; Function `plot_confusion_matrix` is deprecated in 1.0 and will be removed in 1.2. Use one of the class methods: ConfusionMatrixDisplay.from_predictions or ConfusionMatrixDisplay.from_estimator.\n",
      "  warnings.warn(msg, category=FutureWarning)\n"
     ]
    },
    {
     "data": {
      "image/png": "[encoded data removed]",
      "text/plain": [
       "<Figure size 432x288 with 2 Axes>"
      ]
     },
     "metadata": {
      "needs_background": "light"
     },
     "output_type": "display_data"
    },
    {
     "name": "stdout",
     "output_type": "stream",
     "text": [
      "Test CF\n"
     ]
    },
    {
     "name": "stderr",
     "output_type": "stream",
     "text": [
      "/Users/pahu/opt/anaconda3/lib/python3.9/site-packages/sklearn/utils/deprecation.py:87: FutureWarning: Function plot_confusion_matrix is deprecated; Function `plot_confusion_matrix` is deprecated in 1.0 and will be removed in 1.2. Use one of the class methods: ConfusionMatrixDisplay.from_predictions or ConfusionMatrixDisplay.from_estimator.\n",
      "  warnings.warn(msg, category=FutureWarning)\n"
     ]
    },
    {
     "data": {
      "image/png": "[encoded data removed]",
      "text/plain": [
       "<Figure size 432x288 with 2 Axes>"
      ]
     },
     "metadata": {
      "needs_background": "light"
     },
     "output_type": "display_data"
    }
   ],
   "source": [
    "# comparing other Classification Evaluation metrics as well\n",
    "from sklearn.metrics import classification_report, auc, roc_curve, confusion_matrix, plot_confusion_matrix\n",
    "\n",
    "Y_pred_train = clf_logistic_regression2.predict(X_train)\n",
    "Y_pred = clf_logistic_regression2.predict(X_test)\n",
    "\n",
    "# generate classification report\n",
    "label_names = ['Default', 'Not default']\n",
    "\n",
    "print(\"Training Eval \\n\", classification_report(Y_train_aug, Y_pred_train, target_names=label_names))\n",
    "print(\"Test Eval \\n\", classification_report(Y_test_aug, Y_pred, target_names=label_names))\n",
    "\n",
    "# generate confusion matrix\n",
    "\n",
    "print(\"Training CF\")\n",
    "cm = confusion_matrix(Y_train_aug, Y_pred_train)\n",
    "plot_confusion_matrix(clf_logistic_regression2, X_train, Y_train_aug, cmap=plt.cm.Reds)\n",
    "plt.show()\n",
    "\n",
    "print(\"Test CF\")\n",
    "cm = confusion_matrix(Y_test_aug, Y_pred)\n",
    "plot_confusion_matrix(clf_logistic_regression2, X_test, Y_test_aug, cmap=plt.cm.Reds)\n",
    "plt.show()"
   ]
  },
  {
   "cell_type": "markdown",
   "metadata": {},
   "source": [
    "#### WOE + base and new features + interactions\n",
    "\n",
    "{bad perf, guess mostly due to overfit + multi-collnearity}"
   ]
  },
  {
   "cell_type": "code",
   "execution_count": 53,
   "metadata": {
    "scrolled": true
   },
   "outputs": [
    {
     "name": "stdout",
     "output_type": "stream",
     "text": [
      "Train accuracy score:  0.75625\n",
      "Test accuracy score:  0.755\n"
     ]
    }
   ],
   "source": [
    "# Fit and score your model : updated with WOE + removed some to replace features + interaction {didn't improve much}\n",
    "clf_logistic_regression2_1.fit(X_train_new, Y_train_new_aug)\n",
    "\n",
    "# The output is mean accuracy on the given test features and labels; which in my opinion is a wrong measure here\n",
    "\n",
    "print(\"Train accuracy score: \", clf_logistic_regression2_1.score(X_train_new, Y_train_new_aug))\n",
    "print(\"Test accuracy score: \", clf_logistic_regression2_1.score(X_test_new, Y_test_new_aug))\n"
   ]
  },
  {
   "cell_type": "code",
   "execution_count": 54,
   "metadata": {},
   "outputs": [
    {
     "name": "stdout",
     "output_type": "stream",
     "text": [
      "Training Eval \n",
      "               precision    recall  f1-score   support\n",
      "\n",
      "     Default       0.65      0.42      0.51       240\n",
      " Not default       0.78      0.90      0.84       560\n",
      "\n",
      "    accuracy                           0.76       800\n",
      "   macro avg       0.71      0.66      0.67       800\n",
      "weighted avg       0.74      0.76      0.74       800\n",
      "\n",
      "Test Eval \n",
      "               precision    recall  f1-score   support\n",
      "\n",
      "     Default       0.62      0.47      0.53        60\n",
      " Not default       0.79      0.88      0.83       140\n",
      "\n",
      "    accuracy                           0.76       200\n",
      "   macro avg       0.71      0.67      0.68       200\n",
      "weighted avg       0.74      0.76      0.74       200\n",
      "\n",
      "Training CF\n"
     ]
    },
    {
     "name": "stderr",
     "output_type": "stream",
     "text": [
      "/Users/pahu/opt/anaconda3/lib/python3.9/site-packages/sklearn/utils/deprecation.py:87: FutureWarning: Function plot_confusion_matrix is deprecated; Function `plot_confusion_matrix` is deprecated in 1.0 and will be removed in 1.2. Use one of the class methods: ConfusionMatrixDisplay.from_predictions or ConfusionMatrixDisplay.from_estimator.\n",
      "  warnings.warn(msg, category=FutureWarning)\n"
     ]
    },
    {
     "data": {
      "image/png": "[encoded data removed]",
      "text/plain": [
       "<Figure size 432x288 with 2 Axes>"
      ]
     },
     "metadata": {
      "needs_background": "light"
     },
     "output_type": "display_data"
    },
    {
     "name": "stdout",
     "output_type": "stream",
     "text": [
      "Test CF\n"
     ]
    },
    {
     "name": "stderr",
     "output_type": "stream",
     "text": [
      "/Users/pahu/opt/anaconda3/lib/python3.9/site-packages/sklearn/utils/deprecation.py:87: FutureWarning: Function plot_confusion_matrix is deprecated; Function `plot_confusion_matrix` is deprecated in 1.0 and will be removed in 1.2. Use one of the class methods: ConfusionMatrixDisplay.from_predictions or ConfusionMatrixDisplay.from_estimator.\n",
      "  warnings.warn(msg, category=FutureWarning)\n"
     ]
    },
    {
     "data": {
      "image/png": "[encoded data removed]",
      "text/plain": [
       "<Figure size 432x288 with 2 Axes>"
      ]
     },
     "metadata": {
      "needs_background": "light"
     },
     "output_type": "display_data"
    }
   ],
   "source": [
    "# comparing other Classification Evaluation metrics as well\n",
    "from sklearn.metrics import classification_report, auc, roc_curve, confusion_matrix, plot_confusion_matrix\n",
    "\n",
    "Y_pred_train = clf_logistic_regression2_1.predict(X_train_new)\n",
    "Y_pred = clf_logistic_regression2_1.predict(X_test_new)\n",
    "\n",
    "# generate classification report\n",
    "label_names = ['Default', 'Not default']\n",
    "\n",
    "print(\"Training Eval \\n\", classification_report(Y_train_new_aug, Y_pred_train, target_names=label_names))\n",
    "print(\"Test Eval \\n\", classification_report(Y_test_new_aug, Y_pred, target_names=label_names))\n",
    "\n",
    "# generate confusion matrix\n",
    "\n",
    "print(\"Training CF\")\n",
    "cm = confusion_matrix(Y_train_new_aug, Y_pred_train)\n",
    "plot_confusion_matrix(clf_logistic_regression2_1, X_train_new, Y_train_aug, cmap=plt.cm.Reds)\n",
    "plt.show()\n",
    "\n",
    "print(\"Test CF\")\n",
    "cm = confusion_matrix(Y_test_new_aug, Y_pred)\n",
    "plot_confusion_matrix(clf_logistic_regression2_1, X_test_new, Y_test_aug, cmap=plt.cm.Reds)\n",
    "plt.show()"
   ]
  },
  {
   "cell_type": "markdown",
   "metadata": {},
   "source": [
    "####  WOE + removed redundant to replace with new features + interaction + regularization\n",
    "\n",
    "{improved recall by 1 over only WOE benchmark}"
   ]
  },
  {
   "cell_type": "code",
   "execution_count": 364,
   "metadata": {},
   "outputs": [
    {
     "name": "stdout",
     "output_type": "stream",
     "text": [
      "Train accuracy score:  0.77625\n",
      "Test accuracy score:  0.75\n"
     ]
    }
   ],
   "source": [
    "# Fit and score your model : updated with WOE + removed some to replace features + interaction + regularization\n",
    "# {improved recall by 1 over only WOE benchmark}\n",
    "clf_logistic_regression3.fit(X_train_new, Y_train_new_aug)\n",
    "\n",
    "# The output is mean accuracy on the given test features and labels; which in my opinion is a wrong measure here\n",
    "\n",
    "print(\"Train accuracy score: \", clf_logistic_regression3.score(X_train_new, Y_train_new_aug))\n",
    "print(\"Test accuracy score: \", clf_logistic_regression3.score(X_test_new, Y_test_new_aug))\n"
   ]
  },
  {
   "cell_type": "code",
   "execution_count": 365,
   "metadata": {},
   "outputs": [
    {
     "name": "stdout",
     "output_type": "stream",
     "text": [
      "Training Eval \n",
      "               precision    recall  f1-score   support\n",
      "\n",
      "     Default       0.67      0.51      0.58       240\n",
      " Not default       0.81      0.89      0.85       560\n",
      "\n",
      "    accuracy                           0.78       800\n",
      "   macro avg       0.74      0.70      0.71       800\n",
      "weighted avg       0.77      0.78      0.77       800\n",
      "\n",
      "Test Eval \n",
      "               precision    recall  f1-score   support\n",
      "\n",
      "     Default       0.59      0.57      0.58        60\n",
      " Not default       0.82      0.83      0.82       140\n",
      "\n",
      "    accuracy                           0.75       200\n",
      "   macro avg       0.70      0.70      0.70       200\n",
      "weighted avg       0.75      0.75      0.75       200\n",
      "\n",
      "Training CF\n"
     ]
    },
    {
     "name": "stderr",
     "output_type": "stream",
     "text": [
      "/Users/pahu/opt/anaconda3/lib/python3.9/site-packages/sklearn/utils/deprecation.py:87: FutureWarning: Function plot_confusion_matrix is deprecated; Function `plot_confusion_matrix` is deprecated in 1.0 and will be removed in 1.2. Use one of the class methods: ConfusionMatrixDisplay.from_predictions or ConfusionMatrixDisplay.from_estimator.\n",
      "  warnings.warn(msg, category=FutureWarning)\n"
     ]
    },
    {
     "data": {
      "image/png": "[encoded data removed]",
      "text/plain": [
       "<Figure size 432x288 with 2 Axes>"
      ]
     },
     "metadata": {
      "needs_background": "light"
     },
     "output_type": "display_data"
    },
    {
     "name": "stdout",
     "output_type": "stream",
     "text": [
      "Test CF\n"
     ]
    },
    {
     "name": "stderr",
     "output_type": "stream",
     "text": [
      "/Users/pahu/opt/anaconda3/lib/python3.9/site-packages/sklearn/utils/deprecation.py:87: FutureWarning: Function plot_confusion_matrix is deprecated; Function `plot_confusion_matrix` is deprecated in 1.0 and will be removed in 1.2. Use one of the class methods: ConfusionMatrixDisplay.from_predictions or ConfusionMatrixDisplay.from_estimator.\n",
      "  warnings.warn(msg, category=FutureWarning)\n"
     ]
    },
    {
     "data": {
      "image/png": "[encoded data removed]",
      "text/plain": [
       "<Figure size 432x288 with 2 Axes>"
      ]
     },
     "metadata": {
      "needs_background": "light"
     },
     "output_type": "display_data"
    }
   ],
   "source": [
    "# comparing other Classification Evaluation metrics as well\n",
    "from sklearn.metrics import classification_report, auc, roc_curve, confusion_matrix, plot_confusion_matrix\n",
    "\n",
    "Y_pred_train = clf_logistic_regression3.predict(X_train_new)\n",
    "Y_pred = clf_logistic_regression3.predict(X_test_new)\n",
    "\n",
    "# generate classification report\n",
    "label_names = ['Default', 'Not default']\n",
    "\n",
    "print(\"Training Eval \\n\", classification_report(Y_train_new_aug, Y_pred_train, target_names=label_names))\n",
    "print(\"Test Eval \\n\", classification_report(Y_test_new_aug, Y_pred, target_names=label_names))\n",
    "\n",
    "# generate confusion matrix\n",
    "\n",
    "print(\"Training CF\")\n",
    "cm = confusion_matrix(Y_train_new_aug, Y_pred_train)\n",
    "plot_confusion_matrix(clf_logistic_regression3, X_train_new, Y_train_aug, cmap=plt.cm.Reds)\n",
    "plt.show()\n",
    "\n",
    "print(\"Test CF\")\n",
    "cm = confusion_matrix(Y_test_new_aug, Y_pred)\n",
    "plot_confusion_matrix(clf_logistic_regression3, X_test_new, Y_test_aug, cmap=plt.cm.Reds)\n",
    "plt.show()"
   ]
  },
  {
   "cell_type": "markdown",
   "metadata": {},
   "source": [
    "#### Updated with WOE + removed some to replace redundant features + interaction + regularization + SMOTEtomek\n",
    "\n",
    "{ Significant improvemet in Recall metrics for default and precision for non-default; although with reduction in overall accuracy, but F1-score remaining more or less similar}\n",
    "\n",
    "calbration as what we wanted as per domain knowledge and business"
   ]
  },
  {
   "cell_type": "code",
   "execution_count": 366,
   "metadata": {},
   "outputs": [
    {
     "name": "stdout",
     "output_type": "stream",
     "text": [
      "Train accuracy score:  0.7425\n",
      "Test accuracy score:  0.72\n"
     ]
    }
   ],
   "source": [
    "# Fit and score your model : updated with WOE + removed features + interaction + regularization + SMOTE\n",
    "\n",
    "clf_logistic_regression4.fit(X_train_new, Y_train_new_aug)\n",
    "\n",
    "# The output is mean accuracy on the given test features and labels; which in my opinion is a wrong measure here\n",
    "\n",
    "print(\"Train accuracy score: \", clf_logistic_regression4.score(X_train_new, Y_train_new_aug))\n",
    "print(\"Test accuracy score: \", clf_logistic_regression4.score(X_test_new, Y_test_new_aug))\n"
   ]
  },
  {
   "cell_type": "code",
   "execution_count": 367,
   "metadata": {},
   "outputs": [
    {
     "name": "stdout",
     "output_type": "stream",
     "text": [
      "Training Eval \n",
      "               precision    recall  f1-score   support\n",
      "\n",
      "     Default       0.55      0.75      0.64       240\n",
      " Not default       0.88      0.74      0.80       560\n",
      "\n",
      "    accuracy                           0.74       800\n",
      "   macro avg       0.71      0.75      0.72       800\n",
      "weighted avg       0.78      0.74      0.75       800\n",
      "\n",
      "Test Eval \n",
      "               precision    recall  f1-score   support\n",
      "\n",
      "     Default       0.52      0.82      0.64        60\n",
      " Not default       0.90      0.68      0.77       140\n",
      "\n",
      "    accuracy                           0.72       200\n",
      "   macro avg       0.71      0.75      0.70       200\n",
      "weighted avg       0.78      0.72      0.73       200\n",
      "\n",
      "Training CF\n"
     ]
    },
    {
     "name": "stderr",
     "output_type": "stream",
     "text": [
      "/Users/pahu/opt/anaconda3/lib/python3.9/site-packages/sklearn/utils/deprecation.py:87: FutureWarning: Function plot_confusion_matrix is deprecated; Function `plot_confusion_matrix` is deprecated in 1.0 and will be removed in 1.2. Use one of the class methods: ConfusionMatrixDisplay.from_predictions or ConfusionMatrixDisplay.from_estimator.\n",
      "  warnings.warn(msg, category=FutureWarning)\n"
     ]
    },
    {
     "data": {
      "image/png": "[encoded data removed]",
      "text/plain": [
       "<Figure size 432x288 with 2 Axes>"
      ]
     },
     "metadata": {
      "needs_background": "light"
     },
     "output_type": "display_data"
    },
    {
     "name": "stdout",
     "output_type": "stream",
     "text": [
      "Test CF\n"
     ]
    },
    {
     "name": "stderr",
     "output_type": "stream",
     "text": [
      "/Users/pahu/opt/anaconda3/lib/python3.9/site-packages/sklearn/utils/deprecation.py:87: FutureWarning: Function plot_confusion_matrix is deprecated; Function `plot_confusion_matrix` is deprecated in 1.0 and will be removed in 1.2. Use one of the class methods: ConfusionMatrixDisplay.from_predictions or ConfusionMatrixDisplay.from_estimator.\n",
      "  warnings.warn(msg, category=FutureWarning)\n"
     ]
    },
    {
     "data": {
      "image/png": "[encoded data removed]",
      "text/plain": [
       "<Figure size 432x288 with 2 Axes>"
      ]
     },
     "metadata": {
      "needs_background": "light"
     },
     "output_type": "display_data"
    }
   ],
   "source": [
    "# comparing other Classification Evaluation metrics as well\n",
    "from sklearn.metrics import classification_report, auc, roc_curve, confusion_matrix, plot_confusion_matrix\n",
    "\n",
    "Y_pred_train = clf_logistic_regression4.predict(X_train_new)\n",
    "Y_pred = clf_logistic_regression4.predict(X_test_new)\n",
    "\n",
    "# generate classification report\n",
    "label_names = ['Default', 'Not default']\n",
    "\n",
    "print(\"Training Eval \\n\", classification_report(Y_train_new_aug, Y_pred_train, target_names=label_names))\n",
    "print(\"Test Eval \\n\", classification_report(Y_test_new_aug, Y_pred, target_names=label_names))\n",
    "\n",
    "# generate confusion matrix\n",
    "\n",
    "print(\"Training CF\")\n",
    "cm = confusion_matrix(Y_train_new_aug, Y_pred_train)\n",
    "plot_confusion_matrix(clf_logistic_regression4, X_train_new, Y_train_aug, cmap=plt.cm.Reds)\n",
    "plt.show()\n",
    "\n",
    "print(\"Test CF\")\n",
    "cm = confusion_matrix(Y_test_new_aug, Y_pred)\n",
    "plot_confusion_matrix(clf_logistic_regression4, X_test_new, Y_test_aug, cmap=plt.cm.Reds)\n",
    "plt.show()"
   ]
  },
  {
   "cell_type": "markdown",
   "metadata": {},
   "source": [
    "#### Updated with WOE + removed some to replace redundant features + interaction + regularization + SMOTE\n",
    "\n",
    "Here the test accuracy is aligned over previous SMOTEtomek method but at the cost of reduced precision-recall balance;"
   ]
  },
  {
   "cell_type": "code",
   "execution_count": 368,
   "metadata": {},
   "outputs": [
    {
     "name": "stdout",
     "output_type": "stream",
     "text": [
      "Train accuracy score:  0.7525\n",
      "Test accuracy score:  0.71\n"
     ]
    }
   ],
   "source": [
    "# Fit and score your model : updated with WOE + removed features + interaction + regularization + SMOTE\n",
    "\n",
    "clf_logistic_regression4_1.fit(X_train_new, Y_train_new_aug)\n",
    "\n",
    "# The output is mean accuracy on the given test features and labels; which in my opinion is a wrong measure here\n",
    "\n",
    "print(\"Train accuracy score: \", clf_logistic_regression4_1.score(X_train_new, Y_train_new_aug))\n",
    "print(\"Test accuracy score: \", clf_logistic_regression4_1.score(X_test_new, Y_test_new_aug))\n"
   ]
  },
  {
   "cell_type": "code",
   "execution_count": 369,
   "metadata": {},
   "outputs": [
    {
     "name": "stdout",
     "output_type": "stream",
     "text": [
      "Training Eval \n",
      "               precision    recall  f1-score   support\n",
      "\n",
      "     Default       0.57      0.76      0.65       240\n",
      " Not default       0.88      0.75      0.81       560\n",
      "\n",
      "    accuracy                           0.75       800\n",
      "   macro avg       0.72      0.75      0.73       800\n",
      "weighted avg       0.78      0.75      0.76       800\n",
      "\n",
      "Test Eval \n",
      "               precision    recall  f1-score   support\n",
      "\n",
      "     Default       0.51      0.80      0.62        60\n",
      " Not default       0.89      0.67      0.76       140\n",
      "\n",
      "    accuracy                           0.71       200\n",
      "   macro avg       0.70      0.74      0.69       200\n",
      "weighted avg       0.77      0.71      0.72       200\n",
      "\n",
      "Training CF\n"
     ]
    },
    {
     "name": "stderr",
     "output_type": "stream",
     "text": [
      "/Users/pahu/opt/anaconda3/lib/python3.9/site-packages/sklearn/utils/deprecation.py:87: FutureWarning: Function plot_confusion_matrix is deprecated; Function `plot_confusion_matrix` is deprecated in 1.0 and will be removed in 1.2. Use one of the class methods: ConfusionMatrixDisplay.from_predictions or ConfusionMatrixDisplay.from_estimator.\n",
      "  warnings.warn(msg, category=FutureWarning)\n"
     ]
    },
    {
     "data": {
      "image/png": "[encoded data removed]",
      "text/plain": [
       "<Figure size 432x288 with 2 Axes>"
      ]
     },
     "metadata": {
      "needs_background": "light"
     },
     "output_type": "display_data"
    },
    {
     "name": "stdout",
     "output_type": "stream",
     "text": [
      "Test CF\n"
     ]
    },
    {
     "name": "stderr",
     "output_type": "stream",
     "text": [
      "/Users/pahu/opt/anaconda3/lib/python3.9/site-packages/sklearn/utils/deprecation.py:87: FutureWarning: Function plot_confusion_matrix is deprecated; Function `plot_confusion_matrix` is deprecated in 1.0 and will be removed in 1.2. Use one of the class methods: ConfusionMatrixDisplay.from_predictions or ConfusionMatrixDisplay.from_estimator.\n",
      "  warnings.warn(msg, category=FutureWarning)\n"
     ]
    },
    {
     "data": {
      "image/png": "[encoded data removed]",
      "text/plain": [
       "<Figure size 432x288 with 2 Axes>"
      ]
     },
     "metadata": {
      "needs_background": "light"
     },
     "output_type": "display_data"
    }
   ],
   "source": [
    "# comparing other Classification Evaluation metrics as well\n",
    "from sklearn.metrics import classification_report, auc, roc_curve, confusion_matrix, plot_confusion_matrix\n",
    "\n",
    "Y_pred_train = clf_logistic_regression4_1.predict(X_train_new)\n",
    "Y_pred = clf_logistic_regression4_1.predict(X_test_new)\n",
    "\n",
    "# generate classification report\n",
    "label_names = ['Default', 'Not default']\n",
    "\n",
    "print(\"Training Eval \\n\", classification_report(Y_train_new_aug, Y_pred_train, target_names=label_names))\n",
    "print(\"Test Eval \\n\", classification_report(Y_test_new_aug, Y_pred, target_names=label_names))\n",
    "\n",
    "# generate confusion matrix\n",
    "\n",
    "print(\"Training CF\")\n",
    "cm = confusion_matrix(Y_train_new_aug, Y_pred_train)\n",
    "plot_confusion_matrix(clf_logistic_regression4_1, X_train_new, Y_train_aug, cmap=plt.cm.Reds)\n",
    "plt.show()\n",
    "\n",
    "print(\"Test CF\")\n",
    "cm = confusion_matrix(Y_test_new_aug, Y_pred)\n",
    "plot_confusion_matrix(clf_logistic_regression4_1, X_test_new, Y_test_aug, cmap=plt.cm.Reds)\n",
    "plt.show()"
   ]
  },
  {
   "cell_type": "markdown",
   "metadata": {},
   "source": [
    "####  Updated with WOE + all base features + SMOTEtomek \n",
    "\n",
    "{Slight improvement in accuracy over previous model, and precision-recall calibration as well}"
   ]
  },
  {
   "cell_type": "code",
   "execution_count": 370,
   "metadata": {},
   "outputs": [
    {
     "name": "stdout",
     "output_type": "stream",
     "text": [
      "Train accuracy score:  0.74125\n",
      "Test accuracy score:  0.735\n"
     ]
    }
   ],
   "source": [
    "# Fit and score your model : Updated with WOE + all features (no removal) + SMOTEtomek\n",
    "\n",
    "clf_logistic_regression4_2.fit(X_train, Y_train_aug)\n",
    "\n",
    "# The output is mean accuracy on the given test features and labels; which in my opinion is a wrong measure here\n",
    "\n",
    "print(\"Train accuracy score: \", clf_logistic_regression4_2.score(X_train, Y_train_aug))\n",
    "print(\"Test accuracy score: \", clf_logistic_regression4_2.score(X_test, Y_test_aug))\n"
   ]
  },
  {
   "cell_type": "code",
   "execution_count": 101,
   "metadata": {},
   "outputs": [
    {
     "name": "stdout",
     "output_type": "stream",
     "text": [
      "Best threshold: 0.21915402595881087\n",
      "AUC-ROC: 0.8146949404761905\n"
     ]
    }
   ],
   "source": [
    "# # comparing other Classification Evaluation metrics as well\n",
    "# from sklearn.metrics import classification_report, auc, roc_curve, confusion_matrix, plot_confusion_matrix\n",
    "# from sklearn.metrics import precision_recall_curve\n",
    "\n",
    "# def find_best_threshold(y_true, y_prob):\n",
    "#     precision, recall, thresholds = precision_recall_curve(y_true, y_prob)\n",
    "#     fpr, tpr, roc_thresholds = roc_curve(y_true, y_prob)\n",
    "\n",
    "#     # Calculate AUC-ROC\n",
    "#     auc_roc = auc(fpr, tpr)\n",
    "\n",
    "#     # Calculate F1 score\n",
    "#     f1_scores = 2 * (precision * recall) / (precision + recall)\n",
    "\n",
    "#     # Find the threshold that maximizes F1 score\n",
    "#     best_threshold = thresholds[np.argmax(f1_scores)]\n",
    "\n",
    "#     return best_threshold, auc_roc\n",
    "\n",
    "\n",
    "# Y_prob_train = clf_logistic_regression4_2.predict_proba(X_train)[:, 1]\n",
    "\n",
    "# best_threshold, auc_roc = find_best_threshold(Y_train_aug, Y_prob_train)\n",
    "# # best_threshold, auc_roc = find_best_threshold(Y_test_aug, Y_prob)\n",
    "\n",
    "# print(\"Best threshold:\", best_threshold)\n",
    "# print(\"AUC-ROC:\", auc_roc)\n"
   ]
  },
  {
   "cell_type": "code",
   "execution_count": 371,
   "metadata": {},
   "outputs": [
    {
     "name": "stdout",
     "output_type": "stream",
     "text": [
      "Training Eval \n",
      "               precision    recall  f1-score   support\n",
      "\n",
      "     Default       0.55      0.74      0.63       240\n",
      " Not default       0.87      0.74      0.80       560\n",
      "\n",
      "    accuracy                           0.74       800\n",
      "   macro avg       0.71      0.74      0.72       800\n",
      "weighted avg       0.77      0.74      0.75       800\n",
      "\n",
      "Test Eval \n",
      "               precision    recall  f1-score   support\n",
      "\n",
      "     Default       0.54      0.85      0.66        60\n",
      " Not default       0.91      0.69      0.78       140\n",
      "\n",
      "    accuracy                           0.73       200\n",
      "   macro avg       0.73      0.77      0.72       200\n",
      "weighted avg       0.80      0.73      0.75       200\n",
      "\n",
      "Training CF\n"
     ]
    },
    {
     "name": "stderr",
     "output_type": "stream",
     "text": [
      "/Users/pahu/opt/anaconda3/lib/python3.9/site-packages/sklearn/utils/deprecation.py:87: FutureWarning: Function plot_confusion_matrix is deprecated; Function `plot_confusion_matrix` is deprecated in 1.0 and will be removed in 1.2. Use one of the class methods: ConfusionMatrixDisplay.from_predictions or ConfusionMatrixDisplay.from_estimator.\n",
      "  warnings.warn(msg, category=FutureWarning)\n"
     ]
    },
    {
     "data": {
      "image/png": "[encoded data removed]",
      "text/plain": [
       "<Figure size 432x288 with 2 Axes>"
      ]
     },
     "metadata": {
      "needs_background": "light"
     },
     "output_type": "display_data"
    },
    {
     "name": "stdout",
     "output_type": "stream",
     "text": [
      "Test CF\n"
     ]
    },
    {
     "name": "stderr",
     "output_type": "stream",
     "text": [
      "/Users/pahu/opt/anaconda3/lib/python3.9/site-packages/sklearn/utils/deprecation.py:87: FutureWarning: Function plot_confusion_matrix is deprecated; Function `plot_confusion_matrix` is deprecated in 1.0 and will be removed in 1.2. Use one of the class methods: ConfusionMatrixDisplay.from_predictions or ConfusionMatrixDisplay.from_estimator.\n",
      "  warnings.warn(msg, category=FutureWarning)\n"
     ]
    },
    {
     "data": {
      "image/png": "[encoded data removed]",
      "text/plain": [
       "<Figure size 432x288 with 2 Axes>"
      ]
     },
     "metadata": {
      "needs_background": "light"
     },
     "output_type": "display_data"
    }
   ],
   "source": [
    "# comparing other Classification Evaluation metrics as well\n",
    "\n",
    "Y_pred_train = clf_logistic_regression4_2.predict(X_train)\n",
    "Y_pred_final = clf_logistic_regression4_2.predict(X_test)\n",
    "\n",
    "# Manual probability threshold\n",
    "# Y_pred_final = clf_logistic_regression4_2.predict(X_test)\n",
    "# print(Y_pred_final)\n",
    "\n",
    "# Y_prob = clf_logistic_regression4_2.predict_proba(X_test)[:, 1]\n",
    "# Y_pred_final = Y_prob\n",
    "# Y_pred_final = np.where(Y_prob < best_threshold, 0, 1)\n",
    "\n",
    "# print(Y_pred_final)\n",
    "\n",
    "# generate classification report\n",
    "label_names = ['Default', 'Not default']\n",
    "\n",
    "print(\"Training Eval \\n\", classification_report(Y_train_aug, Y_pred_train, target_names=label_names))\n",
    "print(\"Test Eval \\n\", classification_report(Y_test_aug, Y_pred_final, target_names=label_names))\n",
    "\n",
    "# generate confusion matrix\n",
    "\n",
    "print(\"Training CF\")\n",
    "cm = confusion_matrix(Y_train_aug, Y_pred_train)\n",
    "plot_confusion_matrix(clf_logistic_regression4_2, X_train, Y_train_aug, cmap=plt.cm.Reds)\n",
    "plt.show()\n",
    "\n",
    "print(\"Test CF\")\n",
    "cm = confusion_matrix(Y_test_aug, Y_pred_final)\n",
    "plot_confusion_matrix(clf_logistic_regression4_2, X_test, Y_test_aug, cmap=plt.cm.Reds)\n",
    "plt.show()"
   ]
  },
  {
   "cell_type": "code",
   "execution_count": 63,
   "metadata": {},
   "outputs": [
    {
     "data": {
      "text/plain": [
       "array([0, 1, 0, 1, 1, 0, 1, 1, 0, 0, 0, 0, 1, 1, 1, 1, 0, 0, 0, 1, 0, 1,\n",
       "       1, 1, 0, 1, 0, 0, 1, 1, 0, 0, 1, 1, 1, 0, 0, 1, 0, 1, 0, 0, 1, 0,\n",
       "       0, 1, 1, 1, 1, 0, 1, 0, 1, 1, 0, 0, 1, 0, 1, 0, 1, 0, 1, 0, 1, 0,\n",
       "       0, 1, 0, 1, 0, 1, 0, 0, 1, 0, 1, 1, 0, 1, 1, 1, 0, 1, 0, 0, 1, 1,\n",
       "       1, 0, 1, 0, 1, 0, 1, 1, 0, 0, 1, 1, 0, 1, 0, 0, 1, 1, 0, 1, 1, 0,\n",
       "       1, 1, 0, 0, 1, 1, 1, 0, 1, 0, 1, 0, 1, 0, 0, 1, 1, 1, 0, 1, 0, 1,\n",
       "       0, 1, 0, 1, 1, 0, 0, 1, 0, 0, 0, 0, 1, 1, 1, 0, 0, 0, 1, 1, 0, 1,\n",
       "       0, 0, 0, 1, 1, 0, 0, 0, 1, 0, 0, 1, 0, 0, 1, 1, 1, 1, 1, 1, 0, 0,\n",
       "       1, 1, 1, 0, 1, 0, 1, 1, 1, 1, 1, 0, 1, 0, 1, 0, 0, 0, 0, 1, 0, 1,\n",
       "       0, 1])"
      ]
     },
     "execution_count": 63,
     "metadata": {},
     "output_type": "execute_result"
    }
   ],
   "source": [
    "Y_pred_final"
   ]
  },
  {
   "cell_type": "code",
   "execution_count": 372,
   "metadata": {},
   "outputs": [
    {
     "data": {
      "image/png": "[encoded data removed]",
      "text/plain": [
       "<Figure size 432x288 with 1 Axes>"
      ]
     },
     "metadata": {
      "needs_background": "light"
     },
     "output_type": "display_data"
    }
   ],
   "source": [
    "# very minor increase in AUC-roc from base (0.8186) to (0.8233) by 0.0043 points\n",
    "\n",
    "import numpy as np\n",
    "import matplotlib.pyplot as plt\n",
    "\n",
    "Y_prob = clf_logistic_regression4_2.predict_proba(X_test)[:, 1]\n",
    "\n",
    "# convert Y_test_aug and Y_prob to NumPy arrays if they are not already\n",
    "Y_prob = np.array(Y_prob)\n",
    "\n",
    "# calculate false positive rate (fpr) and true positive rate (tpr) for ROC curve\n",
    "fpr, tpr, thresholds = roc_curve(Y_test_aug, Y_prob)\n",
    "roc_auc = auc(fpr, tpr)\n",
    "\n",
    "# plot ROC curve\n",
    "plt.plot(fpr, tpr, label='ROC curve (area = %0.4f)' % roc_auc)\n",
    "plt.plot([0, 1], [0, 1], 'k--')\n",
    "plt.xlim([0.0, 1.0])\n",
    "plt.ylim([0.0, 1.05])\n",
    "plt.xlabel('False Positive Rate')\n",
    "plt.ylabel('True Positive Rate')\n",
    "plt.title('Receiver Operating Characteristic')\n",
    "plt.legend(loc=\"lower right\")\n",
    "plt.show()"
   ]
  },
  {
   "cell_type": "code",
   "execution_count": 373,
   "metadata": {},
   "outputs": [
    {
     "name": "stdout",
     "output_type": "stream",
     "text": [
      "Brier score for uncalibrated classifier: 0.155\n",
      "Brier score for calibrated classifier: 0.185\n"
     ]
    }
   ],
   "source": [
    "# shows there is still a scope to calibrate our final model output\n",
    "\n",
    "from sklearn.metrics import brier_score_loss\n",
    "\n",
    "# Calculate the Brier score for the uncalibrated and calibrated classifier on test data\n",
    "y_pred = clf_logistic_regression.predict_proba(X_test)[:, 1]\n",
    "brier_score = brier_score_loss(Y_test_aug, y_pred)\n",
    "print(\"Brier score for uncalibrated classifier: {:.3f}\".format(brier_score))\n",
    "\n",
    "y_pred_platt = clf_logistic_regression4_2.predict_proba(X_test)[:, 1]\n",
    "brier_score_platt = brier_score_loss(Y_test_aug, y_pred_platt)\n",
    "print(\"Brier score for calibrated classifier: {:.3f}\".format(brier_score_platt))"
   ]
  },
  {
   "cell_type": "code",
   "execution_count": 374,
   "metadata": {},
   "outputs": [
    {
     "name": "stdout",
     "output_type": "stream",
     "text": [
      "{'account_check_status': {'0 <= ... < 200 DM': [0.6842105263157895, 0.7017543859649122], 'no checking account': [0.8823529411764706, 0.8823529411764706], '< 0 DM': [0.6440677966101694, 0.5932203389830508], '>= 200 DM / salary assignments for at least 1 year': [0.875, 0.75]}, 'credit_history': {'no credits taken/ all credits paid back duly': [0.6666666666666666, 0.6666666666666666], 'existing credits paid back duly till now': [0.7628865979381443, 0.6907216494845361], 'all credits at this bank paid back duly': [0.47368421052631576, 0.7894736842105263], 'critical account/ other credits existing (not at this bank)': [0.8870967741935484, 0.8387096774193549], 'delay in paying off in the past': [0.5384615384615384, 0.5384615384615384]}, 'purpose': {'business': [0.7083333333333334, 0.7083333333333334], 'domestic appliances': [0.803921568627451, 0.803921568627451], 'car (new)': [0.7317073170731707, 0.7804878048780488], 'car (used)': [0.9230769230769231, 0.8846153846153846], 'education': [0.6, 0.4], 'radio/television': [0.7209302325581395, 0.5813953488372093], 'furniture/equipment': [0.5, 0.5], '(vacation - does not exist?)': [0.5, 0.75], 'retraining': [1.0, 1.0], 'repairs': [0.3333333333333333, 0.6666666666666666]}, 'savings': {'... < 100 DM': [0.7586206896551724, 0.7155172413793104], 'unknown/ no savings account': [0.7352941176470589, 0.8235294117647058], '100 <= ... < 500 DM': [0.75, 0.6428571428571429], '500 <= ... < 1000 DM': [0.7142857142857143, 0.7857142857142857], '.. >= 1000 DM': [0.875, 0.875]}, 'present_employment_since': {'1 <= ... < 4 years': [0.7384615384615385, 0.7384615384615385], '... < 1 year': [0.6756756756756757, 0.7027027027027027], '4 <= ... < 7 years': [0.7333333333333333, 0.6333333333333333], '.. >= 7 years': [0.9215686274509803, 0.8627450980392157], 'unemployed': [0.5294117647058824, 0.5882352941176471]}, 'sex': {'male': [0.7664233576642335, 0.7591240875912408], 'female': [0.7301587301587301, 0.6825396825396826]}, 'personal_status': {'single': [0.7982456140350878, 0.7543859649122807], 'divorced': [0.7027027027027027, 0.6756756756756757], 'married': [0.6666666666666666, 0.9166666666666666]}, 'other_debtors': {'none': [0.7613636363636364, 0.7556818181818182], 'guarantor': [0.8125, 0.5], 'co-applicant': [0.5, 0.75]}, 'property': {'if not A121/A122 : car or other, not in attribute 6': [0.7586206896551724, 0.8103448275862069], 'if not A121 : building society savings agreement/ life insurance': [0.7, 0.58], 'real estate': [0.8448275862068966, 0.7931034482758621], 'unknown / no property': [0.6764705882352942, 0.7352941176470589]}, 'other_installment_plans': {'none': [0.7738095238095238, 0.75], 'stores': [0.5714285714285714, 1.0], 'bank': [0.68, 0.56]}, 'housing': {'own': [0.7226277372262774, 0.7153284671532847], 'rent': [0.875, 0.85], 'for free': [0.7391304347826086, 0.6521739130434783]}, 'job': {'skilled employee / official': [0.775, 0.725], 'unskilled - resident': [0.8205128205128205, 0.7435897435897436], 'management/ self-employed/ highly qualified employee/ officer': [0.65625, 0.75], 'unemployed/ unskilled - non-resident': [0.5555555555555556, 0.7777777777777778]}, 'telephone': {'yes, registered under the customers name': [0.7875, 0.7375], 'none': [0.7333333333333333, 0.7333333333333333]}, 'foreign_worker': {'yes': [0.743455497382199, 0.7225130890052356], 'no': [1.0, 1.0]}}\n"
     ]
    }
   ],
   "source": [
    "\n",
    "Y_pred = clf_logistic_regression.predict(X_test)\n",
    "# Creating a dictionary to store the accuracy of each sub-category of test data\n",
    "accuracy_dict_base_new = {}\n",
    "\n",
    "# Iterate over each column in the test data\n",
    "for col in X_test.columns:\n",
    "\n",
    "    # Check if the column is a categorical column\n",
    "    if X_test[col].dtype == 'object':\n",
    "        col_accuracy_dict = {}\n",
    "        \n",
    "        sub_cats = X_test[col].unique()\n",
    "        \n",
    "        for sub_cat in sub_cats:\n",
    "            \n",
    "            idx = (X_test[col] == sub_cat)\n",
    "\n",
    "            # Get the predictions for the sub-category\n",
    "            sub_cat_preds = Y_pred[idx]\n",
    "            sub_cat_preds_best = Y_pred_final[idx]\n",
    "\n",
    "            # Calculate the accuracy of the sub-category\n",
    "            sub_cat_accuracy = np.mean(sub_cat_preds == Y_test[idx])\n",
    "            sub_cat_accuracy_best = np.mean(sub_cat_preds_best == Y_test_aug[idx])\n",
    "\n",
    "            # Add the accuracy of the sub-category to the dictionary\n",
    "            col_accuracy_dict[sub_cat] = [sub_cat_accuracy, sub_cat_accuracy_best]\n",
    "\n",
    "        # Add the accuracy dictionary of the column to the main dictionary\n",
    "        accuracy_dict_base_new[col] = col_accuracy_dict\n",
    "\n",
    "        \n",
    "print(accuracy_dict_base_new)"
   ]
  },
  {
   "cell_type": "code",
   "execution_count": 375,
   "metadata": {
    "scrolled": false
   },
   "outputs": [
    {
     "data": {
      "application/vnd.jupyter.widget-view+json": {
       "model_id": "48d1be7ed49c4641ba690e089ea9224f",
       "version_major": 2,
       "version_minor": 0
      },
      "text/plain": [
       "interactive(children=(Output(),), _dom_classes=('widget-interact',))"
      ]
     },
     "execution_count": 375,
     "metadata": {},
     "output_type": "execute_result"
    }
   ],
   "source": [
    "from prettytable import PrettyTable\n",
    "from ipywidgets import interact, interactive, fixed\n",
    "\n",
    "# Define the table headers\n",
    "table = PrettyTable()\n",
    "table.field_names = [\"Feature\", \"Sub-Category\", \"Accuracy\",\"Comments\", \"Accuracy_aug\", \"Comments_new\"]\n",
    "table.align = \"l\"\n",
    "table.max_width[\"Feature\"] = 20\n",
    "table.max_width[\"Sub-category\"] = 45\n",
    "table.max_width[\"Accuracy\"] = 10\n",
    "table.max_width[\"Comments\"] = 30\n",
    "table.max_width[\"Accuracy_aug\"] = 10\n",
    "table.max_width[\"Comments_new\"] = 30\n",
    "\n",
    "# Loop through the dictionary and add rows to the table\n",
    "for feature, sub_dict in accuracy_dict_base_new.items():\n",
    "    for sub_category, accuracy in sub_dict.items():\n",
    "        comment = \"Bad\" if accuracy[0] <0.7 else \"Works\"\n",
    "        comment2 = \"Bad\" if accuracy[1] <0.7 else \"Works\"\n",
    "        table.add_row([feature, sub_category, round(accuracy[0], 4), comment, round(accuracy[1], 4),comment2])\n",
    "        \n",
    "        \n",
    "df = pd.DataFrame(table._rows)\n",
    "df.columns = table.field_names\n",
    "\n",
    "\n",
    "def display_table(df):\n",
    "    display(df)\n",
    "\n",
    "interactive_table = interactive(display_table, df=fixed(df))\n",
    "interactive_table\n",
    "\n"
   ]
  },
  {
   "cell_type": "code",
   "execution_count": 376,
   "metadata": {},
   "outputs": [
    {
     "name": "stdout",
     "output_type": "stream",
     "text": [
      "Works    37\n",
      "Bad      18\n",
      "Name: Comments, dtype: int64\n",
      "Works    38\n",
      "Bad      17\n",
      "Name: Comments_new, dtype: int64\n"
     ]
    }
   ],
   "source": [
    "print(df.Comments.value_counts())\n",
    "\n",
    "print(df.Comments_new.value_counts())"
   ]
  }
 ],
 "metadata": {
  "colab": {
   "collapsed_sections": [],
   "name": "German_credit_scoring_giskard (2).ipynb",
   "provenance": []
  },
  "deepnote": {
   "is_reactive": false
  },
  "deepnote_app_layout": "article",
  "deepnote_execution_queue": [],
  "deepnote_notebook_id": "6e7ea85d-f19e-4d05-90a4-44b7668fd037",
  "kernelspec": {
   "display_name": "Python 3 (ipykernel)",
   "language": "python",
   "name": "python3"
  },
  "language_info": {
   "codemirror_mode": {
    "name": "ipython",
    "version": 3
   },
   "file_extension": ".py",
   "mimetype": "text/x-python",
   "name": "python",
   "nbconvert_exporter": "python",
   "pygments_lexer": "ipython3",
   "version": "3.9.12"
  }
 },
 "nbformat": 4,
 "nbformat_minor": 1
}
