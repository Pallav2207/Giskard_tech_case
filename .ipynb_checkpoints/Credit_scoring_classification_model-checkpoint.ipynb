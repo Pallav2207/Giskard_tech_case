{
 "cells": [
  {
   "cell_type": "markdown",
   "metadata": {},
   "source": [
    "# Notes:\n",
    "\n",
    "1. Install docker to run an instance of giskard\n",
    "2. Visualize the data, run EDA + Auto-EDA \n",
    "3. Data augmentation : (a) SMOTE (b) Alignment and calibration (c) Bootstrapping? (d)\n",
    "4. Handle class imbalance\n",
    "5. Try WOE bucketing for stability maybe\n",
    "6. Can use Sex, personal_status, purpose in AI models to avoid bias\n"
   ]
  },
  {
   "cell_type": "code",
   "execution_count": null,
   "metadata": {},
   "outputs": [],
   "source": []
  },
  {
   "cell_type": "markdown",
   "metadata": {
    "id": "-pvKxJjsNSoE",
    "pycharm": {
     "name": "#%% md\n"
    }
   },
   "source": [
    "![giskard_logo.png](https://raw.githubusercontent.com/Giskard-AI/giskard/main/readme/Logo_full_darkgreen.png)"
   ]
  },
  {
   "cell_type": "markdown",
   "metadata": {
    "cell_id": "a9b17467105f4031a3f9eae70ef4138f",
    "deepnote_cell_height": 134,
    "deepnote_cell_type": "markdown",
    "id": "PKcOi3D37xbW",
    "pycharm": {
     "name": "#%% md\n"
    },
    "tags": []
   },
   "source": [
    "# About Giskard\n",
    "\n",
    "Open-Source CI/CD platform for ML teams. Deliver ML products, better & faster. \n",
    "\n",
    "*   Collaborate faster with feedback from business stakeholders.\n",
    "*   Deploy automated tests to eliminate regressions, errors & biases.\n",
    "\n",
    "🏡 [Website](https://giskard.ai/)\n",
    "\n",
    "📗 [Documentation](https://docs.giskard.ai/)"
   ]
  },
  {
   "cell_type": "markdown",
   "metadata": {},
   "source": [
    "## Installing `giskard`"
   ]
  },
  {
   "cell_type": "code",
   "execution_count": 2,
   "metadata": {},
   "outputs": [
    {
     "name": "stdout",
     "output_type": "stream",
     "text": [
      "Requirement already satisfied: pip in /Users/pahu/opt/anaconda3/lib/python3.9/site-packages (23.0.1)\n",
      "Collecting pip\n",
      "  Downloading pip-23.1.2-py3-none-any.whl (2.1 MB)\n",
      "\u001b[2K     \u001b[90m━━━━━━━━━━━━━━━━━━━━━━━━━━━━━━━━━━━━━━━━\u001b[0m \u001b[32m2.1/2.1 MB\u001b[0m \u001b[31m14.1 MB/s\u001b[0m eta \u001b[36m0:00:00\u001b[0ma \u001b[36m0:00:01\u001b[0m\n",
      "\u001b[?25hInstalling collected packages: pip\n",
      "  Attempting uninstall: pip\n",
      "    Found existing installation: pip 23.0.1\n",
      "    Uninstalling pip-23.0.1:\n",
      "      Successfully uninstalled pip-23.0.1\n",
      "Successfully installed pip-23.1.2\n"
     ]
    }
   ],
   "source": [
    "!pip install --upgrade pip"
   ]
  },
  {
   "cell_type": "code",
   "execution_count": 3,
   "metadata": {
    "collapsed": true
   },
   "outputs": [
    {
     "name": "stdout",
     "output_type": "stream",
     "text": [
      "Requirement already satisfied: giskard in /Users/pahu/opt/anaconda3/lib/python3.9/site-packages (1.9.1)\n",
      "Requirement already satisfied: beautifulsoup4<5.0.0,>=4.11.1 in /Users/pahu/opt/anaconda3/lib/python3.9/site-packages (from giskard) (4.11.1)\n",
      "Requirement already satisfied: click<9.0.0,>=8.1.3 in /Users/pahu/opt/anaconda3/lib/python3.9/site-packages (from giskard) (8.1.3)\n",
      "Requirement already satisfied: cloudpickle<3.0.0,>=2.1.0 in /Users/pahu/opt/anaconda3/lib/python3.9/site-packages (from giskard) (2.2.1)\n",
      "Requirement already satisfied: eli5<0.14.0,>=0.13.0 in /Users/pahu/opt/anaconda3/lib/python3.9/site-packages (from giskard) (0.13.0)\n",
      "Requirement already satisfied: grpcio<=1.51.1,>=1.46.3 in /Users/pahu/opt/anaconda3/lib/python3.9/site-packages (from giskard) (1.51.1)\n",
      "Requirement already satisfied: grpcio-status<=1.51.1,>=1.46.3 in /Users/pahu/opt/anaconda3/lib/python3.9/site-packages (from giskard) (1.48.2)\n",
      "Requirement already satisfied: importlib_metadata<5.0.0,>=4.11.4 in /Users/pahu/opt/anaconda3/lib/python3.9/site-packages (from giskard) (4.13.0)\n",
      "Requirement already satisfied: ipython<8.0.0,>=7.0.0 in /Users/pahu/opt/anaconda3/lib/python3.9/site-packages (from giskard) (7.34.0)\n",
      "Requirement already satisfied: lockfile<0.13.0,>=0.12.2 in /Users/pahu/opt/anaconda3/lib/python3.9/site-packages (from giskard) (0.12.2)\n",
      "Requirement already satisfied: mixpanel<5.0.0,>=4.10.0 in /Users/pahu/opt/anaconda3/lib/python3.9/site-packages (from giskard) (4.10.0)\n",
      "Requirement already satisfied: numpy<1.22.0,>=1.21.6 in /Users/pahu/opt/anaconda3/lib/python3.9/site-packages (from giskard) (1.21.6)\n",
      "Requirement already satisfied: pandas<2.0.0,>=1.3.5 in /Users/pahu/opt/anaconda3/lib/python3.9/site-packages (from giskard) (1.5.3)\n",
      "Requirement already satisfied: protobuf<4.0.0,>=3.9.2 in /Users/pahu/opt/anaconda3/lib/python3.9/site-packages (from giskard) (3.19.1)\n",
      "Requirement already satisfied: psutil<6.0.0,>=5.9.2 in /Users/pahu/opt/anaconda3/lib/python3.9/site-packages (from giskard) (5.9.5)\n",
      "Requirement already satisfied: pydantic<2.0.0,>=1.10.2 in /Users/pahu/opt/anaconda3/lib/python3.9/site-packages (from giskard) (1.10.7)\n",
      "Requirement already satisfied: python-daemon<3.0.0,>=2.3.1 in /Users/pahu/opt/anaconda3/lib/python3.9/site-packages (from giskard) (2.3.2)\n",
      "Requirement already satisfied: requests<3.0.0,>=2.28.1 in /Users/pahu/opt/anaconda3/lib/python3.9/site-packages (from giskard) (2.29.0)\n",
      "Requirement already satisfied: requests-toolbelt<0.10.0,>=0.9.1 in /Users/pahu/opt/anaconda3/lib/python3.9/site-packages (from giskard) (0.9.1)\n",
      "Requirement already satisfied: scikit-learn<1.1.0,>=1.0.0 in /Users/pahu/opt/anaconda3/lib/python3.9/site-packages (from giskard) (1.0.2)\n",
      "Requirement already satisfied: scipy<1.8,>=1.7.2 in /Users/pahu/opt/anaconda3/lib/python3.9/site-packages (from giskard) (1.7.3)\n",
      "Requirement already satisfied: setuptools<68.0.0,>=65.4.1 in /Users/pahu/opt/anaconda3/lib/python3.9/site-packages (from giskard) (65.6.3)\n",
      "Requirement already satisfied: shap<0.42.0,>=0.41.0 in /Users/pahu/opt/anaconda3/lib/python3.9/site-packages (from giskard) (0.41.0)\n",
      "Requirement already satisfied: tenacity<9.0.0,>=8.1.0 in /Users/pahu/opt/anaconda3/lib/python3.9/site-packages (from giskard) (8.2.2)\n",
      "Requirement already satisfied: tqdm<5.0.0,>=4.64.1 in /Users/pahu/opt/anaconda3/lib/python3.9/site-packages (from giskard) (4.65.0)\n",
      "Requirement already satisfied: zstandard==0.20.0 in /Users/pahu/opt/anaconda3/lib/python3.9/site-packages (from giskard) (0.20.0)\n",
      "Requirement already satisfied: soupsieve>1.2 in /Users/pahu/opt/anaconda3/lib/python3.9/site-packages (from beautifulsoup4<5.0.0,>=4.11.1->giskard) (2.3.1)\n",
      "Requirement already satisfied: attrs>17.1.0 in /Users/pahu/opt/anaconda3/lib/python3.9/site-packages (from eli5<0.14.0,>=0.13.0->giskard) (21.4.0)\n",
      "Requirement already satisfied: jinja2>=3.0.0 in /Users/pahu/opt/anaconda3/lib/python3.9/site-packages (from eli5<0.14.0,>=0.13.0->giskard) (3.1.2)\n",
      "Requirement already satisfied: six in /Users/pahu/opt/anaconda3/lib/python3.9/site-packages (from eli5<0.14.0,>=0.13.0->giskard) (1.16.0)\n",
      "Requirement already satisfied: graphviz in /Users/pahu/opt/anaconda3/lib/python3.9/site-packages (from eli5<0.14.0,>=0.13.0->giskard) (0.20.1)\n",
      "Requirement already satisfied: tabulate>=0.7.7 in /Users/pahu/opt/anaconda3/lib/python3.9/site-packages (from eli5<0.14.0,>=0.13.0->giskard) (0.8.9)\n",
      "Requirement already satisfied: googleapis-common-protos>=1.5.5 in /Users/pahu/opt/anaconda3/lib/python3.9/site-packages (from grpcio-status<=1.51.1,>=1.46.3->giskard) (1.53.0)\n",
      "Requirement already satisfied: zipp>=0.5 in /Users/pahu/opt/anaconda3/lib/python3.9/site-packages (from importlib_metadata<5.0.0,>=4.11.4->giskard) (3.7.0)\n",
      "Requirement already satisfied: jedi>=0.16 in /Users/pahu/opt/anaconda3/lib/python3.9/site-packages (from ipython<8.0.0,>=7.0.0->giskard) (0.18.1)\n",
      "Requirement already satisfied: decorator in /Users/pahu/opt/anaconda3/lib/python3.9/site-packages (from ipython<8.0.0,>=7.0.0->giskard) (5.1.1)\n",
      "Requirement already satisfied: pickleshare in /Users/pahu/opt/anaconda3/lib/python3.9/site-packages (from ipython<8.0.0,>=7.0.0->giskard) (0.7.5)\n",
      "Requirement already satisfied: traitlets>=4.2 in /Users/pahu/opt/anaconda3/lib/python3.9/site-packages (from ipython<8.0.0,>=7.0.0->giskard) (5.1.1)\n",
      "Requirement already satisfied: prompt-toolkit!=3.0.0,!=3.0.1,<3.1.0,>=2.0.0 in /Users/pahu/opt/anaconda3/lib/python3.9/site-packages (from ipython<8.0.0,>=7.0.0->giskard) (3.0.20)\n",
      "Requirement already satisfied: pygments in /Users/pahu/opt/anaconda3/lib/python3.9/site-packages (from ipython<8.0.0,>=7.0.0->giskard) (2.11.2)\n",
      "Requirement already satisfied: backcall in /Users/pahu/opt/anaconda3/lib/python3.9/site-packages (from ipython<8.0.0,>=7.0.0->giskard) (0.2.0)\n",
      "Requirement already satisfied: matplotlib-inline in /Users/pahu/opt/anaconda3/lib/python3.9/site-packages (from ipython<8.0.0,>=7.0.0->giskard) (0.1.2)\n",
      "Requirement already satisfied: pexpect>4.3 in /Users/pahu/opt/anaconda3/lib/python3.9/site-packages (from ipython<8.0.0,>=7.0.0->giskard) (4.8.0)\n",
      "Requirement already satisfied: appnope in /Users/pahu/opt/anaconda3/lib/python3.9/site-packages (from ipython<8.0.0,>=7.0.0->giskard) (0.1.2)\n",
      "Requirement already satisfied: urllib3 in /Users/pahu/opt/anaconda3/lib/python3.9/site-packages (from mixpanel<5.0.0,>=4.10.0->giskard) (1.26.9)\n",
      "Requirement already satisfied: python-dateutil>=2.8.1 in /Users/pahu/opt/anaconda3/lib/python3.9/site-packages (from pandas<2.0.0,>=1.3.5->giskard) (2.8.2)\n",
      "Requirement already satisfied: pytz>=2020.1 in /Users/pahu/opt/anaconda3/lib/python3.9/site-packages (from pandas<2.0.0,>=1.3.5->giskard) (2021.3)\n",
      "Requirement already satisfied: typing-extensions>=4.2.0 in /Users/pahu/opt/anaconda3/lib/python3.9/site-packages (from pydantic<2.0.0,>=1.10.2->giskard) (4.5.0)\n",
      "Requirement already satisfied: docutils in /Users/pahu/opt/anaconda3/lib/python3.9/site-packages (from python-daemon<3.0.0,>=2.3.1->giskard) (0.17.1)\n",
      "Requirement already satisfied: charset-normalizer<4,>=2 in /Users/pahu/opt/anaconda3/lib/python3.9/site-packages (from requests<3.0.0,>=2.28.1->giskard) (2.0.4)\n",
      "Requirement already satisfied: idna<4,>=2.5 in /Users/pahu/opt/anaconda3/lib/python3.9/site-packages (from requests<3.0.0,>=2.28.1->giskard) (3.3)\n",
      "Requirement already satisfied: certifi>=2017.4.17 in /Users/pahu/opt/anaconda3/lib/python3.9/site-packages (from requests<3.0.0,>=2.28.1->giskard) (2021.10.8)\n",
      "Requirement already satisfied: joblib>=0.11 in /Users/pahu/opt/anaconda3/lib/python3.9/site-packages (from scikit-learn<1.1.0,>=1.0.0->giskard) (1.1.0)\n",
      "Requirement already satisfied: threadpoolctl>=2.0.0 in /Users/pahu/opt/anaconda3/lib/python3.9/site-packages (from scikit-learn<1.1.0,>=1.0.0->giskard) (2.2.0)\n",
      "Requirement already satisfied: packaging>20.9 in /Users/pahu/opt/anaconda3/lib/python3.9/site-packages (from shap<0.42.0,>=0.41.0->giskard) (21.3)\n",
      "Requirement already satisfied: slicer==0.0.7 in /Users/pahu/opt/anaconda3/lib/python3.9/site-packages (from shap<0.42.0,>=0.41.0->giskard) (0.0.7)\n",
      "Requirement already satisfied: numba in /Users/pahu/opt/anaconda3/lib/python3.9/site-packages (from shap<0.42.0,>=0.41.0->giskard) (0.55.1)\n",
      "Requirement already satisfied: parso<0.9.0,>=0.8.0 in /Users/pahu/opt/anaconda3/lib/python3.9/site-packages (from jedi>=0.16->ipython<8.0.0,>=7.0.0->giskard) (0.8.3)\n",
      "Requirement already satisfied: MarkupSafe>=2.0 in /Users/pahu/opt/anaconda3/lib/python3.9/site-packages (from jinja2>=3.0.0->eli5<0.14.0,>=0.13.0->giskard) (2.0.1)\n",
      "Requirement already satisfied: pyparsing!=3.0.5,>=2.0.2 in /Users/pahu/opt/anaconda3/lib/python3.9/site-packages (from packaging>20.9->shap<0.42.0,>=0.41.0->giskard) (3.0.4)\n",
      "Requirement already satisfied: ptyprocess>=0.5 in /Users/pahu/opt/anaconda3/lib/python3.9/site-packages (from pexpect>4.3->ipython<8.0.0,>=7.0.0->giskard) (0.7.0)\n",
      "Requirement already satisfied: wcwidth in /Users/pahu/opt/anaconda3/lib/python3.9/site-packages (from prompt-toolkit!=3.0.0,!=3.0.1,<3.1.0,>=2.0.0->ipython<8.0.0,>=7.0.0->giskard) (0.2.5)\n"
     ]
    },
    {
     "name": "stdout",
     "output_type": "stream",
     "text": [
      "Requirement already satisfied: llvmlite<0.39,>=0.38.0rc1 in /Users/pahu/opt/anaconda3/lib/python3.9/site-packages (from numba->shap<0.42.0,>=0.41.0->giskard) (0.38.0)\r\n"
     ]
    }
   ],
   "source": [
    "!pip install giskard"
   ]
  },
  {
   "cell_type": "markdown",
   "metadata": {},
   "source": [
    "## Connect the external worker in daemon mode"
   ]
  },
  {
   "cell_type": "code",
   "execution_count": 4,
   "metadata": {},
   "outputs": [
    {
     "name": "stdout",
     "output_type": "stream",
     "text": [
      "2023-05-01 01:04:56,875 pid:19990 MainThread giskard.cli  INFO     Starting ML Worker client daemon\r\n",
      "2023-05-01 01:04:56,875 pid:19990 MainThread giskard.cli  INFO     Python: /Users/pahu/opt/anaconda3/bin/python (3.9.12)\r\n",
      "2023-05-01 01:04:56,876 pid:19990 MainThread giskard.cli  INFO     Giskard Home: /Users/pahu/giskard-home\r\n",
      "2023-05-01 01:04:56,877 pid:19990 MainThread giskard.cli_utils INFO     Writing logs to /Users/pahu/giskard-home/run/ml-worker.log\r\n"
     ]
    }
   ],
   "source": [
    "!giskard worker start -d"
   ]
  },
  {
   "cell_type": "markdown",
   "metadata": {},
   "source": [
    "# Assigned Task\n",
    "\n",
    "In this exercise, we ask you to improve the performance of this model using data augmentation. \n",
    "\n",
    "To do that, we’ll ask you to \n",
    "\n",
    "1. Generate some new data examples\n",
    "2. Retrain the same logistic regression model with the new data examples\n",
    "3. Compute the performance metrics of your new model. It should be higher than the initial model trained with the non-augmented data\n",
    "\n",
    "You can propose any data augmentation strategy, but\n",
    "\n",
    "- We ask you to propose at least two data augmentation techniques\n",
    "- Focus your data augmentation strategy on data slices that underperform. For instance, the following data slices have low performances:\n",
    "    1. `credit_history == ”all credits at this bank paid back duly”` \n",
    "    2. `purpose== ”Other”` \n",
    "    3. `duration_in_month==36` \n",
    "    4. `account_check_status == \"<0 DM”` \n",
    "    \n",
    "- Don’t overfit your validation dataset. We strongly value augmentation strategies that come from domain knowledge/heuristics instead of brute force\n",
    "\n",
    "Hints: To get some domain intuition on the behavior of your model, you can use the AI Inspector of Giskard. See the installation and the upload process in the doc. This is not a mandatory requirement!"
   ]
  },
  {
   "cell_type": "markdown",
   "metadata": {
    "cell_id": "f35c8e8d3fbf4c0f9c01a69673c318a1",
    "deepnote_app_coordinates": {
     "h": 5,
     "w": 12,
     "x": 0,
     "y": 6
    },
    "deepnote_cell_height": 110,
    "deepnote_cell_type": "markdown",
    "id": "mJTqM-W_7xbW",
    "owner_user_id": "41ec0844-b5b7-49c2-9460-710a452f98de",
    "pycharm": {
     "name": "#%% md\n"
    },
    "tags": []
   },
   "source": [
    "# Start by creating an ML model 🚀🚀🚀"
   ]
  },
  {
   "cell_type": "markdown",
   "metadata": {
    "cell_id": "e8d609f32d5243dd917cc3104599b8d8",
    "deepnote_app_coordinates": {
     "h": 5,
     "w": 12,
     "x": 0,
     "y": 12
    },
    "deepnote_cell_height": 230,
    "deepnote_cell_type": "markdown",
    "id": "WNI85koE7xbX",
    "pycharm": {
     "name": "#%% md\n"
    },
    "tags": []
   },
   "source": [
    "Let's create a credit scoring Model using the German Credit scoring dataset [(Link](https://github.com/Giskard-AI/giskard-client/tree/main/sample_data/classification) to download the dataset)"
   ]
  },
  {
   "cell_type": "code",
   "execution_count": 5,
   "metadata": {
    "cell_id": "1d7f5390-3fb1-47b9-8488-7a55e5b465f9",
    "deepnote_app_coordinates": {
     "h": 5,
     "w": 12,
     "x": 0,
     "y": 18
    },
    "deepnote_cell_height": 315,
    "deepnote_cell_type": "code",
    "deepnote_to_be_reexecuted": false,
    "execution_millis": 798,
    "execution_start": 1652125164139,
    "id": "xEfe0KIo7xbX",
    "pycharm": {
     "name": "#%%\n"
    },
    "source_hash": "e81d6069",
    "tags": []
   },
   "outputs": [],
   "source": [
    "import pandas as pd\n",
    "\n",
    "from sklearn import model_selection\n",
    "from sklearn.preprocessing import StandardScaler\n",
    "from sklearn.preprocessing import OneHotEncoder\n",
    "from sklearn.linear_model import LogisticRegression\n",
    "from sklearn.ensemble import RandomForestClassifier\n",
    "from sklearn.pipeline import Pipeline\n",
    "from sklearn.impute import SimpleImputer\n",
    "from sklearn.compose import ColumnTransformer"
   ]
  },
  {
   "cell_type": "markdown",
   "metadata": {},
   "source": [
    "# Fetching and Loading dataset"
   ]
  },
  {
   "cell_type": "code",
   "execution_count": 84,
   "metadata": {
    "pycharm": {
     "name": "#%%\n"
    }
   },
   "outputs": [],
   "source": [
    "# To download and read the credit scoring dataset\n",
    "url = 'https://raw.githubusercontent.com/Giskard-AI/examples/main/datasets/credit_scoring_classification_model_dataset/german_credit_prepared.csv'\n",
    "credit = pd.read_csv(url, sep=',',engine=\"python\") \n",
    "#To download go to https://github.com/Giskard-AI/giskard-client/tree/main/sample_data/classification\n",
    "\n"
   ]
  },
  {
   "cell_type": "code",
   "execution_count": 85,
   "metadata": {},
   "outputs": [
    {
     "name": "stdout",
     "output_type": "stream",
     "text": [
      "<class 'pandas.core.frame.DataFrame'>\n",
      "(1000, 22)\n"
     ]
    },
    {
     "data": {
      "text/html": [
       "<div>\n",
       "<style scoped>\n",
       "    .dataframe tbody tr th:only-of-type {\n",
       "        vertical-align: middle;\n",
       "    }\n",
       "\n",
       "    .dataframe tbody tr th {\n",
       "        vertical-align: top;\n",
       "    }\n",
       "\n",
       "    .dataframe thead th {\n",
       "        text-align: right;\n",
       "    }\n",
       "</style>\n",
       "<table border=\"1\" class=\"dataframe\">\n",
       "  <thead>\n",
       "    <tr style=\"text-align: right;\">\n",
       "      <th></th>\n",
       "      <th>default</th>\n",
       "      <th>account_check_status</th>\n",
       "      <th>duration_in_month</th>\n",
       "      <th>credit_history</th>\n",
       "      <th>purpose</th>\n",
       "      <th>credit_amount</th>\n",
       "      <th>savings</th>\n",
       "      <th>present_employment_since</th>\n",
       "      <th>installment_as_income_perc</th>\n",
       "      <th>sex</th>\n",
       "      <th>...</th>\n",
       "      <th>present_residence_since</th>\n",
       "      <th>property</th>\n",
       "      <th>age</th>\n",
       "      <th>other_installment_plans</th>\n",
       "      <th>housing</th>\n",
       "      <th>credits_this_bank</th>\n",
       "      <th>job</th>\n",
       "      <th>people_under_maintenance</th>\n",
       "      <th>telephone</th>\n",
       "      <th>foreign_worker</th>\n",
       "    </tr>\n",
       "  </thead>\n",
       "  <tbody>\n",
       "    <tr>\n",
       "      <th>0</th>\n",
       "      <td>Not default</td>\n",
       "      <td>&lt; 0 DM</td>\n",
       "      <td>6</td>\n",
       "      <td>critical account/ other credits existing (not ...</td>\n",
       "      <td>domestic appliances</td>\n",
       "      <td>1169</td>\n",
       "      <td>unknown/ no savings account</td>\n",
       "      <td>.. &gt;= 7 years</td>\n",
       "      <td>4</td>\n",
       "      <td>male</td>\n",
       "      <td>...</td>\n",
       "      <td>4</td>\n",
       "      <td>real estate</td>\n",
       "      <td>67</td>\n",
       "      <td>none</td>\n",
       "      <td>own</td>\n",
       "      <td>2</td>\n",
       "      <td>skilled employee / official</td>\n",
       "      <td>1</td>\n",
       "      <td>yes, registered under the customers name</td>\n",
       "      <td>yes</td>\n",
       "    </tr>\n",
       "    <tr>\n",
       "      <th>1</th>\n",
       "      <td>Default</td>\n",
       "      <td>0 &lt;= ... &lt; 200 DM</td>\n",
       "      <td>48</td>\n",
       "      <td>existing credits paid back duly till now</td>\n",
       "      <td>domestic appliances</td>\n",
       "      <td>5951</td>\n",
       "      <td>... &lt; 100 DM</td>\n",
       "      <td>1 &lt;= ... &lt; 4 years</td>\n",
       "      <td>2</td>\n",
       "      <td>female</td>\n",
       "      <td>...</td>\n",
       "      <td>2</td>\n",
       "      <td>real estate</td>\n",
       "      <td>22</td>\n",
       "      <td>none</td>\n",
       "      <td>own</td>\n",
       "      <td>1</td>\n",
       "      <td>skilled employee / official</td>\n",
       "      <td>1</td>\n",
       "      <td>none</td>\n",
       "      <td>yes</td>\n",
       "    </tr>\n",
       "    <tr>\n",
       "      <th>2</th>\n",
       "      <td>Not default</td>\n",
       "      <td>no checking account</td>\n",
       "      <td>12</td>\n",
       "      <td>critical account/ other credits existing (not ...</td>\n",
       "      <td>(vacation - does not exist?)</td>\n",
       "      <td>2096</td>\n",
       "      <td>... &lt; 100 DM</td>\n",
       "      <td>4 &lt;= ... &lt; 7 years</td>\n",
       "      <td>2</td>\n",
       "      <td>male</td>\n",
       "      <td>...</td>\n",
       "      <td>3</td>\n",
       "      <td>real estate</td>\n",
       "      <td>49</td>\n",
       "      <td>none</td>\n",
       "      <td>own</td>\n",
       "      <td>1</td>\n",
       "      <td>unskilled - resident</td>\n",
       "      <td>2</td>\n",
       "      <td>none</td>\n",
       "      <td>yes</td>\n",
       "    </tr>\n",
       "    <tr>\n",
       "      <th>3</th>\n",
       "      <td>Not default</td>\n",
       "      <td>&lt; 0 DM</td>\n",
       "      <td>42</td>\n",
       "      <td>existing credits paid back duly till now</td>\n",
       "      <td>radio/television</td>\n",
       "      <td>7882</td>\n",
       "      <td>... &lt; 100 DM</td>\n",
       "      <td>4 &lt;= ... &lt; 7 years</td>\n",
       "      <td>2</td>\n",
       "      <td>male</td>\n",
       "      <td>...</td>\n",
       "      <td>4</td>\n",
       "      <td>if not A121 : building society savings agreeme...</td>\n",
       "      <td>45</td>\n",
       "      <td>none</td>\n",
       "      <td>for free</td>\n",
       "      <td>1</td>\n",
       "      <td>skilled employee / official</td>\n",
       "      <td>2</td>\n",
       "      <td>none</td>\n",
       "      <td>yes</td>\n",
       "    </tr>\n",
       "    <tr>\n",
       "      <th>4</th>\n",
       "      <td>Default</td>\n",
       "      <td>&lt; 0 DM</td>\n",
       "      <td>24</td>\n",
       "      <td>delay in paying off in the past</td>\n",
       "      <td>car (new)</td>\n",
       "      <td>4870</td>\n",
       "      <td>... &lt; 100 DM</td>\n",
       "      <td>1 &lt;= ... &lt; 4 years</td>\n",
       "      <td>3</td>\n",
       "      <td>male</td>\n",
       "      <td>...</td>\n",
       "      <td>4</td>\n",
       "      <td>unknown / no property</td>\n",
       "      <td>53</td>\n",
       "      <td>none</td>\n",
       "      <td>for free</td>\n",
       "      <td>2</td>\n",
       "      <td>skilled employee / official</td>\n",
       "      <td>2</td>\n",
       "      <td>none</td>\n",
       "      <td>yes</td>\n",
       "    </tr>\n",
       "  </tbody>\n",
       "</table>\n",
       "<p>5 rows × 22 columns</p>\n",
       "</div>"
      ],
      "text/plain": [
       "       default account_check_status  duration_in_month  \\\n",
       "0  Not default               < 0 DM                  6   \n",
       "1      Default    0 <= ... < 200 DM                 48   \n",
       "2  Not default  no checking account                 12   \n",
       "3  Not default               < 0 DM                 42   \n",
       "4      Default               < 0 DM                 24   \n",
       "\n",
       "                                      credit_history  \\\n",
       "0  critical account/ other credits existing (not ...   \n",
       "1           existing credits paid back duly till now   \n",
       "2  critical account/ other credits existing (not ...   \n",
       "3           existing credits paid back duly till now   \n",
       "4                    delay in paying off in the past   \n",
       "\n",
       "                        purpose  credit_amount                      savings  \\\n",
       "0           domestic appliances           1169  unknown/ no savings account   \n",
       "1           domestic appliances           5951                 ... < 100 DM   \n",
       "2  (vacation - does not exist?)           2096                 ... < 100 DM   \n",
       "3              radio/television           7882                 ... < 100 DM   \n",
       "4                     car (new)           4870                 ... < 100 DM   \n",
       "\n",
       "  present_employment_since  installment_as_income_perc     sex  ...  \\\n",
       "0            .. >= 7 years                           4    male  ...   \n",
       "1       1 <= ... < 4 years                           2  female  ...   \n",
       "2       4 <= ... < 7 years                           2    male  ...   \n",
       "3       4 <= ... < 7 years                           2    male  ...   \n",
       "4       1 <= ... < 4 years                           3    male  ...   \n",
       "\n",
       "  present_residence_since                                           property  \\\n",
       "0                       4                                        real estate   \n",
       "1                       2                                        real estate   \n",
       "2                       3                                        real estate   \n",
       "3                       4  if not A121 : building society savings agreeme...   \n",
       "4                       4                              unknown / no property   \n",
       "\n",
       "   age other_installment_plans   housing credits_this_bank  \\\n",
       "0   67                    none       own                 2   \n",
       "1   22                    none       own                 1   \n",
       "2   49                    none       own                 1   \n",
       "3   45                    none  for free                 1   \n",
       "4   53                    none  for free                 2   \n",
       "\n",
       "                           job  people_under_maintenance  \\\n",
       "0  skilled employee / official                         1   \n",
       "1  skilled employee / official                         1   \n",
       "2         unskilled - resident                         2   \n",
       "3  skilled employee / official                         2   \n",
       "4  skilled employee / official                         2   \n",
       "\n",
       "                                  telephone  foreign_worker  \n",
       "0  yes, registered under the customers name             yes  \n",
       "1                                      none             yes  \n",
       "2                                      none             yes  \n",
       "3                                      none             yes  \n",
       "4                                      none             yes  \n",
       "\n",
       "[5 rows x 22 columns]"
      ]
     },
     "execution_count": 85,
     "metadata": {},
     "output_type": "execute_result"
    }
   ],
   "source": [
    "print(type(credit))\n",
    "print(credit.shape)\n",
    "credit.head()"
   ]
  },
  {
   "cell_type": "code",
   "execution_count": 86,
   "metadata": {
    "pycharm": {
     "name": "#%%\n"
    }
   },
   "outputs": [],
   "source": [
    "# Declare the type of each column in the dataset(example: category, numeric, text)\n",
    "column_types = {'default':\"category\",\n",
    "               'account_check_status':\"category\", \n",
    "               'duration_in_month':\"numeric\",\n",
    "               'credit_history':\"category\",\n",
    "               'purpose':\"category\",\n",
    "               'credit_amount':\"numeric\",\n",
    "               'savings':\"category\",\n",
    "               'present_employment_since':\"category\",\n",
    "               'installment_as_income_perc':\"numeric\",\n",
    "               'sex':\"category\",\n",
    "               'personal_status':\"category\",\n",
    "               'other_debtors':\"category\",\n",
    "               'present_residence_since':\"numeric\",\n",
    "               'property':\"category\",\n",
    "               'age':\"numeric\",\n",
    "               'other_installment_plans':\"category\",\n",
    "               'housing':\"category\",\n",
    "               'credits_this_bank':\"numeric\",\n",
    "               'job':\"category\",\n",
    "               'people_under_maintenance':\"numeric\",\n",
    "               'telephone':\"category\",\n",
    "               'foreign_worker':\"category\"}"
   ]
  },
  {
   "cell_type": "markdown",
   "metadata": {},
   "source": [
    "# Exploratory data analysis: Manual + Auto EDA tools"
   ]
  },
  {
   "cell_type": "code",
   "execution_count": 39,
   "metadata": {},
   "outputs": [],
   "source": [
    "!pip install -q --upgrade ydata-profiling\n",
    "!pip install -q --upgrade ipywidgets"
   ]
  },
  {
   "cell_type": "code",
   "execution_count": 87,
   "metadata": {},
   "outputs": [],
   "source": [
    "import seaborn as sns\n",
    "import matplotlib.pyplot as plt\n",
    "from ydata_profiling import ProfileReport"
   ]
  },
  {
   "cell_type": "markdown",
   "metadata": {},
   "source": [
    "# Auto-EDA with ydata without data manipulation"
   ]
  },
  {
   "cell_type": "code",
   "execution_count": 88,
   "metadata": {},
   "outputs": [
    {
     "data": {
      "application/vnd.jupyter.widget-view+json": {
       "model_id": "b4d0f083296843c9ac126a8fbf46f56e",
       "version_major": 2,
       "version_minor": 0
      },
      "text/plain": [
       "Summarize dataset:   0%|          | 0/5 [00:00<?, ?it/s]"
      ]
     },
     "metadata": {},
     "output_type": "display_data"
    },
    {
     "data": {
      "application/vnd.jupyter.widget-view+json": {
       "model_id": "390f8216220d4308844ad864465192e6",
       "version_major": 2,
       "version_minor": 0
      },
      "text/plain": [
       "Generate report structure:   0%|          | 0/1 [00:00<?, ?it/s]"
      ]
     },
     "metadata": {},
     "output_type": "display_data"
    },
    {
     "data": {
      "application/vnd.jupyter.widget-view+json": {
       "model_id": "13e76d31cd434d00be07195409d285a8",
       "version_major": 2,
       "version_minor": 0
      },
      "text/plain": [
       "Render HTML:   0%|          | 0/1 [00:00<?, ?it/s]"
      ]
     },
     "metadata": {},
     "output_type": "display_data"
    },
    {
     "data": {
      "application/vnd.jupyter.widget-view+json": {
       "model_id": "c17f757e0f8b431a88152c2260535559",
       "version_major": 2,
       "version_minor": 0
      },
      "text/plain": [
       "Export report to file:   0%|          | 0/1 [00:00<?, ?it/s]"
      ]
     },
     "metadata": {},
     "output_type": "display_data"
    }
   ],
   "source": [
    "##We create an automatic report based on our inputdataframe\n",
    "##This report is interactive, has the summary per variables, interactions, correlations and others.\n",
    "report = ProfileReport(credit,title=\"Credit Scoring Data Profiling Report\", explorative=True)\n",
    "\n",
    "##Since the report doesn't show on github we save it to html and upload it to be seen in the repository\n",
    "## Save the report to an HTML file\n",
    "report.to_file(\"report.html\")"
   ]
  },
  {
   "cell_type": "code",
   "execution_count": null,
   "metadata": {},
   "outputs": [],
   "source": []
  },
  {
   "cell_type": "code",
   "execution_count": null,
   "metadata": {},
   "outputs": [],
   "source": []
  },
  {
   "cell_type": "code",
   "execution_count": 92,
   "metadata": {
    "pycharm": {
     "name": "#%%\n"
    }
   },
   "outputs": [],
   "source": [
    "# feature_types is used to declare the features the model is trained on\n",
    "feature_types = {i:column_types[i] for i in column_types if i!='default'}\n",
    "\n",
    "# Pipeline to fill missing values, transform and scale the numeric columns\n",
    "columns_to_scale = [key for key in feature_types.keys() if feature_types[key]==\"numeric\"]\n",
    "numeric_transformer = Pipeline([('imputer', SimpleImputer(strategy='median')),\n",
    "    ('scaler', StandardScaler())])\n",
    "\n",
    "# Pipeline to fill missing values and one hot encode the categorical values\n",
    "columns_to_encode = [key for key in feature_types.keys() if feature_types[key]==\"category\"]\n",
    "categorical_transformer = Pipeline([('imputer', SimpleImputer(strategy='constant', fill_value='missing')),\n",
    "        ('onehot', OneHotEncoder(handle_unknown='ignore',sparse=False))])\n",
    "\n",
    "# Perform preprocessing of the columns with the above pipelines\n",
    "preprocessor = ColumnTransformer(\n",
    "    transformers=[('num', numeric_transformer, columns_to_scale),\n",
    "                  ('cat', categorical_transformer, columns_to_encode)])\n",
    "\n",
    "# Pipeline for the model Logistic Regression\n",
    "clf_logistic_regression = Pipeline(steps=[('preprocessor', preprocessor),\n",
    "                      ('classifier', LogisticRegression(max_iter =1000))])\n",
    "\n",
    "# Split the data into train and test\n",
    "Y= credit['default']\n",
    "X= credit.drop(columns=\"default\")\n",
    "X_train, X_test, Y_train, Y_test = model_selection.train_test_split(X, Y, test_size=0.20,random_state = 30, stratify = Y)\n"
   ]
  },
  {
   "cell_type": "code",
   "execution_count": 11,
   "metadata": {},
   "outputs": [
    {
     "data": {
      "text/html": [
       "<div>\n",
       "<style scoped>\n",
       "    .dataframe tbody tr th:only-of-type {\n",
       "        vertical-align: middle;\n",
       "    }\n",
       "\n",
       "    .dataframe tbody tr th {\n",
       "        vertical-align: top;\n",
       "    }\n",
       "\n",
       "    .dataframe thead th {\n",
       "        text-align: right;\n",
       "    }\n",
       "</style>\n",
       "<table border=\"1\" class=\"dataframe\">\n",
       "  <thead>\n",
       "    <tr style=\"text-align: right;\">\n",
       "      <th></th>\n",
       "      <th>default</th>\n",
       "      <th>account_check_status</th>\n",
       "      <th>duration_in_month</th>\n",
       "      <th>credit_history</th>\n",
       "      <th>purpose</th>\n",
       "      <th>credit_amount</th>\n",
       "      <th>savings</th>\n",
       "      <th>present_employment_since</th>\n",
       "      <th>installment_as_income_perc</th>\n",
       "      <th>sex</th>\n",
       "      <th>...</th>\n",
       "      <th>present_residence_since</th>\n",
       "      <th>property</th>\n",
       "      <th>age</th>\n",
       "      <th>other_installment_plans</th>\n",
       "      <th>housing</th>\n",
       "      <th>credits_this_bank</th>\n",
       "      <th>job</th>\n",
       "      <th>people_under_maintenance</th>\n",
       "      <th>telephone</th>\n",
       "      <th>foreign_worker</th>\n",
       "    </tr>\n",
       "  </thead>\n",
       "  <tbody>\n",
       "    <tr>\n",
       "      <th>0</th>\n",
       "      <td>Not default</td>\n",
       "      <td>&lt; 0 DM</td>\n",
       "      <td>6</td>\n",
       "      <td>critical account/ other credits existing (not ...</td>\n",
       "      <td>domestic appliances</td>\n",
       "      <td>1169</td>\n",
       "      <td>unknown/ no savings account</td>\n",
       "      <td>.. &gt;= 7 years</td>\n",
       "      <td>4</td>\n",
       "      <td>male</td>\n",
       "      <td>...</td>\n",
       "      <td>4</td>\n",
       "      <td>real estate</td>\n",
       "      <td>67</td>\n",
       "      <td>none</td>\n",
       "      <td>own</td>\n",
       "      <td>2</td>\n",
       "      <td>skilled employee / official</td>\n",
       "      <td>1</td>\n",
       "      <td>yes, registered under the customers name</td>\n",
       "      <td>yes</td>\n",
       "    </tr>\n",
       "    <tr>\n",
       "      <th>1</th>\n",
       "      <td>Default</td>\n",
       "      <td>0 &lt;= ... &lt; 200 DM</td>\n",
       "      <td>48</td>\n",
       "      <td>existing credits paid back duly till now</td>\n",
       "      <td>domestic appliances</td>\n",
       "      <td>5951</td>\n",
       "      <td>... &lt; 100 DM</td>\n",
       "      <td>1 &lt;= ... &lt; 4 years</td>\n",
       "      <td>2</td>\n",
       "      <td>female</td>\n",
       "      <td>...</td>\n",
       "      <td>2</td>\n",
       "      <td>real estate</td>\n",
       "      <td>22</td>\n",
       "      <td>none</td>\n",
       "      <td>own</td>\n",
       "      <td>1</td>\n",
       "      <td>skilled employee / official</td>\n",
       "      <td>1</td>\n",
       "      <td>none</td>\n",
       "      <td>yes</td>\n",
       "    </tr>\n",
       "    <tr>\n",
       "      <th>2</th>\n",
       "      <td>Not default</td>\n",
       "      <td>no checking account</td>\n",
       "      <td>12</td>\n",
       "      <td>critical account/ other credits existing (not ...</td>\n",
       "      <td>(vacation - does not exist?)</td>\n",
       "      <td>2096</td>\n",
       "      <td>... &lt; 100 DM</td>\n",
       "      <td>4 &lt;= ... &lt; 7 years</td>\n",
       "      <td>2</td>\n",
       "      <td>male</td>\n",
       "      <td>...</td>\n",
       "      <td>3</td>\n",
       "      <td>real estate</td>\n",
       "      <td>49</td>\n",
       "      <td>none</td>\n",
       "      <td>own</td>\n",
       "      <td>1</td>\n",
       "      <td>unskilled - resident</td>\n",
       "      <td>2</td>\n",
       "      <td>none</td>\n",
       "      <td>yes</td>\n",
       "    </tr>\n",
       "    <tr>\n",
       "      <th>3</th>\n",
       "      <td>Not default</td>\n",
       "      <td>&lt; 0 DM</td>\n",
       "      <td>42</td>\n",
       "      <td>existing credits paid back duly till now</td>\n",
       "      <td>radio/television</td>\n",
       "      <td>7882</td>\n",
       "      <td>... &lt; 100 DM</td>\n",
       "      <td>4 &lt;= ... &lt; 7 years</td>\n",
       "      <td>2</td>\n",
       "      <td>male</td>\n",
       "      <td>...</td>\n",
       "      <td>4</td>\n",
       "      <td>if not A121 : building society savings agreeme...</td>\n",
       "      <td>45</td>\n",
       "      <td>none</td>\n",
       "      <td>for free</td>\n",
       "      <td>1</td>\n",
       "      <td>skilled employee / official</td>\n",
       "      <td>2</td>\n",
       "      <td>none</td>\n",
       "      <td>yes</td>\n",
       "    </tr>\n",
       "    <tr>\n",
       "      <th>4</th>\n",
       "      <td>Default</td>\n",
       "      <td>&lt; 0 DM</td>\n",
       "      <td>24</td>\n",
       "      <td>delay in paying off in the past</td>\n",
       "      <td>car (new)</td>\n",
       "      <td>4870</td>\n",
       "      <td>... &lt; 100 DM</td>\n",
       "      <td>1 &lt;= ... &lt; 4 years</td>\n",
       "      <td>3</td>\n",
       "      <td>male</td>\n",
       "      <td>...</td>\n",
       "      <td>4</td>\n",
       "      <td>unknown / no property</td>\n",
       "      <td>53</td>\n",
       "      <td>none</td>\n",
       "      <td>for free</td>\n",
       "      <td>2</td>\n",
       "      <td>skilled employee / official</td>\n",
       "      <td>2</td>\n",
       "      <td>none</td>\n",
       "      <td>yes</td>\n",
       "    </tr>\n",
       "    <tr>\n",
       "      <th>5</th>\n",
       "      <td>Not default</td>\n",
       "      <td>no checking account</td>\n",
       "      <td>36</td>\n",
       "      <td>existing credits paid back duly till now</td>\n",
       "      <td>(vacation - does not exist?)</td>\n",
       "      <td>9055</td>\n",
       "      <td>unknown/ no savings account</td>\n",
       "      <td>1 &lt;= ... &lt; 4 years</td>\n",
       "      <td>2</td>\n",
       "      <td>male</td>\n",
       "      <td>...</td>\n",
       "      <td>4</td>\n",
       "      <td>unknown / no property</td>\n",
       "      <td>35</td>\n",
       "      <td>none</td>\n",
       "      <td>for free</td>\n",
       "      <td>1</td>\n",
       "      <td>unskilled - resident</td>\n",
       "      <td>2</td>\n",
       "      <td>yes, registered under the customers name</td>\n",
       "      <td>yes</td>\n",
       "    </tr>\n",
       "    <tr>\n",
       "      <th>6</th>\n",
       "      <td>Not default</td>\n",
       "      <td>no checking account</td>\n",
       "      <td>24</td>\n",
       "      <td>existing credits paid back duly till now</td>\n",
       "      <td>radio/television</td>\n",
       "      <td>2835</td>\n",
       "      <td>500 &lt;= ... &lt; 1000 DM</td>\n",
       "      <td>.. &gt;= 7 years</td>\n",
       "      <td>3</td>\n",
       "      <td>male</td>\n",
       "      <td>...</td>\n",
       "      <td>4</td>\n",
       "      <td>if not A121 : building society savings agreeme...</td>\n",
       "      <td>53</td>\n",
       "      <td>none</td>\n",
       "      <td>own</td>\n",
       "      <td>1</td>\n",
       "      <td>skilled employee / official</td>\n",
       "      <td>1</td>\n",
       "      <td>none</td>\n",
       "      <td>yes</td>\n",
       "    </tr>\n",
       "    <tr>\n",
       "      <th>7</th>\n",
       "      <td>Not default</td>\n",
       "      <td>0 &lt;= ... &lt; 200 DM</td>\n",
       "      <td>36</td>\n",
       "      <td>existing credits paid back duly till now</td>\n",
       "      <td>car (used)</td>\n",
       "      <td>6948</td>\n",
       "      <td>... &lt; 100 DM</td>\n",
       "      <td>1 &lt;= ... &lt; 4 years</td>\n",
       "      <td>2</td>\n",
       "      <td>male</td>\n",
       "      <td>...</td>\n",
       "      <td>2</td>\n",
       "      <td>if not A121/A122 : car or other, not in attrib...</td>\n",
       "      <td>35</td>\n",
       "      <td>none</td>\n",
       "      <td>rent</td>\n",
       "      <td>1</td>\n",
       "      <td>management/ self-employed/ highly qualified em...</td>\n",
       "      <td>1</td>\n",
       "      <td>yes, registered under the customers name</td>\n",
       "      <td>yes</td>\n",
       "    </tr>\n",
       "    <tr>\n",
       "      <th>8</th>\n",
       "      <td>Not default</td>\n",
       "      <td>no checking account</td>\n",
       "      <td>12</td>\n",
       "      <td>existing credits paid back duly till now</td>\n",
       "      <td>domestic appliances</td>\n",
       "      <td>3059</td>\n",
       "      <td>.. &gt;= 1000 DM</td>\n",
       "      <td>4 &lt;= ... &lt; 7 years</td>\n",
       "      <td>2</td>\n",
       "      <td>male</td>\n",
       "      <td>...</td>\n",
       "      <td>4</td>\n",
       "      <td>real estate</td>\n",
       "      <td>61</td>\n",
       "      <td>none</td>\n",
       "      <td>own</td>\n",
       "      <td>1</td>\n",
       "      <td>unskilled - resident</td>\n",
       "      <td>1</td>\n",
       "      <td>none</td>\n",
       "      <td>yes</td>\n",
       "    </tr>\n",
       "    <tr>\n",
       "      <th>9</th>\n",
       "      <td>Default</td>\n",
       "      <td>0 &lt;= ... &lt; 200 DM</td>\n",
       "      <td>30</td>\n",
       "      <td>critical account/ other credits existing (not ...</td>\n",
       "      <td>car (new)</td>\n",
       "      <td>5234</td>\n",
       "      <td>... &lt; 100 DM</td>\n",
       "      <td>unemployed</td>\n",
       "      <td>4</td>\n",
       "      <td>male</td>\n",
       "      <td>...</td>\n",
       "      <td>2</td>\n",
       "      <td>if not A121/A122 : car or other, not in attrib...</td>\n",
       "      <td>28</td>\n",
       "      <td>none</td>\n",
       "      <td>own</td>\n",
       "      <td>2</td>\n",
       "      <td>management/ self-employed/ highly qualified em...</td>\n",
       "      <td>1</td>\n",
       "      <td>none</td>\n",
       "      <td>yes</td>\n",
       "    </tr>\n",
       "  </tbody>\n",
       "</table>\n",
       "<p>10 rows × 22 columns</p>\n",
       "</div>"
      ],
      "text/plain": [
       "       default account_check_status  duration_in_month  \\\n",
       "0  Not default               < 0 DM                  6   \n",
       "1      Default    0 <= ... < 200 DM                 48   \n",
       "2  Not default  no checking account                 12   \n",
       "3  Not default               < 0 DM                 42   \n",
       "4      Default               < 0 DM                 24   \n",
       "5  Not default  no checking account                 36   \n",
       "6  Not default  no checking account                 24   \n",
       "7  Not default    0 <= ... < 200 DM                 36   \n",
       "8  Not default  no checking account                 12   \n",
       "9      Default    0 <= ... < 200 DM                 30   \n",
       "\n",
       "                                      credit_history  \\\n",
       "0  critical account/ other credits existing (not ...   \n",
       "1           existing credits paid back duly till now   \n",
       "2  critical account/ other credits existing (not ...   \n",
       "3           existing credits paid back duly till now   \n",
       "4                    delay in paying off in the past   \n",
       "5           existing credits paid back duly till now   \n",
       "6           existing credits paid back duly till now   \n",
       "7           existing credits paid back duly till now   \n",
       "8           existing credits paid back duly till now   \n",
       "9  critical account/ other credits existing (not ...   \n",
       "\n",
       "                        purpose  credit_amount                      savings  \\\n",
       "0           domestic appliances           1169  unknown/ no savings account   \n",
       "1           domestic appliances           5951                 ... < 100 DM   \n",
       "2  (vacation - does not exist?)           2096                 ... < 100 DM   \n",
       "3              radio/television           7882                 ... < 100 DM   \n",
       "4                     car (new)           4870                 ... < 100 DM   \n",
       "5  (vacation - does not exist?)           9055  unknown/ no savings account   \n",
       "6              radio/television           2835         500 <= ... < 1000 DM   \n",
       "7                    car (used)           6948                 ... < 100 DM   \n",
       "8           domestic appliances           3059                .. >= 1000 DM   \n",
       "9                     car (new)           5234                 ... < 100 DM   \n",
       "\n",
       "  present_employment_since  installment_as_income_perc     sex  ...  \\\n",
       "0            .. >= 7 years                           4    male  ...   \n",
       "1       1 <= ... < 4 years                           2  female  ...   \n",
       "2       4 <= ... < 7 years                           2    male  ...   \n",
       "3       4 <= ... < 7 years                           2    male  ...   \n",
       "4       1 <= ... < 4 years                           3    male  ...   \n",
       "5       1 <= ... < 4 years                           2    male  ...   \n",
       "6            .. >= 7 years                           3    male  ...   \n",
       "7       1 <= ... < 4 years                           2    male  ...   \n",
       "8       4 <= ... < 7 years                           2    male  ...   \n",
       "9               unemployed                           4    male  ...   \n",
       "\n",
       "  present_residence_since                                           property  \\\n",
       "0                       4                                        real estate   \n",
       "1                       2                                        real estate   \n",
       "2                       3                                        real estate   \n",
       "3                       4  if not A121 : building society savings agreeme...   \n",
       "4                       4                              unknown / no property   \n",
       "5                       4                              unknown / no property   \n",
       "6                       4  if not A121 : building society savings agreeme...   \n",
       "7                       2  if not A121/A122 : car or other, not in attrib...   \n",
       "8                       4                                        real estate   \n",
       "9                       2  if not A121/A122 : car or other, not in attrib...   \n",
       "\n",
       "   age other_installment_plans   housing credits_this_bank  \\\n",
       "0   67                    none       own                 2   \n",
       "1   22                    none       own                 1   \n",
       "2   49                    none       own                 1   \n",
       "3   45                    none  for free                 1   \n",
       "4   53                    none  for free                 2   \n",
       "5   35                    none  for free                 1   \n",
       "6   53                    none       own                 1   \n",
       "7   35                    none      rent                 1   \n",
       "8   61                    none       own                 1   \n",
       "9   28                    none       own                 2   \n",
       "\n",
       "                                                 job  \\\n",
       "0                        skilled employee / official   \n",
       "1                        skilled employee / official   \n",
       "2                               unskilled - resident   \n",
       "3                        skilled employee / official   \n",
       "4                        skilled employee / official   \n",
       "5                               unskilled - resident   \n",
       "6                        skilled employee / official   \n",
       "7  management/ self-employed/ highly qualified em...   \n",
       "8                               unskilled - resident   \n",
       "9  management/ self-employed/ highly qualified em...   \n",
       "\n",
       "   people_under_maintenance                                 telephone  \\\n",
       "0                         1  yes, registered under the customers name   \n",
       "1                         1                                      none   \n",
       "2                         2                                      none   \n",
       "3                         2                                      none   \n",
       "4                         2                                      none   \n",
       "5                         2  yes, registered under the customers name   \n",
       "6                         1                                      none   \n",
       "7                         1  yes, registered under the customers name   \n",
       "8                         1                                      none   \n",
       "9                         1                                      none   \n",
       "\n",
       "   foreign_worker  \n",
       "0             yes  \n",
       "1             yes  \n",
       "2             yes  \n",
       "3             yes  \n",
       "4             yes  \n",
       "5             yes  \n",
       "6             yes  \n",
       "7             yes  \n",
       "8             yes  \n",
       "9             yes  \n",
       "\n",
       "[10 rows x 22 columns]"
      ]
     },
     "execution_count": 11,
     "metadata": {},
     "output_type": "execute_result"
    }
   ],
   "source": [
    "credit.head(10)"
   ]
  },
  {
   "cell_type": "code",
   "execution_count": 13,
   "metadata": {},
   "outputs": [
    {
     "name": "stdout",
     "output_type": "stream",
     "text": [
      "<class 'pandas.core.frame.DataFrame'>\n",
      "RangeIndex: 1000 entries, 0 to 999\n",
      "Data columns (total 22 columns):\n",
      " #   Column                      Non-Null Count  Dtype \n",
      "---  ------                      --------------  ----- \n",
      " 0   default                     1000 non-null   object\n",
      " 1   account_check_status        1000 non-null   object\n",
      " 2   duration_in_month           1000 non-null   int64 \n",
      " 3   credit_history              1000 non-null   object\n",
      " 4   purpose                     1000 non-null   object\n",
      " 5   credit_amount               1000 non-null   int64 \n",
      " 6   savings                     1000 non-null   object\n",
      " 7   present_employment_since    1000 non-null   object\n",
      " 8   installment_as_income_perc  1000 non-null   int64 \n",
      " 9   sex                         1000 non-null   object\n",
      " 10  personal_status             1000 non-null   object\n",
      " 11  other_debtors               1000 non-null   object\n",
      " 12  present_residence_since     1000 non-null   int64 \n",
      " 13  property                    1000 non-null   object\n",
      " 14  age                         1000 non-null   int64 \n",
      " 15  other_installment_plans     1000 non-null   object\n",
      " 16  housing                     1000 non-null   object\n",
      " 17  credits_this_bank           1000 non-null   int64 \n",
      " 18  job                         1000 non-null   object\n",
      " 19  people_under_maintenance    1000 non-null   int64 \n",
      " 20  telephone                   1000 non-null   object\n",
      " 21  foreign_worker              1000 non-null   object\n",
      "dtypes: int64(7), object(15)\n",
      "memory usage: 172.0+ KB\n"
     ]
    }
   ],
   "source": [
    "credit.info()"
   ]
  },
  {
   "cell_type": "code",
   "execution_count": 14,
   "metadata": {},
   "outputs": [
    {
     "data": {
      "text/html": [
       "<div>\n",
       "<style scoped>\n",
       "    .dataframe tbody tr th:only-of-type {\n",
       "        vertical-align: middle;\n",
       "    }\n",
       "\n",
       "    .dataframe tbody tr th {\n",
       "        vertical-align: top;\n",
       "    }\n",
       "\n",
       "    .dataframe thead th {\n",
       "        text-align: right;\n",
       "    }\n",
       "</style>\n",
       "<table border=\"1\" class=\"dataframe\">\n",
       "  <thead>\n",
       "    <tr style=\"text-align: right;\">\n",
       "      <th></th>\n",
       "      <th>duration_in_month</th>\n",
       "      <th>credit_amount</th>\n",
       "      <th>installment_as_income_perc</th>\n",
       "      <th>present_residence_since</th>\n",
       "      <th>age</th>\n",
       "      <th>credits_this_bank</th>\n",
       "      <th>people_under_maintenance</th>\n",
       "    </tr>\n",
       "  </thead>\n",
       "  <tbody>\n",
       "    <tr>\n",
       "      <th>count</th>\n",
       "      <td>1000.000000</td>\n",
       "      <td>1000.000000</td>\n",
       "      <td>1000.000000</td>\n",
       "      <td>1000.000000</td>\n",
       "      <td>1000.000000</td>\n",
       "      <td>1000.000000</td>\n",
       "      <td>1000.000000</td>\n",
       "    </tr>\n",
       "    <tr>\n",
       "      <th>mean</th>\n",
       "      <td>20.903000</td>\n",
       "      <td>3271.258000</td>\n",
       "      <td>2.973000</td>\n",
       "      <td>2.845000</td>\n",
       "      <td>35.546000</td>\n",
       "      <td>1.407000</td>\n",
       "      <td>1.155000</td>\n",
       "    </tr>\n",
       "    <tr>\n",
       "      <th>std</th>\n",
       "      <td>12.058814</td>\n",
       "      <td>2822.736876</td>\n",
       "      <td>1.118715</td>\n",
       "      <td>1.103718</td>\n",
       "      <td>11.375469</td>\n",
       "      <td>0.577654</td>\n",
       "      <td>0.362086</td>\n",
       "    </tr>\n",
       "    <tr>\n",
       "      <th>min</th>\n",
       "      <td>4.000000</td>\n",
       "      <td>250.000000</td>\n",
       "      <td>1.000000</td>\n",
       "      <td>1.000000</td>\n",
       "      <td>19.000000</td>\n",
       "      <td>1.000000</td>\n",
       "      <td>1.000000</td>\n",
       "    </tr>\n",
       "    <tr>\n",
       "      <th>25%</th>\n",
       "      <td>12.000000</td>\n",
       "      <td>1365.500000</td>\n",
       "      <td>2.000000</td>\n",
       "      <td>2.000000</td>\n",
       "      <td>27.000000</td>\n",
       "      <td>1.000000</td>\n",
       "      <td>1.000000</td>\n",
       "    </tr>\n",
       "    <tr>\n",
       "      <th>50%</th>\n",
       "      <td>18.000000</td>\n",
       "      <td>2319.500000</td>\n",
       "      <td>3.000000</td>\n",
       "      <td>3.000000</td>\n",
       "      <td>33.000000</td>\n",
       "      <td>1.000000</td>\n",
       "      <td>1.000000</td>\n",
       "    </tr>\n",
       "    <tr>\n",
       "      <th>75%</th>\n",
       "      <td>24.000000</td>\n",
       "      <td>3972.250000</td>\n",
       "      <td>4.000000</td>\n",
       "      <td>4.000000</td>\n",
       "      <td>42.000000</td>\n",
       "      <td>2.000000</td>\n",
       "      <td>1.000000</td>\n",
       "    </tr>\n",
       "    <tr>\n",
       "      <th>max</th>\n",
       "      <td>72.000000</td>\n",
       "      <td>18424.000000</td>\n",
       "      <td>4.000000</td>\n",
       "      <td>4.000000</td>\n",
       "      <td>75.000000</td>\n",
       "      <td>4.000000</td>\n",
       "      <td>2.000000</td>\n",
       "    </tr>\n",
       "  </tbody>\n",
       "</table>\n",
       "</div>"
      ],
      "text/plain": [
       "       duration_in_month  credit_amount  installment_as_income_perc  \\\n",
       "count        1000.000000    1000.000000                 1000.000000   \n",
       "mean           20.903000    3271.258000                    2.973000   \n",
       "std            12.058814    2822.736876                    1.118715   \n",
       "min             4.000000     250.000000                    1.000000   \n",
       "25%            12.000000    1365.500000                    2.000000   \n",
       "50%            18.000000    2319.500000                    3.000000   \n",
       "75%            24.000000    3972.250000                    4.000000   \n",
       "max            72.000000   18424.000000                    4.000000   \n",
       "\n",
       "       present_residence_since          age  credits_this_bank  \\\n",
       "count              1000.000000  1000.000000        1000.000000   \n",
       "mean                  2.845000    35.546000           1.407000   \n",
       "std                   1.103718    11.375469           0.577654   \n",
       "min                   1.000000    19.000000           1.000000   \n",
       "25%                   2.000000    27.000000           1.000000   \n",
       "50%                   3.000000    33.000000           1.000000   \n",
       "75%                   4.000000    42.000000           2.000000   \n",
       "max                   4.000000    75.000000           4.000000   \n",
       "\n",
       "       people_under_maintenance  \n",
       "count               1000.000000  \n",
       "mean                   1.155000  \n",
       "std                    0.362086  \n",
       "min                    1.000000  \n",
       "25%                    1.000000  \n",
       "50%                    1.000000  \n",
       "75%                    1.000000  \n",
       "max                    2.000000  "
      ]
     },
     "execution_count": 14,
     "metadata": {},
     "output_type": "execute_result"
    }
   ],
   "source": [
    "credit.describe()"
   ]
  },
  {
   "cell_type": "code",
   "execution_count": 22,
   "metadata": {},
   "outputs": [
    {
     "data": {
      "text/plain": [
       "{'account_check_status': 'category',\n",
       " 'duration_in_month': 'numeric',\n",
       " 'credit_history': 'category',\n",
       " 'purpose': 'category',\n",
       " 'credit_amount': 'numeric',\n",
       " 'savings': 'category',\n",
       " 'present_employment_since': 'category',\n",
       " 'installment_as_income_perc': 'numeric',\n",
       " 'sex': 'category',\n",
       " 'personal_status': 'category',\n",
       " 'other_debtors': 'category',\n",
       " 'present_residence_since': 'numeric',\n",
       " 'property': 'category',\n",
       " 'age': 'numeric',\n",
       " 'other_installment_plans': 'category',\n",
       " 'housing': 'category',\n",
       " 'credits_this_bank': 'numeric',\n",
       " 'job': 'category',\n",
       " 'people_under_maintenance': 'numeric',\n",
       " 'telephone': 'category',\n",
       " 'foreign_worker': 'category'}"
      ]
     },
     "execution_count": 22,
     "metadata": {},
     "output_type": "execute_result"
    }
   ],
   "source": [
    "feature_types"
   ]
  },
  {
   "cell_type": "code",
   "execution_count": null,
   "metadata": {},
   "outputs": [],
   "source": []
  },
  {
   "cell_type": "code",
   "execution_count": 93,
   "metadata": {},
   "outputs": [
    {
     "data": {
      "text/plain": [
       "(800, 21)"
      ]
     },
     "execution_count": 93,
     "metadata": {},
     "output_type": "execute_result"
    }
   ],
   "source": [
    "X_train.shape"
   ]
  },
  {
   "cell_type": "code",
   "execution_count": 54,
   "metadata": {},
   "outputs": [
    {
     "name": "stdout",
     "output_type": "stream",
     "text": [
      "<class 'pandas.core.series.Series'>\n"
     ]
    },
    {
     "data": {
      "text/plain": [
       "Not default    560\n",
       "Default        240\n",
       "Name: default, dtype: int64"
      ]
     },
     "execution_count": 54,
     "metadata": {},
     "output_type": "execute_result"
    }
   ],
   "source": [
    "print(type(Y_train))\n",
    "Y_train.value_counts()"
   ]
  },
  {
   "cell_type": "code",
   "execution_count": 78,
   "metadata": {},
   "outputs": [
    {
     "data": {
      "text/plain": [
       "count             800\n",
       "unique              2\n",
       "top       Not default\n",
       "freq              560\n",
       "Name: default, dtype: object"
      ]
     },
     "execution_count": 78,
     "metadata": {},
     "output_type": "execute_result"
    }
   ],
   "source": [
    "Y_train.describe()"
   ]
  },
  {
   "cell_type": "code",
   "execution_count": 77,
   "metadata": {},
   "outputs": [
    {
     "name": "stdout",
     "output_type": "stream",
     "text": [
      "Weak baseline 0.7\n"
     ]
    }
   ],
   "source": [
    "# weakbaseline due class-imbalance, treating predictions if all were majority class \n",
    "print(\"Weak baseline\", Y_train[Y_train == 'Not default'].shape[0] / Y_train.shape[0])"
   ]
  },
  {
   "cell_type": "code",
   "execution_count": 44,
   "metadata": {
    "pycharm": {
     "name": "#%%\n"
    }
   },
   "outputs": [
    {
     "data": {
      "text/plain": [
       "0.755"
      ]
     },
     "execution_count": 44,
     "metadata": {},
     "output_type": "execute_result"
    }
   ],
   "source": [
    "# Fit and score your model\n",
    "clf_logistic_regression.fit(X_train, Y_train)\n",
    "clf_logistic_regression.score(X_test, Y_test)"
   ]
  },
  {
   "cell_type": "code",
   "execution_count": 45,
   "metadata": {
    "pycharm": {
     "name": "#%%\n"
    }
   },
   "outputs": [],
   "source": [
    "# Prepare data to upload on Giskard\n",
    "train_data = pd.concat([X_train, Y_train], axis=1)\n",
    "test_data = pd.concat([X_test, Y_test ], axis=1)"
   ]
  },
  {
   "cell_type": "markdown",
   "metadata": {
    "pycharm": {
     "name": "#%% md\n"
    }
   },
   "source": [
    "# Upload the model in Giskard 🚀🚀🚀"
   ]
  },
  {
   "cell_type": "markdown",
   "metadata": {
    "pycharm": {
     "name": "#%% md\n"
    }
   },
   "source": [
    "### Initiate a project"
   ]
  },
  {
   "cell_type": "code",
   "execution_count": 42,
   "metadata": {
    "pycharm": {
     "name": "#%%\n"
    }
   },
   "outputs": [],
   "source": [
    "from giskard import GiskardClient\n",
    "\n",
    "url = \"http://localhost:19000\" #if Giskard is installed locally (for installation, see: https://docs.giskard.ai/start/guides/installation)\n",
    "#url = \"http://app.giskard.ai\" # If you want to upload on giskard URL\n",
    "token = \"YOUR GENERATED TOKEN\" #you can generate your API token in the Admin tab of the Giskard application (for installation, see: https://docs.giskard.ai/start/guides/installation)\n",
    "\n",
    "client = GiskardClient(url, token)\n",
    "\n",
    "# your_project = client.create_project(\"project_key\", \"PROJECT_NAME\", \"DESCRIPTION\")\n",
    "# Choose the arguments you want. But \"project_key\" should be unique and in lower case\n",
    "credit_scoring = client.create_project(\"credit_scoring\", \"German Credit Scoring\", \"Project to predict if user will default\")\n",
    "\n",
    "# If you've already created a project with the key \"credit-scoring\" use\n",
    "#credit_scoring = client.get_project(\"credit_scoring\")\n"
   ]
  },
  {
   "cell_type": "markdown",
   "metadata": {
    "pycharm": {
     "name": "#%% md\n"
    }
   },
   "source": [
    "### Upload your model and a dataset (see [documentation](https://docs.giskard.ai/start/guides/upload-your-model))"
   ]
  },
  {
   "cell_type": "code",
   "execution_count": null,
   "metadata": {
    "pycharm": {
     "name": "#%%\n"
    }
   },
   "outputs": [],
   "source": [
    "credit_scoring.upload_model_and_df(\n",
    "    prediction_function=clf_logistic_regression.predict_proba, # Python function which takes pandas dataframe as input and returns probabilities for classification model OR returns predictions for regression model\n",
    "    model_type='classification', # \"classification\" for classification model OR \"regression\" for regression model\n",
    "    df=test_data, # the dataset you want to use to inspect your model\n",
    "    column_types=column_types, # A dictionary with columns names of df as key and types(category, numeric, text) of columns as values\n",
    "    target='default', # The column name in df corresponding to the actual target variable (ground truth).\n",
    "    feature_names=list(feature_types.keys()), # List of the feature names of prediction_function\n",
    "    classification_labels=clf_logistic_regression.classes_ ,  # List of the classification labels of your prediction\n",
    "    model_name='logistic_regression_v1', # Name of the model\n",
    "    dataset_name='test_data' # Name of the dataset\n",
    ")"
   ]
  },
  {
   "cell_type": "markdown",
   "metadata": {
    "pycharm": {
     "name": "#%% md\n"
    }
   },
   "source": [
    "### 🌟 If you want to upload a dataset without a model\n",
    "\n",
    "\n",
    "\n",
    "\n"
   ]
  },
  {
   "cell_type": "markdown",
   "metadata": {
    "pycharm": {
     "name": "#%% md\n"
    }
   },
   "source": [
    "For example, let's upload the train set in Giskard, this is key to create drift tests in Giskard.\n"
   ]
  },
  {
   "cell_type": "code",
   "execution_count": null,
   "metadata": {
    "pycharm": {
     "name": "#%%\n"
    }
   },
   "outputs": [],
   "source": [
    "credit_scoring.upload_df(\n",
    "    df=train_data, # The dataset you want to upload\n",
    "    column_types=column_types, # All the column types of df\n",
    "    target=\"default\", # Do not pass this parameter if dataset doesn't contain target column\n",
    "    name=\"train_data\" # Name of the dataset\n",
    ")"
   ]
  },
  {
   "cell_type": "markdown",
   "metadata": {
    "pycharm": {
     "name": "#%% md\n"
    }
   },
   "source": [
    "You can also upload new production data to use it as a validation set for your existing model. In that case, you might not have the ground truth target variable"
   ]
  },
  {
   "cell_type": "code",
   "execution_count": null,
   "metadata": {
    "pycharm": {
     "name": "#%%\n"
    }
   },
   "outputs": [],
   "source": [
    "production_data = credit.drop(columns=\"default\")"
   ]
  },
  {
   "cell_type": "code",
   "execution_count": null,
   "metadata": {
    "pycharm": {
     "name": "#%%\n"
    }
   },
   "outputs": [],
   "source": [
    "credit_scoring.upload_df(\n",
    "    df=production_data, # The dataset you want to upload\n",
    "    column_types=feature_types, # All the column types without the target\n",
    "    name=\"production_data\"# Name of the dataset\n",
    ")"
   ]
  },
  {
   "cell_type": "markdown",
   "metadata": {
    "pycharm": {
     "name": "#%% md\n"
    }
   },
   "source": []
  },
  {
   "cell_type": "markdown",
   "metadata": {
    "pycharm": {
     "name": "#%% md\n"
    }
   },
   "source": [
    "### 🌟 If you just want to upload a model without a dataframe \n",
    "\n",
    "This happens for instance when you built a new version of the model and you want to inspect it using a validation dataframe that is already in Giskard\n",
    "\n",
    "For example, let's create a second version of the model using random forest"
   ]
  },
  {
   "cell_type": "code",
   "execution_count": null,
   "metadata": {
    "pycharm": {
     "name": "#%%\n"
    }
   },
   "outputs": [],
   "source": [
    "clf_random_forest = Pipeline(steps=[('preprocessor', preprocessor),\n",
    "                      ('classifier', RandomForestClassifier(max_depth=10,random_state=0))])\n",
    "\n",
    "clf_random_forest.fit(X_train, Y_train)\n",
    "clf_random_forest.score(X_test, Y_test)"
   ]
  },
  {
   "cell_type": "code",
   "execution_count": null,
   "metadata": {
    "pycharm": {
     "name": "#%%\n"
    }
   },
   "outputs": [],
   "source": [
    "credit_scoring.upload_model(\n",
    "    prediction_function=clf_random_forest.predict_proba, # Python function which takes pandas dataframe as input and returns probabilities for classification model OR returns predictions for regression model\n",
    "    model_type='classification', # \"classification\" for classification model OR \"regression\" for regression model\n",
    "    feature_names=list(feature_types.keys()), # List of the feature names of prediction_function\n",
    "    name='random_forest', # Name of the model\n",
    "    validate_df=train_data, # Optional. Validation df is not uploaded in the app, it's only used to check whether the model has the good format\n",
    "    target=\"default\", # Optional. target should be a column of validate_df. Pass this parameter only if validate_df is being passed\n",
    "    classification_labels=[\"Default\",\"Not default\"] # List of the classification labels of your prediction\n",
    "\n",
    ")"
   ]
  },
  {
   "cell_type": "markdown",
   "metadata": {
    "cell_id": "c49894d61f544e8f88030b7be8078c6b",
    "deepnote_app_coordinates": {
     "h": 5,
     "w": 12,
     "x": 0,
     "y": 96
    },
    "deepnote_cell_height": 62,
    "deepnote_cell_type": "markdown",
    "id": "DGQ50rUN7xbe",
    "pycharm": {
     "name": "#%% md\n"
    },
    "tags": []
   },
   "source": [
    "### Happy Exploration ! 🧑‍🚀"
   ]
  }
 ],
 "metadata": {
  "colab": {
   "collapsed_sections": [],
   "name": "German_credit_scoring_giskard (2).ipynb",
   "provenance": []
  },
  "deepnote": {
   "is_reactive": false
  },
  "deepnote_app_layout": "article",
  "deepnote_execution_queue": [],
  "deepnote_notebook_id": "6e7ea85d-f19e-4d05-90a4-44b7668fd037",
  "kernelspec": {
   "display_name": "Python 3 (ipykernel)",
   "language": "python",
   "name": "python3"
  },
  "language_info": {
   "codemirror_mode": {
    "name": "ipython",
    "version": 3
   },
   "file_extension": ".py",
   "mimetype": "text/x-python",
   "name": "python",
   "nbconvert_exporter": "python",
   "pygments_lexer": "ipython3",
   "version": "3.9.12"
  }
 },
 "nbformat": 4,
 "nbformat_minor": 1
}
